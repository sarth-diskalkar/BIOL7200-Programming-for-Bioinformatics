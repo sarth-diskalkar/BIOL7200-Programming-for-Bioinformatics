{
 "cells": [
  {
   "cell_type": "markdown",
   "id": "05ce8689-29a8-416c-bc0b-24aba73e2915",
   "metadata": {},
   "source": [
    "# try except\n",
    "\n",
    "`try` and `except` are keywords in Python which are used in a similar syntax to that of `if` and `else` respectively. We're going to talk about two ways that you can use `try` and `except` in your code: handling exceptions, and debugging.\n",
    "\n",
    "## Handling exceptions\n",
    "\n",
    "Exceptions are the primary way that Python handles errors. Whenever you have seen an error message where Python tells you that something went wrong as well as where the problem was, you are looking at the result of and exception being raised. Let's take a look at an exception being raised and then see how we can \"handle\" that exception using `try` and `except`."
   ]
  },
  {
   "cell_type": "code",
   "execution_count": 1,
   "id": "245f5704-4317-4291-aa44-ec53c1deb3c9",
   "metadata": {},
   "outputs": [
    {
     "ename": "KeyError",
     "evalue": "3",
     "output_type": "error",
     "traceback": [
      "\u001b[0;31m---------------------------------------------------------------------------\u001b[0m",
      "\u001b[0;31mKeyError\u001b[0m                                  Traceback (most recent call last)",
      "Cell \u001b[0;32mIn[1], line 8\u001b[0m\n\u001b[1;32m      6\u001b[0m fruits \u001b[38;5;241m=\u001b[39m []\n\u001b[1;32m      7\u001b[0m \u001b[38;5;28;01mfor\u001b[39;00m i \u001b[38;5;129;01min\u001b[39;00m \u001b[38;5;28mrange\u001b[39m(\u001b[38;5;241m1\u001b[39m, \u001b[38;5;241m5\u001b[39m):\n\u001b[0;32m----> 8\u001b[0m     fruits\u001b[38;5;241m.\u001b[39mappend(\u001b[43mfruit_dict\u001b[49m\u001b[43m[\u001b[49m\u001b[43mi\u001b[49m\u001b[43m]\u001b[49m)\n\u001b[1;32m     10\u001b[0m \u001b[38;5;28mprint\u001b[39m(fruits)\n",
      "\u001b[0;31mKeyError\u001b[0m: 3"
     ]
    }
   ],
   "source": [
    "fruit_dict = {\n",
    "    1: \"apple\",\n",
    "    2: \"banana\",\n",
    "    4: \"date\"\n",
    "}\n",
    "fruits = []\n",
    "for i in range(1, 5):\n",
    "    fruits.append(fruit_dict[i])\n",
    "\n",
    "print(fruits)"
   ]
  },
  {
   "cell_type": "markdown",
   "id": "e6803c05-82db-4472-8420-ede9f36de1c4",
   "metadata": {},
   "source": [
    "As you can see, we tried to look up a key that did not exist in a `dict` and Python threw an error. The `print()` command after the loop did not run because Python exited as a result of the error. Now let's use `try` and `except` to see what they change about the above."
   ]
  },
  {
   "cell_type": "code",
   "execution_count": 2,
   "id": "8e89f3c4-c4c0-4f33-b3a0-8157dd5e3656",
   "metadata": {},
   "outputs": [
    {
     "name": "stdout",
     "output_type": "stream",
     "text": [
      "['apple', 'banana', 'date']\n"
     ]
    }
   ],
   "source": [
    "fruits = []\n",
    "for i in range(1, 5):\n",
    "    try:\n",
    "        fruits.append(fruit_dict[i])\n",
    "    except:\n",
    "        pass\n",
    "        \n",
    "print(fruits)"
   ]
  },
  {
   "cell_type": "markdown",
   "id": "a2914351-6c59-439f-abf8-f443591680ca",
   "metadata": {},
   "source": [
    "As a result of putting our `dict` lookup operation within a `try` block, Python attempts to run the `dict` lookup. If the lookup fails, the `except` block is executed instead. In the above code, the `except` block is simply a `pass` statement so nothing happens. As a result, all of the successfuly `dict` lookups were performed and those that didn't work were skipped. The loop completed and the `print()` command ran.\n",
    "\n",
    "The above is a basic \"handling\" of an exception. It allows us to ignore errors in chunks of code that we expect to fail sometimes so that the program can simply proceed with the data that worked. This is very handy if you just want your script to run on whatever it can and not to worry about the rest. However, it's not ideal, as you are suppressing **_all_** errors, so you won't be informed if any errors occur, regardless of what kind of error it was.\n",
    "\n",
    "We can also ignore specific kinds of errors, but let others be raised as normal. For example, in the above code, we get a `KeyError` when trying to look up keys that don't exist. We can change our code to only handle those exceptions, but to raise others as normal."
   ]
  },
  {
   "cell_type": "code",
   "execution_count": 3,
   "id": "17fed97a-99bd-4fef-a32e-abd19eea890f",
   "metadata": {},
   "outputs": [
    {
     "name": "stdout",
     "output_type": "stream",
     "text": [
      "['apple', 'banana', 'date']\n"
     ]
    }
   ],
   "source": [
    "fruits = []\n",
    "for i in range(1, 5):\n",
    "    try:\n",
    "        fruits.append(fruit_dict[i])\n",
    "    except KeyError:\n",
    "        pass\n",
    "        \n",
    "print(fruits)"
   ]
  },
  {
   "cell_type": "markdown",
   "id": "62d783fd-e614-48e4-80d5-87d2e72cfd69",
   "metadata": {},
   "source": [
    "At first glance, the output looks identical, but now let's cause a different error by changing \"fruits\" to not be a `list`. That will throw a `AttributeError` when we try to use `.append()` as `int` doesn't have a `.append()` method. First let's use `except` without a named exception type, then let's try with the named exception type to see how it differs."
   ]
  },
  {
   "cell_type": "code",
   "execution_count": 4,
   "id": "aa31d2a2-42d4-4762-aef1-fdf17b0bebbb",
   "metadata": {},
   "outputs": [
    {
     "name": "stdout",
     "output_type": "stream",
     "text": [
      "0\n"
     ]
    }
   ],
   "source": [
    "fruits = 0\n",
    "for i in range(1, 5):\n",
    "    try:\n",
    "        fruits.append(fruit_dict[i])\n",
    "    except:\n",
    "        pass\n",
    "        \n",
    "print(fruits)"
   ]
  },
  {
   "cell_type": "markdown",
   "id": "3bd0d90b-74a4-4763-8103-449dc1a61700",
   "metadata": {},
   "source": [
    "As you can see, `except` without a named exception allows the code to proceed even though the code in the `try` block failed every time. We did not see an error message, so we might not realize that we had an error. If we instead specify the type of exception we want to handle, we can only ignore that specific type of error. This is helpful if you want to proceed differently depending on exactly what the error was."
   ]
  },
  {
   "cell_type": "code",
   "execution_count": 5,
   "id": "e852e8b4-5a46-4c7e-a245-3d0e2d9bed7d",
   "metadata": {},
   "outputs": [
    {
     "ename": "AttributeError",
     "evalue": "'int' object has no attribute 'append'",
     "output_type": "error",
     "traceback": [
      "\u001b[0;31m---------------------------------------------------------------------------\u001b[0m",
      "\u001b[0;31mAttributeError\u001b[0m                            Traceback (most recent call last)",
      "Cell \u001b[0;32mIn[5], line 4\u001b[0m\n\u001b[1;32m      2\u001b[0m \u001b[38;5;28;01mfor\u001b[39;00m i \u001b[38;5;129;01min\u001b[39;00m \u001b[38;5;28mrange\u001b[39m(\u001b[38;5;241m1\u001b[39m, \u001b[38;5;241m5\u001b[39m):\n\u001b[1;32m      3\u001b[0m     \u001b[38;5;28;01mtry\u001b[39;00m:\n\u001b[0;32m----> 4\u001b[0m         \u001b[43mfruits\u001b[49m\u001b[38;5;241;43m.\u001b[39;49m\u001b[43mappend\u001b[49m(fruit_dict[i])\n\u001b[1;32m      5\u001b[0m     \u001b[38;5;28;01mexcept\u001b[39;00m \u001b[38;5;167;01mKeyError\u001b[39;00m:\n\u001b[1;32m      6\u001b[0m         \u001b[38;5;28;01mpass\u001b[39;00m\n",
      "\u001b[0;31mAttributeError\u001b[0m: 'int' object has no attribute 'append'"
     ]
    }
   ],
   "source": [
    "fruits = 0\n",
    "for i in range(1, 5):\n",
    "    try:\n",
    "        fruits.append(fruit_dict[i])\n",
    "    except KeyError:\n",
    "        pass\n",
    "        \n",
    "print(fruits)"
   ]
  },
  {
   "cell_type": "markdown",
   "id": "6254127a-d1f4-4c40-b87c-380c95f6d345",
   "metadata": {},
   "source": [
    "Now we are not handling the `AttributeError`, but instead letting it cause Python to exit. The `KeyError`s are handled by executing the `except` block whenever those arise. However, out `except` block is only run when the specific, named exception occurs.\n",
    "\n",
    "We can also name multiple exceptions by using a `tuple` of exception types. Let's show that we can name both the exceptions occurring here to allow us to proceed beyond the problematic line."
   ]
  },
  {
   "cell_type": "code",
   "execution_count": 6,
   "id": "e124ff54-7da0-49b8-81c3-63e3c364d2ff",
   "metadata": {},
   "outputs": [
    {
     "name": "stdout",
     "output_type": "stream",
     "text": [
      "0\n"
     ]
    }
   ],
   "source": [
    "fruits = 0\n",
    "for i in range(1, 5):\n",
    "    try:\n",
    "        fruits.append(fruit_dict[i])\n",
    "    except (KeyError, AttributeError):\n",
    "        pass\n",
    "        \n",
    "print(fruits)"
   ]
  },
  {
   "cell_type": "markdown",
   "id": "42e6eee5-5960-4237-bffb-8f1031d11b6b",
   "metadata": {},
   "source": [
    "Of course, \"handling\" an error is not usually as simple as skipping problematic entries. You might instead want to log information about the issue or exit gracefully by writing what you've done so far to a file. The specifics of how you will want to handle errors will depend upon your specific situation.\n",
    "\n",
    "## Debugging\n",
    "\n",
    "When you are in the process of developing a script, you will sometimes find that you get an error, but don't know why. Python error messages are helpful in that they will tell you the file in which the error occurred (main script or module), the line where the problem is found, and the value that cause the operation. However, if you are working with a complex dataset, you may not know exactly where problematic values are coming from. In cases like that, a helpful way to use `try` and `except` is to take advantage of the ability to prevent your script from exiting, and instead print the value of relevant variables. For example:"
   ]
  },
  {
   "cell_type": "code",
   "execution_count": 7,
   "id": "29f2bb68-6d4b-4cb6-ad8e-1563d458bce8",
   "metadata": {},
   "outputs": [
    {
     "name": "stdout",
     "output_type": "stream",
     "text": [
      "tried to lookup 3, but keys are dict_keys([1, 2, 4])\n",
      "['apple', 'banana', 'date']\n"
     ]
    }
   ],
   "source": [
    "fruits = [] # making this a list again to have just one error\n",
    "for i in range(1, 5):\n",
    "    try:\n",
    "        fruit = fruit_dict[i]\n",
    "        fruits.append(fruit)\n",
    "    except KeyError:\n",
    "        print(f\"tried to lookup {i}, but keys are {fruit_dict.keys()}\")\n",
    "        \n",
    "print(fruits)"
   ]
  },
  {
   "cell_type": "markdown",
   "id": "0f10f2cd-3569-4893-846e-39550790de73",
   "metadata": {},
   "source": [
    "You can also have multiple except blocks to handle different exceptions and print different data depending on what went wrong."
   ]
  },
  {
   "cell_type": "code",
   "execution_count": 8,
   "id": "d0d270ed-c5cf-4b8c-a51a-81ff47554c58",
   "metadata": {},
   "outputs": [
    {
     "name": "stdout",
     "output_type": "stream",
     "text": [
      "i is of type <class 'int'>\n",
      "i is of type <class 'int'>\n",
      "tried to lookup 3, but keys are dict_keys([1, 2, 4])\n",
      "i is of type <class 'int'>\n",
      "0\n"
     ]
    }
   ],
   "source": [
    "fruits = 0\n",
    "for i in range(1, 5):\n",
    "    try:\n",
    "        fruit = fruit_dict[i]\n",
    "        fruits.append(fruit)\n",
    "    except KeyError:\n",
    "        print(f\"tried to lookup {i}, but keys are {fruit_dict.keys()}\")\n",
    "    except AttributeError:\n",
    "        print(f\"i is of type {type(i)}\")\n",
    "        \n",
    "print(fruits)"
   ]
  },
  {
   "cell_type": "markdown",
   "id": "ac52e145-0689-4b5b-a7d0-4b04a93a97d2",
   "metadata": {},
   "source": [
    "`try` and `except` are powerful tools for controlling how your code behaves when things go wrong. They are an important tool to allow you to handle specific errors by not exiting your program, but instead responding to the error in a different way, if it is appropriate to do so.\n",
    "\n",
    "Additionally, `try` and `except` are a great way to quickly debug your code to see where things are going wrong. In addition, if you are working in an environment that allows it, you may prefer using the debugger functionality of some IDEs, [like VS Code](https://code.visualstudio.com/docs/editor/debugging)."
   ]
  }
 ],
 "metadata": {
  "kernelspec": {
   "display_name": "Python 3 (ipykernel)",
   "language": "python",
   "name": "python3"
  },
  "language_info": {
   "codemirror_mode": {
    "name": "ipython",
    "version": 3
   },
   "file_extension": ".py",
   "mimetype": "text/x-python",
   "name": "python",
   "nbconvert_exporter": "python",
   "pygments_lexer": "ipython3",
   "version": "3.11.5"
  }
 },
 "nbformat": 4,
 "nbformat_minor": 5
}
