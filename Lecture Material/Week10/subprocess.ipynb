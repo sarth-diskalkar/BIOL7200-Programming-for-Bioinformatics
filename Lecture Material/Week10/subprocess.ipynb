{
 "cells": [
  {
   "cell_type": "markdown",
   "id": "08bb9900-6182-49a7-a4c1-c8ce567eb1f7",
   "metadata": {},
   "source": [
    "# Subprocess\n",
    "\n",
    "You can write code to perform many tasks in Python. However, it is much to use tools that someone else has already made instead of writing everything yourself. In a previous week, we covered how you can use Python packages and modules to use code written by yourself or others in any Python script. But what about when you want to run other command line applications outside of Python? In those cases you can use the Python module, \"subprocess\", to run those command line applications and store their output.\n",
    "\n",
    "## run\n",
    "\n",
    "[The subprocess module](https://docs.python.org/3/library/subprocess.html) includes a range of functionality for creating and checking the output of processes. For this demonstration, we are going to stick with the basic functionality of `subprocess.run()`. There are other functions which provide more control and options, but `run()` is typically going to be all you need. \n",
    "\n",
    "`run()` takes a list of arguments as well as any optional settings you want to provide. It runs the command made by combining the provided arguments, waits for the command to finish executing, and then returns a class called `CompletedProcess` which has a range of attributes that allow you to interact with the output of the command.\n",
    "\n",
    "A basic `subprocess.run()` command looks like this (note the command to run is a `list` of `str` instances):"
   ]
  },
  {
   "cell_type": "code",
   "execution_count": 1,
   "id": "33dd1488-4d95-44f9-9e24-759c5e198305",
   "metadata": {},
   "outputs": [
    {
     "name": "stdout",
     "output_type": "stream",
     "text": [
      "subprocess.ipynb\n",
      "CompletedProcess(args=['ls'], returncode=0)\n"
     ]
    }
   ],
   "source": [
    "import subprocess\n",
    "\n",
    "result = subprocess.run([\"ls\"])\n",
    "\n",
    "print(result)"
   ]
  },
  {
   "cell_type": "markdown",
   "id": "e3cd2588-0b96-436a-8620-c01ec4bffaec",
   "metadata": {},
   "source": [
    "The `CompletedProcess` print out tells us that the command `ls` was run and produced an exitcode (or returncode here) of 0, meaning it ran successfully. \n",
    "\n",
    "However, we don't see the contents of our directory. That's because the default behaviour of `subprocess.run()` is simply to run the command and return whether it worked or not (via the returncode). In the case of `ls`, that isn't what we want. We'll come back to that. First, let's show that `subprocess.run()` is actually running the command it claims to be."
   ]
  },
  {
   "cell_type": "code",
   "execution_count": 2,
   "id": "dd5a0a4b-0239-487e-a420-94e3c18229ec",
   "metadata": {},
   "outputs": [
    {
     "name": "stdout",
     "output_type": "stream",
     "text": [
      "CompletedProcess(args=['touch', 'a_file.txt'], returncode=0)\n"
     ]
    }
   ],
   "source": [
    "result = subprocess.run([\"touch\", \"a_file.txt\"])\n",
    "\n",
    "print(result)"
   ]
  },
  {
   "cell_type": "markdown",
   "id": "7c828888-1075-432b-b410-32e25945af5f",
   "metadata": {},
   "source": [
    "Again, we can see a description of our command as well as a return code. If you look at the contents of your current directory, you will also see the product of the executed command, \"a_file.txt\".\n",
    "\n",
    "## Getting stdout and stderr\n",
    "\n",
    "So, `subprocess.run()` does indeed run the command you give it. What about getting the output of the command? To do that you just need to tell `subprocess.run()` to capture the output of the command. You can do that with the aptly named option \"capture_output\""
   ]
  },
  {
   "cell_type": "code",
   "execution_count": 3,
   "id": "f7a8b594-3b3b-47cb-a676-0208d472e894",
   "metadata": {},
   "outputs": [
    {
     "name": "stdout",
     "output_type": "stream",
     "text": [
      "CompletedProcess(args=['ls'], returncode=0, stdout=b'a_file.txt\\nsubprocess.ipynb\\n', stderr=b'')\n"
     ]
    }
   ],
   "source": [
    "result = subprocess.run([\"ls\"], capture_output=True)\n",
    "\n",
    "print(result)"
   ]
  },
  {
   "cell_type": "markdown",
   "id": "09179799-1297-4461-b1a3-f2af398de48e",
   "metadata": {},
   "source": [
    "Now our `CompletedProcess` instance has two new attributes, stdout and stderr. We can see that both of those attributes have values associated with them that look like what we would expect. However, there is something weird about them - they look like `str` instances in that they have quotes around them, but they have the letter \"b\" before the first quote. That \"b\" tells you that what looks like a `str` is actually a `bytes`. We can see that by printing the `type()` of the stdout"
   ]
  },
  {
   "cell_type": "code",
   "execution_count": 4,
   "id": "3e5e82cd-05ce-47e8-a48d-b54d1eacfbe2",
   "metadata": {},
   "outputs": [
    {
     "name": "stdout",
     "output_type": "stream",
     "text": [
      "<class 'bytes'>\n"
     ]
    }
   ],
   "source": [
    "print(type(result.stdout))"
   ]
  },
  {
   "cell_type": "markdown",
   "id": "49f20d54-e911-4981-b74b-a2902043f79c",
   "metadata": {},
   "source": [
    "You can read a bit about `bytes` objects [in the Python docs](https://docs.python.org/3/library/stdtypes.html#bytes). We won't discuss them here as we won't be using them and they are outside the scope of this course.\n",
    "\n",
    "If you want the stdout to be interpretted as a `str` instead of a `bytes` object, you can turn on that setting in the `subprocess.run()` call using the \"text\" option"
   ]
  },
  {
   "cell_type": "code",
   "execution_count": 5,
   "id": "081d8ed4-9865-44f1-83d0-104ee362adc4",
   "metadata": {},
   "outputs": [
    {
     "name": "stdout",
     "output_type": "stream",
     "text": [
      "CompletedProcess(args=['ls'], returncode=0, stdout='a_file.txt\\nsubprocess.ipynb\\n', stderr='')\n"
     ]
    }
   ],
   "source": [
    "result = subprocess.run([\"ls\"], capture_output=True, text=True)\n",
    "\n",
    "print(result)"
   ]
  },
  {
   "cell_type": "markdown",
   "id": "727630c9-5e84-4bd9-bcbc-ab4a620403e2",
   "metadata": {},
   "source": [
    "We can now interact with the stdout of the called process just like any other Python `str` object."
   ]
  },
  {
   "cell_type": "code",
   "execution_count": 6,
   "id": "969164ea-e08d-43d2-b03b-eb3ac1d61f6e",
   "metadata": {},
   "outputs": [
    {
     "name": "stdout",
     "output_type": "stream",
     "text": [
      "<class 'str'>\n",
      "['a_file.txt', 'subprocess.ipynb']\n"
     ]
    }
   ],
   "source": [
    "stdout = result.stdout\n",
    "\n",
    "print(type(stdout))\n",
    "\n",
    "print(stdout.split())"
   ]
  },
  {
   "cell_type": "markdown",
   "id": "7a84eab1-4aec-4bcb-bee3-273c656d69ce",
   "metadata": {},
   "source": [
    "The same is true of stderr. In the above outputs, stderr is empty because `ls` ran successfully. However, if we run `ls` in such a way that it throws an error, the stderr attribute will contain that error message"
   ]
  },
  {
   "cell_type": "code",
   "execution_count": 7,
   "id": "0b8363f1-756d-44af-acc6-f6cb82dff787",
   "metadata": {},
   "outputs": [
    {
     "name": "stdout",
     "output_type": "stream",
     "text": [
      "CompletedProcess(args=['ls', 'not_a_path'], returncode=2, stdout='', stderr=\"ls: cannot access 'not_a_path': No such file or directory\\n\")\n"
     ]
    }
   ],
   "source": [
    "result = subprocess.run([\"ls\", \"not_a_path\"], capture_output=True, text=True)\n",
    "\n",
    "print(result)"
   ]
  },
  {
   "cell_type": "markdown",
   "id": "68a6de44-145a-4fc8-8476-2ac0adf81fb0",
   "metadata": {},
   "source": [
    "## shell\n",
    "\n",
    "When we use subprocess as above to run command line applications, we are doing so by using subprocess to directly execute the command. If instead, we want to use our shell to run the command in order to gain access to shell-specific functionality such as shell variables, globs, and pipes, we need to tell subprocess to use shell mode. Note that using this mode is often recommended strongly against. However, if you are just using your scripts yourself, the danger is no different than if you were running commands in your terminal. Basically, don't run `rm` commands without taking great care to ensure they won't delete all of your stuff.\n",
    "\n",
    "First, what happens if we try to pipe the output of a command to another command?"
   ]
  },
  {
   "cell_type": "code",
   "execution_count": 8,
   "id": "ec7938fe-b9f5-4bb8-9f19-b06ae32af756",
   "metadata": {},
   "outputs": [
    {
     "name": "stdout",
     "output_type": "stream",
     "text": [
      "CompletedProcess(args=['echo', 'hello', '|', 'sed', \"'s/ell/arib/'\"], returncode=0, stdout=\"hello | sed 's/ell/arib/'\\n\", stderr='')\n"
     ]
    }
   ],
   "source": [
    "result = subprocess.run([\"echo\", \"hello\", \"|\", \"sed\", \"'s/ell/arib/'\"], capture_output=True, text=True)\n",
    "\n",
    "print(result)"
   ]
  },
  {
   "cell_type": "markdown",
   "id": "8096d500-b7a0-467f-8eda-300d5d2c1740",
   "metadata": {},
   "source": [
    "That stdout shows that `echo` received the entire pipeline as its input. That's not what we wanted. What about with shell mode?"
   ]
  },
  {
   "cell_type": "code",
   "execution_count": 9,
   "id": "9a0d218c-df1e-4467-8ffd-5852c4e6eb27",
   "metadata": {},
   "outputs": [
    {
     "name": "stdout",
     "output_type": "stream",
     "text": [
      "CompletedProcess(args=\"echo hello | sed 's/ell/arib/'\", returncode=0, stdout='haribo\\n', stderr='')\n"
     ]
    }
   ],
   "source": [
    "result = subprocess.run(\"echo hello | sed 's/ell/arib/'\", capture_output=True, text=True, shell=True)\n",
    "\n",
    "print(result)"
   ]
  },
  {
   "cell_type": "markdown",
   "id": "b893dac6-81da-4f4f-9961-2f467070366e",
   "metadata": {},
   "source": [
    "As you can see, to use shell mode we needed to make 2 changes. First, the command needed to be a single `str` rather than a `list` of `str`. Second, we needed to provide the argument \"shell=True\". Once we did that, it worked as expected.\n",
    "\n",
    "## providing input to subprocess calls\n",
    "\n",
    "Sometimes you will want to use subprocess to run a command that will depend on some variable in your Python environment. there are two ways you might want to do this: by using your variable as part of the command, or by providing that contents of your variable as input as if it were the stdin to the command. Let's take a look at how both of those would work."
   ]
  },
  {
   "cell_type": "code",
   "execution_count": 10,
   "id": "7611680f-3cef-443d-bb41-04b6ee37e51b",
   "metadata": {},
   "outputs": [
    {
     "name": "stdout",
     "output_type": "stream",
     "text": [
      "CompletedProcess(args=['ls', '../'], returncode=0, stdout='10\\n2\\n3\\n5\\n6\\n7\\n8\\n', stderr='')\n"
     ]
    }
   ],
   "source": [
    "path = \"../\"\n",
    "\n",
    "result = subprocess.run([\"ls\", path], capture_output=True, text=True)\n",
    "\n",
    "print(result)"
   ]
  },
  {
   "cell_type": "markdown",
   "id": "b7156662-d14c-4b22-aa1f-fe7258b1fe4b",
   "metadata": {},
   "source": [
    "As you can see, the variable's content was incorporated into the command. This approach is useful whenever you want to programatically run shell commands using data from within your Python script.\n",
    "\n",
    "The other way you can insert data from your Python session into subprocess calls is as the stdin. This can be done using \"input\""
   ]
  },
  {
   "cell_type": "code",
   "execution_count": 11,
   "id": "79273120-602d-4af8-b2b8-077dbe515060",
   "metadata": {},
   "outputs": [
    {
     "name": "stdout",
     "output_type": "stream",
     "text": [
      "CompletedProcess(args=['cut', '-f1'], returncode=0, stdout='col1\\n', stderr='')\n"
     ]
    }
   ],
   "source": [
    "data = \"col1\\tcol2\\tcol3\\n\"\n",
    "\n",
    "result = subprocess.run([\"cut\", \"-f1\"], capture_output=True, text=True, input=data)\n",
    "\n",
    "print(result)"
   ]
  },
  {
   "cell_type": "markdown",
   "id": "e79543e7-73ef-4ed7-a9cd-02fec448dbee",
   "metadata": {},
   "source": [
    "As you can see, we used the `cut` command to extract just the first column of our data. We didn't need to provide `cut` a filepath as input because it recieved stdin from subprocess."
   ]
  }
 ],
 "metadata": {
  "kernelspec": {
   "display_name": "Python 3 (ipykernel)",
   "language": "python",
   "name": "python3"
  },
  "language_info": {
   "codemirror_mode": {
    "name": "ipython",
    "version": 3
   },
   "file_extension": ".py",
   "mimetype": "text/x-python",
   "name": "python",
   "nbconvert_exporter": "python",
   "pygments_lexer": "ipython3",
   "version": "3.11.5"
  }
 },
 "nbformat": 4,
 "nbformat_minor": 5
}
