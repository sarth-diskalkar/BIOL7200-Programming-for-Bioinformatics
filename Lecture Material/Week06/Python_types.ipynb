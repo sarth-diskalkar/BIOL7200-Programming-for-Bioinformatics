{
 "cells": [
  {
   "cell_type": "markdown",
   "id": "48033ebe",
   "metadata": {},
   "source": [
    "# Intro to Python\n",
    "\n",
    "## Python Classes\n",
    "\n",
    "There are several built-in Python classes. We won't discuss all the built-in classes in this course. However, some of the most useful will be illustrated in this demonstration.\n",
    "\n",
    "### Strings\n",
    "\n",
    "Strings (class name: `str`) are a data type which can store characters. Strings have a couple of properties that you should know:\n",
    "* They are ordered. The position of each character within the string is meaningful and can be refered to.\n",
    "* They are immutable. Any modifications you make to a string require copying all data.\n",
    "\n",
    "Strings support the operations you would expect:"
   ]
  },
  {
   "cell_type": "code",
   "execution_count": 1,
   "id": "3ee3baae",
   "metadata": {},
   "outputs": [
    {
     "data": {
      "text/plain": [
       "'a frog on a log'"
      ]
     },
     "execution_count": 1,
     "metadata": {},
     "output_type": "execute_result"
    }
   ],
   "source": [
    " # store a string in variable frog\n",
    "frog = \"a frog on a log\"\n",
    "frog"
   ]
  },
  {
   "cell_type": "code",
   "execution_count": 2,
   "id": "06812f4f",
   "metadata": {},
   "outputs": [
    {
     "data": {
      "text/plain": [
       "'a frog on a log in a pond'"
      ]
     },
     "execution_count": 2,
     "metadata": {},
     "output_type": "execute_result"
    }
   ],
   "source": [
    "# Concatenation - combining two strings\n",
    "frog_pond = frog + ' in a pond' # Note single or double quotes can be used\n",
    "frog_pond"
   ]
  },
  {
   "cell_type": "markdown",
   "id": "549d81d7",
   "metadata": {},
   "source": [
    "We'll stick with our original variable, `frog` for the following examples"
   ]
  },
  {
   "cell_type": "code",
   "execution_count": 3,
   "id": "ac6ce33b",
   "metadata": {},
   "outputs": [
    {
     "data": {
      "text/plain": [
       "'a'"
      ]
     },
     "execution_count": 3,
     "metadata": {},
     "output_type": "execute_result"
    }
   ],
   "source": [
    "# Indexing - extracting individual or ranges of elements\n",
    "# Indexes are specified using square brackets\n",
    "frog[0] # Note counting starts at 0 (called zero-base numbering)"
   ]
  },
  {
   "cell_type": "code",
   "execution_count": 4,
   "id": "b7d7774e",
   "metadata": {},
   "outputs": [
    {
     "data": {
      "text/plain": [
       "'frog'"
      ]
     },
     "execution_count": 4,
     "metadata": {},
     "output_type": "execute_result"
    }
   ],
   "source": [
    "# Ranges of indices are called a \"slice\"\n",
    "# Format is [<start>:<stop>:<step>]\n",
    "frog[2:6]"
   ]
  },
  {
   "cell_type": "code",
   "execution_count": 5,
   "id": "cf6e7825",
   "metadata": {},
   "outputs": [
    {
     "data": {
      "text/plain": [
       "'a frog'"
      ]
     },
     "execution_count": 5,
     "metadata": {},
     "output_type": "execute_result"
    }
   ],
   "source": [
    "# If you omit start, stop, or step, the defaults are 0, the end of your string, and 1\n",
    "frog[:6]"
   ]
  },
  {
   "cell_type": "code",
   "execution_count": 6,
   "id": "d6fd1103",
   "metadata": {},
   "outputs": [
    {
     "data": {
      "text/plain": [
       "'a log'"
      ]
     },
     "execution_count": 6,
     "metadata": {},
     "output_type": "execute_result"
    }
   ],
   "source": [
    "# Indices can also be specified relative to the end of the string (last index is -1)\n",
    "frog[-5:]"
   ]
  },
  {
   "cell_type": "code",
   "execution_count": 7,
   "id": "304ff207",
   "metadata": {},
   "outputs": [
    {
     "ename": "TypeError",
     "evalue": "'str' object does not support item assignment",
     "output_type": "error",
     "traceback": [
      "\u001b[0;31m---------------------------------------------------------------------------\u001b[0m",
      "\u001b[0;31mTypeError\u001b[0m                                 Traceback (most recent call last)",
      "Cell \u001b[0;32mIn[7], line 2\u001b[0m\n\u001b[1;32m      1\u001b[0m \u001b[38;5;66;03m# Being immutable, you can't change parts of a string\u001b[39;00m\n\u001b[0;32m----> 2\u001b[0m frog[\u001b[38;5;241m0\u001b[39m] \u001b[38;5;241m=\u001b[39m \u001b[38;5;124m\"\u001b[39m\u001b[38;5;124mb\u001b[39m\u001b[38;5;124m\"\u001b[39m\n",
      "\u001b[0;31mTypeError\u001b[0m: 'str' object does not support item assignment"
     ]
    }
   ],
   "source": [
    "# Being immutable, you can't change parts of a string\n",
    "frog[0] = \"b\""
   ]
  },
  {
   "cell_type": "markdown",
   "id": "45cb2df9",
   "metadata": {},
   "source": [
    "Before we move on, take a look at the error message above. Notice that it points to the line and tells you what was wrong with the line. It also names a kind of error, \"TypeError\".\n",
    "\n",
    "Python error messages are clearer than those of some other languages. However, part of learning Python is learning to interpret what the error message is telling you that you have done wrong. This will take time. If you google the last line of the error, you will invariably find a Stack Overflow thread describing what the problem was."
   ]
  },
  {
   "cell_type": "markdown",
   "id": "b767e467",
   "metadata": {},
   "source": [
    "### Numbers\n",
    "\n",
    "Integers (class name: `int`) are whole numbers. Floats (class name: `float`) are numbers with a fractional component or decimal place. In most cases, you can use ints and floats in the same ways. A notable exception is in indexing which was shown above. Only ints can be used to index other objects.\n",
    "\n",
    "Python has the ability to perform mathematical calculations. Much of the syntax of mathematical operations in Python will be familiar to you. However, some operations use a syntax you may not have seen before. You can see the list of supported operations in the Python docs [here.](https://docs.python.org/3.11/library/stdtypes.html#numeric-types-int-float-complex)"
   ]
  },
  {
   "cell_type": "code",
   "execution_count": 8,
   "id": "45f194bd",
   "metadata": {},
   "outputs": [
    {
     "data": {
      "text/plain": [
       "15"
      ]
     },
     "execution_count": 8,
     "metadata": {},
     "output_type": "execute_result"
    }
   ],
   "source": [
    "# addition\n",
    "5 + 10"
   ]
  },
  {
   "cell_type": "code",
   "execution_count": 9,
   "id": "bd0269d0",
   "metadata": {},
   "outputs": [
    {
     "data": {
      "text/plain": [
       "5"
      ]
     },
     "execution_count": 9,
     "metadata": {},
     "output_type": "execute_result"
    }
   ],
   "source": [
    "# subtraction\n",
    "10 - 5"
   ]
  },
  {
   "cell_type": "code",
   "execution_count": 10,
   "id": "2208c59f",
   "metadata": {},
   "outputs": [
    {
     "data": {
      "text/plain": [
       "6"
      ]
     },
     "execution_count": 10,
     "metadata": {},
     "output_type": "execute_result"
    }
   ],
   "source": [
    "# multiplication\n",
    "2 * 3"
   ]
  },
  {
   "cell_type": "code",
   "execution_count": 11,
   "id": "d6f91b99",
   "metadata": {},
   "outputs": [
    {
     "data": {
      "text/plain": [
       "3.0"
      ]
     },
     "execution_count": 11,
     "metadata": {},
     "output_type": "execute_result"
    }
   ],
   "source": [
    "# division\n",
    "6 / 2 # Note division always returns a float"
   ]
  },
  {
   "cell_type": "code",
   "execution_count": 12,
   "id": "c51e4ca0",
   "metadata": {},
   "outputs": [
    {
     "data": {
      "text/plain": [
       "2"
      ]
     },
     "execution_count": 12,
     "metadata": {},
     "output_type": "execute_result"
    }
   ],
   "source": [
    "# floor division - divide then round down to nearest int\n",
    "5 // 2 # Note floor division with ints returns an int"
   ]
  },
  {
   "cell_type": "code",
   "execution_count": 13,
   "id": "5dce7c54",
   "metadata": {},
   "outputs": [
    {
     "data": {
      "text/plain": [
       "256"
      ]
     },
     "execution_count": 13,
     "metadata": {},
     "output_type": "execute_result"
    }
   ],
   "source": [
    "# powers\n",
    "2 ** 8"
   ]
  },
  {
   "cell_type": "code",
   "execution_count": 14,
   "id": "071e4132",
   "metadata": {},
   "outputs": [
    {
     "data": {
      "text/plain": [
       "3"
      ]
     },
     "execution_count": 14,
     "metadata": {},
     "output_type": "execute_result"
    }
   ],
   "source": [
    "# Specify order of operations with parentheses\n",
    "2 * 1 + 1"
   ]
  },
  {
   "cell_type": "code",
   "execution_count": 15,
   "id": "ce99f7f1",
   "metadata": {},
   "outputs": [
    {
     "data": {
      "text/plain": [
       "4"
      ]
     },
     "execution_count": 15,
     "metadata": {},
     "output_type": "execute_result"
    }
   ],
   "source": [
    "2 * (1 + 1)"
   ]
  },
  {
   "cell_type": "code",
   "execution_count": 16,
   "id": "dcc9bfc8",
   "metadata": {},
   "outputs": [
    {
     "data": {
      "text/plain": [
       "2.0"
      ]
     },
     "execution_count": 16,
     "metadata": {},
     "output_type": "execute_result"
    }
   ],
   "source": [
    "# Mixing ints and floats returns a float\n",
    "5.0//2"
   ]
  },
  {
   "cell_type": "code",
   "execution_count": 17,
   "id": "fc92d7ce",
   "metadata": {},
   "outputs": [
    {
     "data": {
      "text/plain": [
       "16.0"
      ]
     },
     "execution_count": 17,
     "metadata": {},
     "output_type": "execute_result"
    }
   ],
   "source": [
    "# Note when a float is equal to a whole number, it can be represented with a dot but no decimal places\n",
    "2 ** 4. # 4. is equivalent to 4.0"
   ]
  },
  {
   "cell_type": "markdown",
   "id": "9cf70ce3",
   "metadata": {},
   "source": [
    "As you see in the above examples, ints and floats both support mathematical operations. You can even combine ints and floats in the same calculation.\n",
    "\n",
    "Something to note here, which is something you will see again and again is that whenever Python does a calculation, or performs a function, it returns an object of one class or another. The class that is returned is predictable. For example, if we add two ints together, we will get an int back. If we add an int and a float, we will get a float back.\n",
    "\n",
    "The class we get back is called the \"return type\" and is something you need to pay close attention to. As mentioned above, there are differences in what you can do with different lasses. `float`s can't be used to index. Therefore we can index with the result of calculations that return an `int`, but not those that return a `float`."
   ]
  },
  {
   "cell_type": "code",
   "execution_count": 18,
   "id": "936c7548",
   "metadata": {},
   "outputs": [
    {
     "data": {
      "text/plain": [
       "'r'"
      ]
     },
     "execution_count": 18,
     "metadata": {},
     "output_type": "execute_result"
    }
   ],
   "source": [
    "frog[1+2]"
   ]
  },
  {
   "cell_type": "markdown",
   "id": "90a91917",
   "metadata": {},
   "source": [
    "Here, `frog[1+2]` is equivalent to `frog[3]`, as Python performs the calculation and uses the result to index the `frog` variable. However, if we use division instead, which returns a float, it doesn't work."
   ]
  },
  {
   "cell_type": "code",
   "execution_count": 19,
   "id": "499f5745",
   "metadata": {},
   "outputs": [
    {
     "ename": "TypeError",
     "evalue": "string indices must be integers, not 'float'",
     "output_type": "error",
     "traceback": [
      "\u001b[0;31m---------------------------------------------------------------------------\u001b[0m",
      "\u001b[0;31mTypeError\u001b[0m                                 Traceback (most recent call last)",
      "Cell \u001b[0;32mIn[19], line 2\u001b[0m\n\u001b[1;32m      1\u001b[0m \u001b[38;5;66;03m# This returns 3.0, which is numerically equivalent to 3, but the class is not supported\u001b[39;00m\n\u001b[0;32m----> 2\u001b[0m frog[\u001b[38;5;241m6\u001b[39m\u001b[38;5;241m/\u001b[39m\u001b[38;5;241m2\u001b[39m]\n",
      "\u001b[0;31mTypeError\u001b[0m: string indices must be integers, not 'float'"
     ]
    }
   ],
   "source": [
    "# This returns 3.0, which is numerically equivalent to 3, but the class is not supported\n",
    "frog[6/2]"
   ]
  },
  {
   "cell_type": "markdown",
   "id": "26830591",
   "metadata": {},
   "source": [
    "Pay close attention to classes as we move forward. It is helpful to try to think about the operations you are performing in terms if the classes used and the return types."
   ]
  },
  {
   "cell_type": "markdown",
   "id": "2ea93b06-d87e-4ec4-93df-dbcac92b4219",
   "metadata": {},
   "source": [
    "### Lists\n",
    "\n",
    "`List`s are a container object. They have the following important properties:\n",
    "* They are ordered\n",
    "* They can contain any kind of Python object, even other lists\n",
    "* They are mutable (i.e., you can change them without having to copy all their data)\n",
    "\n",
    "`List`s are defined using a syntax like `[x, y, z]`, where square brackets enclosing the elements of the `list` and commas (,) separate `list` elements. For example:"
   ]
  },
  {
   "cell_type": "code",
   "execution_count": 20,
   "id": "a25f5115",
   "metadata": {},
   "outputs": [
    {
     "data": {
      "text/plain": [
       "['abc', 123, 'a frog on a log']"
      ]
     },
     "execution_count": 20,
     "metadata": {},
     "output_type": "execute_result"
    }
   ],
   "source": [
    "# Lists can contain elements of different classes\n",
    "mylist = [\"abc\", 123, frog]\n",
    "mylist"
   ]
  },
  {
   "cell_type": "markdown",
   "id": "2e5b7c55",
   "metadata": {},
   "source": [
    "As `list`s are ordered, they can be indexed using positional indices and slices (the same way as `str`s above)"
   ]
  },
  {
   "cell_type": "code",
   "execution_count": 21,
   "id": "35b90e75",
   "metadata": {},
   "outputs": [
    {
     "data": {
      "text/plain": [
       "'abc'"
      ]
     },
     "execution_count": 21,
     "metadata": {},
     "output_type": "execute_result"
    }
   ],
   "source": [
    "# Index 0 is the first index, but is referred to as the zeroth index\n",
    "mylist[0]"
   ]
  },
  {
   "cell_type": "code",
   "execution_count": 22,
   "id": "993b14b2",
   "metadata": {},
   "outputs": [
    {
     "data": {
      "text/plain": [
       "[123, 'a frog on a log']"
      ]
     },
     "execution_count": 22,
     "metadata": {},
     "output_type": "execute_result"
    }
   ],
   "source": [
    "# Slice syntax is the same as for str. i.e., [<start>:<stop>:<step>]\n",
    "mylist[1:]"
   ]
  },
  {
   "cell_type": "code",
   "execution_count": 23,
   "id": "d59244b5",
   "metadata": {},
   "outputs": [
    {
     "data": {
      "text/plain": [
       "[123]"
      ]
     },
     "execution_count": 23,
     "metadata": {},
     "output_type": "execute_result"
    }
   ],
   "source": [
    "# base-0 numbering begins at the start index and ends before the stop index\n",
    "mylist[1:2]"
   ]
  },
  {
   "cell_type": "markdown",
   "id": "e121ad0a",
   "metadata": {},
   "source": [
    "Note that when you extract a single element from a `list`, the class of the object returned is the class of the element extracted. For example, the zeroth element of `mylist` is `'abc'`, which is a `str`. `mylist[0]` therefore returns a `str`. However, the oneth element of `mylist` is `123`, which is an `int`. `mylist[1]` therefore returns an `int`.\n",
    "\n",
    "When extracting a range of elements from a `list` using a slice, no matter what the class is of the elements extracted, or the length of the slice, a `list` is always returned. You can see in the printed output above that the extracted slice is within square brackets. That indicates the object is a `list`. In addition, you can explicitely check the class of an object. We'll get to how you can do that a bit later. For now, just remember that the class returned by indexing `list`s is not always the same (it is whatever the type is of the element at that index), while a slice of a `list` always returns a `list`."
   ]
  },
  {
   "cell_type": "markdown",
   "id": "b86e675d",
   "metadata": {},
   "source": [
    "### Dicts\n",
    "\n",
    "`Dict`s are another container object. `Dict`s allow the association between two objects: a key and a value. Keys can be any hashable object (basically anything immutable; e.g., `str`, `int`, etc.), while values can be any Python object. `Dict`s are useful in any case where you wish to store data and then retrieve it again later using a name or other identifier. If you will only want to retrieve data using an index, use a list instead.\n",
    "\n",
    "`Dict`s have the following important properties:\n",
    "* They are ordered (Python >=3.7). Note the order is simply the order keys were added. You cannot directly index `dict`s using their order, but can rely on order for iteration (more later).\n",
    "* Keys can be any hashable Python object (basically just immutable objects like `str` and `int`)\n",
    "* Values can be any Python oject class\n",
    "* Keys can only have a single associated value, but values can be container classes like a `list`, containing multiple elements\n",
    "* They are mutable - keys can be added/removed and values can be changed\n",
    "* Key lookup, value retrieval, and value change operations are almost instantaneous\n",
    "\n",
    "`Dict`s are defined using a syntax like `{\"key1\": \"value1\", \"key2\": \"value2\"}`, where curly braces enclose the `dict`, key-value pairs are written as `key: value`, and each key-value pair is separated with a comma. For example:"
   ]
  },
  {
   "cell_type": "code",
   "execution_count": 24,
   "id": "2d09d67b",
   "metadata": {},
   "outputs": [
    {
     "data": {
      "text/plain": [
       "'fruit'"
      ]
     },
     "execution_count": 24,
     "metadata": {},
     "output_type": "execute_result"
    }
   ],
   "source": [
    "\n",
    "fruit_veg_dict = {\"carrot\": \"veg\", \"apple\": \"fruit\", \"banana\": \"fruit\"}\n",
    "fruit_veg_dict[\"banana\"]"
   ]
  },
  {
   "cell_type": "markdown",
   "id": "56c38901",
   "metadata": {},
   "source": [
    "Keys and values can be added to a `dict` by using a syntax that looks just like indexing. Simply index the `dict` and then assign the value using the `=` assignment operation"
   ]
  },
  {
   "cell_type": "code",
   "execution_count": 25,
   "id": "f30ebfc9",
   "metadata": {},
   "outputs": [
    {
     "data": {
      "text/plain": [
       "{'carrot': 'veg',\n",
       " 'apple': 'fruit',\n",
       " 'banana': 'fruit',\n",
       " 'tomato': 'fiercely debated'}"
      ]
     },
     "execution_count": 25,
     "metadata": {},
     "output_type": "execute_result"
    }
   ],
   "source": [
    "fruit_veg_dict[\"tomato\"] = \"fiercely debated\"\n",
    "fruit_veg_dict"
   ]
  },
  {
   "cell_type": "markdown",
   "id": "a67c95c7",
   "metadata": {},
   "source": [
    "Note that while key creation involves indexing with a key that does not yet exist, if you try to index with a non-existant key to retrieve a value, you will get an error."
   ]
  },
  {
   "cell_type": "code",
   "execution_count": 26,
   "id": "b8b406a5",
   "metadata": {},
   "outputs": [
    {
     "ename": "KeyError",
     "evalue": "'not a key'",
     "output_type": "error",
     "traceback": [
      "\u001b[0;31m---------------------------------------------------------------------------\u001b[0m",
      "\u001b[0;31mKeyError\u001b[0m                                  Traceback (most recent call last)",
      "Cell \u001b[0;32mIn[26], line 1\u001b[0m\n\u001b[0;32m----> 1\u001b[0m fruit_veg_dict[\u001b[38;5;124m\"\u001b[39m\u001b[38;5;124mnot a key\u001b[39m\u001b[38;5;124m\"\u001b[39m]\n",
      "\u001b[0;31mKeyError\u001b[0m: 'not a key'"
     ]
    }
   ],
   "source": [
    "fruit_veg_dict[\"not a key\"]"
   ]
  },
  {
   "cell_type": "markdown",
   "id": "566ac1c8",
   "metadata": {},
   "source": [
    "Note that `dict`s remember the order that keys are added. You may see online that `dict`s are unordered. However, since Python version 3.7, `dict` order has been guaranteed to be reliable. Note that updating the value associated with a key does not change order."
   ]
  },
  {
   "cell_type": "code",
   "execution_count": 27,
   "id": "0fe0b362",
   "metadata": {},
   "outputs": [
    {
     "data": {
      "text/plain": [
       "{'carrot': 'veg',\n",
       " 'apple': 'fruit',\n",
       " 'banana': 'fruit',\n",
       " 'tomato': 'fiercely debated'}"
      ]
     },
     "execution_count": 27,
     "metadata": {},
     "output_type": "execute_result"
    }
   ],
   "source": [
    "fruit_veg_dict"
   ]
  },
  {
   "cell_type": "code",
   "execution_count": 28,
   "id": "ab392837",
   "metadata": {},
   "outputs": [
    {
     "data": {
      "text/plain": [
       "{'carrot': 'veg',\n",
       " 'apple': 'fruit',\n",
       " 'banana': 'fruit',\n",
       " 'tomato': 'fiercely debated',\n",
       " 'avocado': 'fruit'}"
      ]
     },
     "execution_count": 28,
     "metadata": {},
     "output_type": "execute_result"
    }
   ],
   "source": [
    "fruit_veg_dict[\"avocado\"] = \"fruit\"\n",
    "fruit_veg_dict"
   ]
  },
  {
   "cell_type": "markdown",
   "id": "a9cd610a",
   "metadata": {},
   "source": [
    "As you can see, the order printed is sorted according to the order in which keys were created. Changing a key added earlier does not move the key to the end of the list."
   ]
  },
  {
   "cell_type": "code",
   "execution_count": 29,
   "id": "87f3d40c",
   "metadata": {},
   "outputs": [
    {
     "data": {
      "text/plain": [
       "{'carrot': 'veg',\n",
       " 'apple': 'fruit',\n",
       " 'banana': 'fruit',\n",
       " 'tomato': 'fruit',\n",
       " 'avocado': 'fruit'}"
      ]
     },
     "execution_count": 29,
     "metadata": {},
     "output_type": "execute_result"
    }
   ],
   "source": [
    "fruit_veg_dict[\"tomato\"] = \"fruit\"\n",
    "fruit_veg_dict"
   ]
  },
  {
   "cell_type": "markdown",
   "id": "575eb91d",
   "metadata": {},
   "source": [
    "## A note about copies and pointers\n",
    "\n",
    "A common mistake for people starting out in Python is to assume that the following operations will make a copy of an object."
   ]
  },
  {
   "cell_type": "code",
   "execution_count": 30,
   "id": "7f7a6b8e",
   "metadata": {},
   "outputs": [
    {
     "data": {
      "text/plain": [
       "[1, 2, 3]"
      ]
     },
     "execution_count": 30,
     "metadata": {},
     "output_type": "execute_result"
    }
   ],
   "source": [
    "l = [1, 2, 3]\n",
    "new_l = l\n",
    "new_l"
   ]
  },
  {
   "cell_type": "markdown",
   "id": "e0f42fa6",
   "metadata": {},
   "source": [
    "However, while, both objects now refer to a list of numbers, look what happens if one of the lists is modified."
   ]
  },
  {
   "cell_type": "code",
   "execution_count": 31,
   "id": "29b95f18",
   "metadata": {},
   "outputs": [
    {
     "data": {
      "text/plain": [
       "[1, 2, 3, 4, 5, 6]"
      ]
     },
     "execution_count": 31,
     "metadata": {},
     "output_type": "execute_result"
    }
   ],
   "source": [
    "l += [4, 5, 6]\n",
    "l"
   ]
  },
  {
   "cell_type": "code",
   "execution_count": 32,
   "id": "fcc20af7",
   "metadata": {},
   "outputs": [
    {
     "data": {
      "text/plain": [
       "[1, 2, 3, 4, 5, 6]"
      ]
     },
     "execution_count": 32,
     "metadata": {},
     "output_type": "execute_result"
    }
   ],
   "source": [
    "new_l"
   ]
  },
  {
   "cell_type": "markdown",
   "id": "308abff1",
   "metadata": {},
   "source": [
    "As you can see, a change to the original list was also reflected in our `new_l` object. That is because the `new_l` object was not a copy of the original list, but rather a new *pointer* to the same list. You can think of this as analagous to a hardlink in Bash. Both variables are actually just pointers to data in your computer's memory. If that data in that memory is changed, then when you access the data using either variable then you get back the modified data.\n",
    "\n",
    "Note that the analogy to hardlinks is not a good one. The structure of filepaths pointing to data on your hard drive is analagous to variable names pointing to data in memory. However, the way Python pointers work is different from how Bash hardlinks work. For example, if you replace a variables data with new data, that does not impact variables which were, until that point, pointers to the same data."
   ]
  },
  {
   "cell_type": "code",
   "execution_count": 33,
   "id": "a6863f6a",
   "metadata": {},
   "outputs": [
    {
     "data": {
      "text/plain": [
       "[1, 2, 3, 4, 5, 6]"
      ]
     },
     "execution_count": 33,
     "metadata": {},
     "output_type": "execute_result"
    }
   ],
   "source": [
    "l = \"Now I'm a string\"\n",
    "new_l"
   ]
  },
  {
   "cell_type": "markdown",
   "id": "f5f7157f",
   "metadata": {},
   "source": [
    "Note also that this is not a problem for immutable data types. That is because when you do something that might appear to modify the data, what you are actually doing is copying the data to a new instance. We can see that with a `str` example."
   ]
  },
  {
   "cell_type": "code",
   "execution_count": 34,
   "id": "f1720c5d",
   "metadata": {},
   "outputs": [
    {
     "data": {
      "text/plain": [
       "'some string'"
      ]
     },
     "execution_count": 34,
     "metadata": {},
     "output_type": "execute_result"
    }
   ],
   "source": [
    "s = \"some string\"\n",
    "new_s = s\n",
    "new_s"
   ]
  },
  {
   "cell_type": "code",
   "execution_count": 35,
   "id": "12e66d81",
   "metadata": {},
   "outputs": [
    {
     "data": {
      "text/plain": [
       "'some string and more string'"
      ]
     },
     "execution_count": 35,
     "metadata": {},
     "output_type": "execute_result"
    }
   ],
   "source": [
    "s += \" and more string\"\n",
    "s"
   ]
  },
  {
   "cell_type": "code",
   "execution_count": 36,
   "id": "e0684286",
   "metadata": {},
   "outputs": [
    {
     "data": {
      "text/plain": [
       "'some string'"
      ]
     },
     "execution_count": 36,
     "metadata": {},
     "output_type": "execute_result"
    }
   ],
   "source": [
    "new_s"
   ]
  },
  {
   "cell_type": "markdown",
   "id": "6df4befb",
   "metadata": {},
   "source": [
    "Instead of changing the data that both `s` and `new_s` were pointing at, we instead made a new `str` and changed `s` so that it was pointing at the new data. `new_s` is still pointing to the same, unchaged data that it was before.\n",
    "\n",
    "We can see the same thing for `int`s."
   ]
  },
  {
   "cell_type": "code",
   "execution_count": 37,
   "id": "26fcf29f",
   "metadata": {},
   "outputs": [
    {
     "data": {
      "text/plain": [
       "10"
      ]
     },
     "execution_count": 37,
     "metadata": {},
     "output_type": "execute_result"
    }
   ],
   "source": [
    "x = 5\n",
    "y = x\n",
    "x += 5\n",
    "x"
   ]
  },
  {
   "cell_type": "code",
   "execution_count": 38,
   "id": "75c87ea4",
   "metadata": {},
   "outputs": [
    {
     "data": {
      "text/plain": [
       "5"
      ]
     },
     "execution_count": 38,
     "metadata": {},
     "output_type": "execute_result"
    }
   ],
   "source": [
    "y"
   ]
  },
  {
   "cell_type": "markdown",
   "id": "810e28f5",
   "metadata": {},
   "source": [
    "In both cases, the `+=` operation looks like it should be modifying the existing data, like it did in the `list` example. Instead, `+=` copied the existing data to a new location. That means that what we see above for `str` and `int` is actually the same process as when we replaced `l` with a `str`.\n",
    "\n",
    "These examples illustrate that mutable and immutable classes are working differently behind the scenes. The difference in behavior is important to bear in mind in order to predict how your code will behave if you want to make a copy of a variable.\n",
    "\n",
    "If you do wish to make a copy of a variable with a mutable class, the syntax may differ depending on the class. To make a shallow copy of a `list` or `dict`, you can use the following. Don't worry about understanding the`.copy()` syntax yet. We will cover that next."
   ]
  },
  {
   "cell_type": "code",
   "execution_count": 39,
   "id": "0f3bdf00",
   "metadata": {},
   "outputs": [
    {
     "data": {
      "text/plain": [
       "[1, 2, 3]"
      ]
     },
     "execution_count": 39,
     "metadata": {},
     "output_type": "execute_result"
    }
   ],
   "source": [
    "l = [1, 2, 3]\n",
    "new_l = l[:]\n",
    "l += [4, 5, 6]\n",
    "new_l"
   ]
  },
  {
   "cell_type": "code",
   "execution_count": 40,
   "id": "562b1995",
   "metadata": {},
   "outputs": [
    {
     "data": {
      "text/plain": [
       "{'a': 'apple', 'b': 'banana'}"
      ]
     },
     "execution_count": 40,
     "metadata": {},
     "output_type": "execute_result"
    }
   ],
   "source": [
    "d = {'a': 'apple', 'b': 'banana'}\n",
    "new_d = d.copy()\n",
    "d['c'] = 'carrot'\n",
    "new_d"
   ]
  },
  {
   "cell_type": "markdown",
   "id": "f43585b6",
   "metadata": {},
   "source": [
    "While this is ahead of what we are going to cover just yet, you could also take a look at [copy.deepcopy](https://docs.python.org/3/library/copy.html#copy.deepcopy) to copy a variable and make a copy of all contained variables. This is important if you have nested objects like a list of lists. A shallow copy will only copy the outermost list but will use pointers for all levels deeper than the top level. "
   ]
  }
 ],
 "metadata": {
  "kernelspec": {
   "display_name": "Python 3 (ipykernel)",
   "language": "python",
   "name": "python3"
  },
  "language_info": {
   "codemirror_mode": {
    "name": "ipython",
    "version": 3
   },
   "file_extension": ".py",
   "mimetype": "text/x-python",
   "name": "python",
   "nbconvert_exporter": "python",
   "pygments_lexer": "ipython3",
   "version": "3.11.5"
  }
 },
 "nbformat": 4,
 "nbformat_minor": 5
}
