{
 "cells": [
  {
   "cell_type": "markdown",
   "id": "48033ebe",
   "metadata": {},
   "source": [
    "# Jupyter Notebooks\n",
    "\n",
    "In the Bash portion of this course, live coding demos included markdown and PDF handouts showing executed code. For the Python portion of the course, Jupyter notebooks will be used. Jupyter notebooks are interactive documents that allow you to modify and execute Python code and view outputs. These handouts will let you see and explore the code being demonstrated.\n",
    "\n",
    "## Setting up a Jupyter environment\n",
    "\n",
    "To use Jupyter notebooks, you must first install Jupyter. The easiest way to do this is in a conda/mamba environment. In addition, you can use different versions of Python to execute the code in Jupyter notebooks. For this course, I recommend you stick with Python3.11 due to the huge improvements in error messages introduced in this version.\n",
    "\n",
    "To setup an environment in which you can interact with this handout, create an environment as follows:\n",
    "\n",
    "`mamba create -n jupyter jupyterlab python=3.11`\n",
    "\n",
    "You can name the environment something else if you prefer.\n",
    "\n",
    "## Running a Jupyter notebook\n",
    "\n",
    "To create a new Jupyter notebook or interact with an existing notebook, open a terminal in the directory containing your existing notebook or the directory in which you wish to create a Jupyter notebook project. In the terminal, activate your Jupyter mamba environment, run the command `jupyter lab`, and then click one of the URLs that is printed to your terminal. This should open a web browser in which you can use the Jupyter notebook software. These commands are shown below\n",
    "\n",
    "```Bash\n",
    "$ mamba activate jupyter\n",
    "$ jupyter lab\n",
    "```\n",
    "\n",
    "## Setting up your Python environment\n",
    "\n",
    "### Checking your python version\n",
    "\n",
    "Before we begin, let's confirm you are working with Python version 3.11. Earlier versions won't work for all of the class handout documents. Furthermore, version 3.11 has improved error messages which will be very helpful for you to learn how to write Python code. I strongly recommend using Python 3.11.\n",
    "\n",
    "Running the below code block will print the version of python you are using. If not 3.11, you can update your Python version by running `mamba install python3.11` in your terminal within your jupyter mamba environment. don't worry about the content of the code for now.\n",
    "\n",
    "You can also check the version of Python in your environment by running `python --version` in your terminal.\n"
   ]
  },
  {
   "cell_type": "code",
   "execution_count": null,
   "id": "3ee3baae",
   "metadata": {},
   "outputs": [],
   "source": [
    "import sys\n",
    "major, minor = sys.version_info[:2]\n",
    "print(f\"You are running Python version {major}.{minor}\")"
   ]
  }
 ],
 "metadata": {
  "kernelspec": {
   "display_name": "Python 3 (ipykernel)",
   "language": "python",
   "name": "python3"
  },
  "language_info": {
   "codemirror_mode": {
    "name": "ipython",
    "version": 3
   },
   "file_extension": ".py",
   "mimetype": "text/x-python",
   "name": "python",
   "nbconvert_exporter": "python",
   "pygments_lexer": "ipython3",
   "version": "3.11.5"
  }
 },
 "nbformat": 4,
 "nbformat_minor": 5
}
