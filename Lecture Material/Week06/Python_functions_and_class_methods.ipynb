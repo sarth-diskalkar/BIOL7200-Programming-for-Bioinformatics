{
 "cells": [
  {
   "cell_type": "markdown",
   "id": "46f55239",
   "metadata": {},
   "source": [
    "# Python functions and class methods\n",
    "\n",
    "## What are functions?\n",
    "\n",
    "Functions are self-contained code which performs some set of operations on one or more inputs and returns an output. [Python has a number of built-in functions](https://docs.python.org/3/library/functions.html). You might think of a function as behaving analagously to a Bash command. For example, the Bash command `wc -l` takes a file as input and returns the number of lines in the file. Python has the function `len()` which takes and object as input and returns the object's length."
   ]
  },
  {
   "cell_type": "code",
   "execution_count": 1,
   "id": "8c94343a",
   "metadata": {},
   "outputs": [
    {
     "data": {
      "text/plain": [
       "3"
      ]
     },
     "execution_count": 1,
     "metadata": {},
     "output_type": "execute_result"
    }
   ],
   "source": [
    "mylist = [1, 2, 3]\n",
    "len(mylist)"
   ]
  },
  {
   "cell_type": "markdown",
   "id": "07b39d49",
   "metadata": {},
   "source": [
    "Functions are another Python object class. While `str`s, `int`s, etc. store data, functions store a sequence of commands to execute. If you run a function without parentheses you can see an output describing what the function is."
   ]
  },
  {
   "cell_type": "code",
   "execution_count": 2,
   "id": "acf61deb",
   "metadata": {
    "scrolled": true
   },
   "outputs": [
    {
     "data": {
      "text/plain": [
       "<function len(obj, /)>"
      ]
     },
     "execution_count": 2,
     "metadata": {},
     "output_type": "execute_result"
    }
   ],
   "source": [
    "len"
   ]
  },
  {
   "cell_type": "markdown",
   "id": "469fd478",
   "metadata": {},
   "source": [
    "Adding parentheses at the end of the function name tells Python to execute (also said \"call\") the function. When executing a function, you must provide inputs if the function is expecting them. Otherwise you get an error telling you that you executed the function wrong."
   ]
  },
  {
   "cell_type": "code",
   "execution_count": 3,
   "id": "b44bd07d",
   "metadata": {},
   "outputs": [
    {
     "ename": "TypeError",
     "evalue": "len() takes exactly one argument (0 given)",
     "output_type": "error",
     "traceback": [
      "\u001b[0;31m---------------------------------------------------------------------------\u001b[0m",
      "\u001b[0;31mTypeError\u001b[0m                                 Traceback (most recent call last)",
      "Cell \u001b[0;32mIn[3], line 1\u001b[0m\n\u001b[0;32m----> 1\u001b[0m \u001b[38;5;28mlen\u001b[39m()\n",
      "\u001b[0;31mTypeError\u001b[0m: len() takes exactly one argument (0 given)"
     ]
    }
   ],
   "source": [
    "len()"
   ]
  },
  {
   "cell_type": "markdown",
   "id": "5728abfd",
   "metadata": {},
   "source": [
    "Any time you put parentheses after a object name, Python tries to run it as if it were a function. If you add parentheses to a variable name, you get an error because Python tried to run it."
   ]
  },
  {
   "cell_type": "code",
   "execution_count": 4,
   "id": "d902eafc",
   "metadata": {
    "scrolled": true
   },
   "outputs": [
    {
     "ename": "TypeError",
     "evalue": "'list' object is not callable",
     "output_type": "error",
     "traceback": [
      "\u001b[0;31m---------------------------------------------------------------------------\u001b[0m",
      "\u001b[0;31mTypeError\u001b[0m                                 Traceback (most recent call last)",
      "Cell \u001b[0;32mIn[4], line 1\u001b[0m\n\u001b[0;32m----> 1\u001b[0m mylist()\n",
      "\u001b[0;31mTypeError\u001b[0m: 'list' object is not callable"
     ]
    }
   ],
   "source": [
    "mylist()"
   ]
  },
  {
   "cell_type": "markdown",
   "id": "d3a42898",
   "metadata": {},
   "source": [
    "## Function return classes\n",
    "\n",
    "We've already talked a bit about the class of object you get back when you perform certain operations. For example, if you have a `list` of `int`s, then when you extract a single index from that `list`, the returned object will be an `int`. If you instead extract a range of indices using a slice, you will get back a `list`. We can see this explicitely using another built-in Python function, `type()`.\n",
    "\n",
    "`type()` returns the class of any object it is given. For example:"
   ]
  },
  {
   "cell_type": "code",
   "execution_count": 5,
   "id": "fb7430ad",
   "metadata": {},
   "outputs": [
    {
     "data": {
      "text/plain": [
       "int"
      ]
     },
     "execution_count": 5,
     "metadata": {},
     "output_type": "execute_result"
    }
   ],
   "source": [
    "type(1)"
   ]
  },
  {
   "cell_type": "code",
   "execution_count": 6,
   "id": "fb1580a8",
   "metadata": {},
   "outputs": [
    {
     "data": {
      "text/plain": [
       "str"
      ]
     },
     "execution_count": 6,
     "metadata": {},
     "output_type": "execute_result"
    }
   ],
   "source": [
    "type(\"a\")"
   ]
  },
  {
   "cell_type": "code",
   "execution_count": 7,
   "id": "3f8b89dd",
   "metadata": {
    "scrolled": true
   },
   "outputs": [
    {
     "data": {
      "text/plain": [
       "list"
      ]
     },
     "execution_count": 7,
     "metadata": {},
     "output_type": "execute_result"
    }
   ],
   "source": [
    "type([1,2,3])"
   ]
  },
  {
   "cell_type": "code",
   "execution_count": 8,
   "id": "55b758df",
   "metadata": {},
   "outputs": [
    {
     "data": {
      "text/plain": [
       "int"
      ]
     },
     "execution_count": 8,
     "metadata": {},
     "output_type": "execute_result"
    }
   ],
   "source": [
    "# Indexing like this works exactly the same as if we store the list in a variable first\n",
    "type([1,2,3][0])"
   ]
  },
  {
   "cell_type": "code",
   "execution_count": 9,
   "id": "d0a55988",
   "metadata": {},
   "outputs": [
    {
     "data": {
      "text/plain": [
       "list"
      ]
     },
     "execution_count": 9,
     "metadata": {},
     "output_type": "execute_result"
    }
   ],
   "source": [
    "type([1,2,3][:1])"
   ]
  },
  {
   "cell_type": "markdown",
   "id": "357b5103",
   "metadata": {},
   "source": [
    "We can use `type()` to check the return class of a function as well. You can think of a function call behaving just like process substitution in Bash (i.e., `$(<command>)`). When a function is executed, it is as if the function is replaced by its output within the line of code.\n",
    "\n",
    "For example, using the `mylist` variable we made above, which has a length of 3."
   ]
  },
  {
   "cell_type": "code",
   "execution_count": 10,
   "id": "2a8b133c",
   "metadata": {},
   "outputs": [
    {
     "data": {
      "text/plain": [
       "[1, 2, 3]"
      ]
     },
     "execution_count": 10,
     "metadata": {},
     "output_type": "execute_result"
    }
   ],
   "source": [
    "mylist"
   ]
  },
  {
   "cell_type": "code",
   "execution_count": 11,
   "id": "4bd29523",
   "metadata": {},
   "outputs": [
    {
     "data": {
      "text/plain": [
       "3"
      ]
     },
     "execution_count": 11,
     "metadata": {},
     "output_type": "execute_result"
    }
   ],
   "source": [
    "# len(mylist) returns 3\n",
    "len(mylist)"
   ]
  },
  {
   "cell_type": "code",
   "execution_count": 12,
   "id": "5132261d",
   "metadata": {},
   "outputs": [
    {
     "data": {
      "text/plain": [
       "int"
      ]
     },
     "execution_count": 12,
     "metadata": {},
     "output_type": "execute_result"
    }
   ],
   "source": [
    "# This is the same as running type(3) \n",
    "type(len(mylist))"
   ]
  },
  {
   "cell_type": "markdown",
   "id": "2ffbdd26",
   "metadata": {},
   "source": [
    "Knowing the class of object returned by a function means we know how we can interact with the output of a function. For example, `len()` always returns an `int`, so we can do things like addition with the output of `len()`."
   ]
  },
  {
   "cell_type": "code",
   "execution_count": 13,
   "id": "2c2006cb",
   "metadata": {},
   "outputs": [
    {
     "data": {
      "text/plain": [
       "30"
      ]
     },
     "execution_count": 13,
     "metadata": {},
     "output_type": "execute_result"
    }
   ],
   "source": [
    "(len(mylist)+3)*5"
   ]
  },
  {
   "cell_type": "markdown",
   "id": "3ee0e6a7",
   "metadata": {},
   "source": [
    "It is important to keep in mind the classes of objects you are working with when writing Python code. There are several reasons for this. Foremost is that each object class is able to do different things or be used in different ways.\n",
    "\n",
    "We have already seen that `str`s `int`s and `list`s all support `+` operations. We have also seen that you can only use `+` to add objects of the same class together. However, class-specific methods do more than just restrict your ability to add. Each class has methods that define functionality to perform operations of an instance of that class."
   ]
  },
  {
   "cell_type": "markdown",
   "id": "74eea9e1",
   "metadata": {},
   "source": [
    "## Instances\n",
    "\n",
    "I just said that class methods perform operations on an \"instance\", but what does that mean? Basically, any object which is a `str` is an instance of a `str`. The word \"instance\" simply refers to a thing of a given class. Every string is a `str` instance. Every list is a `list` instance. It's simply jargon to refer to individual objects that have a certain class.\n",
    "\n",
    "Consider the following variables"
   ]
  },
  {
   "cell_type": "code",
   "execution_count": 14,
   "id": "aba9bbef",
   "metadata": {},
   "outputs": [],
   "source": [
    "string1 = \"a\"\n",
    "string2 = \"b\""
   ]
  },
  {
   "cell_type": "markdown",
   "id": "dc957689",
   "metadata": {},
   "source": [
    "Both of those variables have the class `str`. However they are different `str` variables; they contain different data. Here, `string1` and `string2` are said to be different instances of the `str` class.\n",
    "\n",
    "Now consider an example from the first notebook. When illustrating an issue with trying to copy mutable classes like `list`s, I used the following example"
   ]
  },
  {
   "cell_type": "code",
   "execution_count": 15,
   "id": "8e41752f",
   "metadata": {},
   "outputs": [],
   "source": [
    "l = [1, 2, 3]\n",
    "new_l = l"
   ]
  },
  {
   "cell_type": "markdown",
   "id": "1c872e6c",
   "metadata": {},
   "source": [
    "As we saw before, both `l` and `new_l` point to the same data. In fact, they point to the same instance of the `list` class. When changes are made to that instance, both variable names still point to that same instance and so either can be used to retrieve the data.\n",
    "\n",
    "You might be wondering why we need to worry about \"instances\" instead of treating all objects of the same class in the same way. The answer is that each instance has functions which act only on that instance and not on other objects. Those functions are called the \"methods\" of that class."
   ]
  },
  {
   "cell_type": "markdown",
   "id": "99f9e19d",
   "metadata": {},
   "source": [
    "## Methods\n",
    "\n",
    "### What are methods?\n",
    "\n",
    "Methods are very similar to functions. They take inputs, perform operations, and return outputs. However, methods are associated with an instance of an object class and they often modify their instance. A good example of this behavior is the `list.append()` method, which adds a new element to the end of a list. `.append()` adds something to the end of the `list` instance for which it was called. i.e., instead of calling append as `list.append()`, it is called using `<list instance>.append()`. For example:"
   ]
  },
  {
   "cell_type": "code",
   "execution_count": 16,
   "id": "e5ad695c",
   "metadata": {},
   "outputs": [],
   "source": [
    "# list1 and list2 are both instances of the list class\n",
    "list1 = [1,2,3]\n",
    "list2 = ['a', 'b', 'c']"
   ]
  },
  {
   "cell_type": "code",
   "execution_count": 17,
   "id": "f3f2abcb",
   "metadata": {},
   "outputs": [
    {
     "data": {
      "text/plain": [
       "[1, 2, 3, 4]"
      ]
     },
     "execution_count": 17,
     "metadata": {},
     "output_type": "execute_result"
    }
   ],
   "source": [
    "# calling the append() method of list1 adds an element to list1\n",
    "list1.append(4)\n",
    "list1"
   ]
  },
  {
   "cell_type": "code",
   "execution_count": 18,
   "id": "9abe8d64",
   "metadata": {},
   "outputs": [
    {
     "data": {
      "text/plain": [
       "['a', 'b', 'c']"
      ]
     },
     "execution_count": 18,
     "metadata": {},
     "output_type": "execute_result"
    }
   ],
   "source": [
    "# Other list instances are not effected\n",
    "list2"
   ]
  },
  {
   "cell_type": "markdown",
   "id": "93e5af1b",
   "metadata": {},
   "source": [
    "Another useful `list` method is `.index()`. It can be used to identify the index in a `list` where a certain value is located."
   ]
  },
  {
   "cell_type": "code",
   "execution_count": 20,
   "id": "dd4d736c",
   "metadata": {},
   "outputs": [
    {
     "data": {
      "text/plain": [
       "1"
      ]
     },
     "execution_count": 20,
     "metadata": {},
     "output_type": "execute_result"
    }
   ],
   "source": [
    "list2.index(\"b\")"
   ]
  },
  {
   "cell_type": "markdown",
   "id": "73bf1adc",
   "metadata": {},
   "source": [
    "Notice that when we run `.append()` nothing is printed, but when we run `.index()` an `int` is printed. That is because `.append()` doesn't return anything. Instead, `.append()` simply modifies the `list` and there is no need for it to return anything. That means that we can use `.index()` as part of a larger process, while `.append()` doesn't have a useful return type. For example, we can use `.index()` to find the element that comes after \"b\" in `list2`:"
   ]
  },
  {
   "cell_type": "code",
   "execution_count": 21,
   "id": "7db0aab0",
   "metadata": {},
   "outputs": [
    {
     "data": {
      "text/plain": [
       "'c'"
      ]
     },
     "execution_count": 21,
     "metadata": {},
     "output_type": "execute_result"
    }
   ],
   "source": [
    "# Add 1 to index of \"b\" to get next index\n",
    "list2[list2.index(\"b\")+1]"
   ]
  },
  {
   "cell_type": "markdown",
   "id": "856e07ea",
   "metadata": {},
   "source": [
    "### Other important methods to know\n",
    "\n",
    "For today's class there are a few other class methods you need to know. They are enumerated below:\n",
    "\n",
    "* `list` (We've already covered both of these)\n",
    "    1. `.append()`\n",
    "    2. `.index()`\n",
    "* `str`\n",
    "    1. `.split()`\n",
    "    2. `.join()`\n",
    "    3. `.strip()`\n",
    "    4. `.replace()`\n",
    "\n",
    "Let's work through how the `str` methods listed above work. With these methods, you should be able to do most of the things you could need to do with `list`s and `str`s.\n",
    "\n",
    "#### `str.split()`\n",
    "\n",
    "`str.split()` splits up a `str` and returns a `list`, using a delimiter. The default delimiter is any whitespace character. For example:"
   ]
  },
  {
   "cell_type": "code",
   "execution_count": 22,
   "id": "0cd748db",
   "metadata": {},
   "outputs": [
    {
     "data": {
      "text/plain": [
       "['These', 'are', 'some', 'words']"
      ]
     },
     "execution_count": 22,
     "metadata": {},
     "output_type": "execute_result"
    }
   ],
   "source": [
    "x = \"These are some words\"\n",
    "x.split()"
   ]
  },
  {
   "cell_type": "markdown",
   "id": "d1cbed2f",
   "metadata": {},
   "source": [
    "You can also use other delimiters. Note that the delimiter is not included in the returned `list`"
   ]
  },
  {
   "cell_type": "code",
   "execution_count": 23,
   "id": "f9bbe024",
   "metadata": {},
   "outputs": [
    {
     "data": {
      "text/plain": [
       "['Th', 's', ' ar', ' som', ' words']"
      ]
     },
     "execution_count": 23,
     "metadata": {},
     "output_type": "execute_result"
    }
   ],
   "source": [
    "x.split(\"e\")"
   ]
  },
  {
   "cell_type": "markdown",
   "id": "6253d8bc",
   "metadata": {},
   "source": [
    "In the above example, using \"e\" as a delimiter doesn't make any sense. However, a common format for storing column-based data is .csv (comma separated values). When reading csv files, we can get a list of the columns, by splitting a line on commas."
   ]
  },
  {
   "cell_type": "code",
   "execution_count": 24,
   "id": "d7b01224",
   "metadata": {},
   "outputs": [
    {
     "data": {
      "text/plain": [
       "['this is', 'column-separated', 'data']"
      ]
     },
     "execution_count": 24,
     "metadata": {},
     "output_type": "execute_result"
    }
   ],
   "source": [
    "line = \"this is,column-separated,data\"\n",
    "line.split(\",\")"
   ]
  },
  {
   "cell_type": "markdown",
   "id": "f0a2045b",
   "metadata": {},
   "source": [
    "Note that the `str` instance being split is not modified when the `.split()` method is called."
   ]
  },
  {
   "cell_type": "code",
   "execution_count": 25,
   "id": "77c5aeac",
   "metadata": {
    "scrolled": true
   },
   "outputs": [
    {
     "data": {
      "text/plain": [
       "'this is,column-separated,data'"
      ]
     },
     "execution_count": 25,
     "metadata": {},
     "output_type": "execute_result"
    }
   ],
   "source": [
    "line"
   ]
  },
  {
   "cell_type": "markdown",
   "id": "d85fd480",
   "metadata": {},
   "source": [
    "#### `str.join()`\n",
    "\n",
    "`str.join()` a `list` of `str`s using a delimiter and returns a new `str`. In the case of the `.join()` method, the delimiter is the data stored in the `str` instance, while the `list` being joined is given as input. i.e., `<delimiter>.join(<list>)`. An example should make that clearer..."
   ]
  },
  {
   "cell_type": "code",
   "execution_count": 26,
   "id": "9a7d5833",
   "metadata": {},
   "outputs": [
    {
     "data": {
      "text/plain": [
       "'first second third'"
      ]
     },
     "execution_count": 26,
     "metadata": {},
     "output_type": "execute_result"
    }
   ],
   "source": [
    "delim = \" \"\n",
    "my_list = [\"first\", \"second\", \"third\"]\n",
    "delim.join(my_list)"
   ]
  },
  {
   "cell_type": "markdown",
   "id": "5222f0b5",
   "metadata": {},
   "source": [
    "The delimiter used can be any `str`, but you'll typically join on whitespace or commas."
   ]
  },
  {
   "cell_type": "code",
   "execution_count": 27,
   "id": "f85086a5",
   "metadata": {},
   "outputs": [
    {
     "data": {
      "text/plain": [
       "'first and second and third'"
      ]
     },
     "execution_count": 27,
     "metadata": {},
     "output_type": "execute_result"
    }
   ],
   "source": [
    "\" and \".join(my_list)"
   ]
  },
  {
   "cell_type": "code",
   "execution_count": 28,
   "id": "c0b7dc88",
   "metadata": {},
   "outputs": [
    {
     "data": {
      "text/plain": [
       "'first,second,third'"
      ]
     },
     "execution_count": 28,
     "metadata": {},
     "output_type": "execute_result"
    }
   ],
   "source": [
    "\",\".join(my_list)"
   ]
  },
  {
   "cell_type": "markdown",
   "id": "214fb4e6",
   "metadata": {},
   "source": [
    "#### `str.strip()`\n",
    "\n",
    "`str.strip()` removes characters from either end of a `str` and returns a modified version of the `str`. Sometimes, you'll have to deal with strings that have whitespace on either end. For example, if you are reading lines of a file with indentation, or if there are trailing newlines on the ends of lines. `str.strip()` removes whitespace by default, but you can remove any substring from the beginning and end of a `str` with this method."
   ]
  },
  {
   "cell_type": "code",
   "execution_count": 30,
   "id": "163cf7dd",
   "metadata": {},
   "outputs": [
    {
     "name": "stdout",
     "output_type": "stream",
     "text": [
      "\t\tthis is the data xyz\n"
     ]
    }
   ],
   "source": [
    "some_string = \"\\t\\tthis is the data xyz\"\n",
    "print(some_string) # To render tabs in a Jupyter notebook we need to use print()"
   ]
  },
  {
   "cell_type": "code",
   "execution_count": 31,
   "id": "79715192",
   "metadata": {},
   "outputs": [
    {
     "data": {
      "text/plain": [
       "'this is the data xyz'"
      ]
     },
     "execution_count": 31,
     "metadata": {},
     "output_type": "execute_result"
    }
   ],
   "source": [
    "some_string.strip()"
   ]
  },
  {
   "cell_type": "code",
   "execution_count": 33,
   "id": "efaa92f1",
   "metadata": {
    "scrolled": true
   },
   "outputs": [
    {
     "data": {
      "text/plain": [
       "'\\t\\tthis is the data'"
      ]
     },
     "execution_count": 33,
     "metadata": {},
     "output_type": "execute_result"
    }
   ],
   "source": [
    "some_string.strip(' xyz')"
   ]
  },
  {
   "cell_type": "markdown",
   "id": "f2c636d9",
   "metadata": {},
   "source": [
    "#### `str.replace()`\n",
    "\n",
    "`str.replace()` replaces a substring in a `str` with another string and returns the modified `str`. You must provide two inputs: the substring to find, and the string to replace it with."
   ]
  },
  {
   "cell_type": "code",
   "execution_count": 34,
   "id": "a1d4ec51",
   "metadata": {},
   "outputs": [
    {
     "data": {
      "text/plain": [
       "'some_genome.fna'"
      ]
     },
     "execution_count": 34,
     "metadata": {},
     "output_type": "execute_result"
    }
   ],
   "source": [
    "filename = \"some_genome.fasta\"\n",
    "filename.replace(\".fasta\", \".fna\")"
   ]
  }
 ],
 "metadata": {
  "kernelspec": {
   "display_name": "Python 3 (ipykernel)",
   "language": "python",
   "name": "python3"
  },
  "language_info": {
   "codemirror_mode": {
    "name": "ipython",
    "version": 3
   },
   "file_extension": ".py",
   "mimetype": "text/x-python",
   "name": "python",
   "nbconvert_exporter": "python",
   "pygments_lexer": "ipython3",
   "version": "3.11.5"
  }
 },
 "nbformat": 4,
 "nbformat_minor": 5
}
