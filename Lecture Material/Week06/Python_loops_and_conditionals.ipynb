{
 "cells": [
  {
   "cell_type": "markdown",
   "id": "c9015c88-0293-48ae-b7f5-4ebc5dda9e9b",
   "metadata": {},
   "source": [
    "# Loops and Conditionals\n",
    "\n",
    "## Loops\n",
    "\n",
    "We covered two kinds of loops in the Bash portion of this course: `for` and `while`. Both loops also exist in Python and perform in a similar way. Specifically, `for` loops execute a block of code once per element of the iterable thing you specify. `while` loops, on the other hand, execute a block of code as long as a condition is true. We'll look at some simple loops here to illustrate how looping works in Python.\n",
    "\n",
    "### For loops\n",
    "\n",
    "#### What is a for loop?\n",
    "\n",
    "`for` loops execute a block of code once per element returned by an iterable. But what is an iterable? An iterable is any object which has a method to return elements one by one. `str`s are iterable. They return each of their characters one by one. `list`s are also iterable. They return their elements. `int`s are not iterable. \n",
    "\n",
    "It makes sense that `int`s don't have an iterable behavior. Perhaps they could return their digits one by one, but each digit is not meaningful on its own. A 1 followed by two other digits isn't just a 1; it's 100.\n",
    "\n",
    "We're not going to discuss iterables further at this point in the course. For now, just remember that `for` loops can iterate over any class that supports it, but not all classes have the required functionality.\n",
    "\n",
    "#### for loop syntax\n",
    "\n",
    "For loops in Bash are structured using the keywords `for`, `do`, and `done`. Those keywords delimit the various portions of the loop: the initialization of the loop variables, the start of the loop body, and the end of the loop. We talked about using whitespace to make it easier to read a loop, but the whitespace only served a visual function. Bash would execute the loop equally well without any indentation. Python does not use keywords like `do` and `done`. Instead, indentation is used to indicate what code is within the body of the loop.\n",
    "\n",
    "Consider the following example that iterates over the characters of a `str` and prints them."
   ]
  },
  {
   "cell_type": "code",
   "execution_count": 1,
   "id": "eaf873c4-528e-4046-9443-d856d502e0e3",
   "metadata": {},
   "outputs": [
    {
     "name": "stdout",
     "output_type": "stream",
     "text": [
      "a\n",
      "b\n",
      "c\n"
     ]
    }
   ],
   "source": [
    "for i in \"abc\":\n",
    "    print(i)"
   ]
  },
  {
   "cell_type": "markdown",
   "id": "7a4f1ea1-74e4-4c8d-9482-9708cac91720",
   "metadata": {},
   "source": [
    "The first line of that loop looks quite similar to a Bash `for` loop. However, a Python `for` loop requires that the first line ends in a colon (\":\") character and that subsequent lines are indented. Indentation can be achieved with spaces or tabs. \n",
    "\n",
    "All lines following the first line of that loop that are indented are then executed once per iteration of the loop.\n",
    "\n",
    "If we had added an additional line at the end without indentation, it would have been executed only once the loop had finished."
   ]
  },
  {
   "cell_type": "code",
   "execution_count": 2,
   "id": "891ca837-61e2-4181-b484-ea99ff6a337a",
   "metadata": {},
   "outputs": [
    {
     "name": "stdout",
     "output_type": "stream",
     "text": [
      "a\n",
      "b\n",
      "c\n",
      "done\n"
     ]
    }
   ],
   "source": [
    "for i in \"abc\":\n",
    "    print(i)\n",
    "print(\"done\")"
   ]
  },
  {
   "cell_type": "markdown",
   "id": "813e9982-365d-4501-9de1-6dce8c8f3e69",
   "metadata": {},
   "source": [
    "If you do try to iterate over an object that doesn't support it, you will get something like the following error explaining what you have done wrong."
   ]
  },
  {
   "cell_type": "code",
   "execution_count": 3,
   "id": "1edc0729-cc9b-4b26-9037-28513387a006",
   "metadata": {},
   "outputs": [
    {
     "ename": "TypeError",
     "evalue": "'int' object is not iterable",
     "output_type": "error",
     "traceback": [
      "\u001b[0;31m---------------------------------------------------------------------------\u001b[0m",
      "\u001b[0;31mTypeError\u001b[0m                                 Traceback (most recent call last)",
      "Cell \u001b[0;32mIn[3], line 1\u001b[0m\n\u001b[0;32m----> 1\u001b[0m \u001b[38;5;28;01mfor\u001b[39;00m i \u001b[38;5;129;01min\u001b[39;00m \u001b[38;5;241m123\u001b[39m:\n\u001b[1;32m      2\u001b[0m     \u001b[38;5;28mprint\u001b[39m(i)\n",
      "\u001b[0;31mTypeError\u001b[0m: 'int' object is not iterable"
     ]
    }
   ],
   "source": [
    "for i in 123:\n",
    "    print(i)"
   ]
  },
  {
   "cell_type": "markdown",
   "id": "58a6a6a1-4e00-4cc3-9c09-7d08cc659662",
   "metadata": {},
   "source": [
    "### While loops\n",
    "\n",
    "#### What is a while loop?\n",
    "\n",
    "`while` loops execute a block of code until a condition is no longer true. While loops have a similar syntax to for loops. Specifically, the first line ends in a colon and lines within the loop are indented."
   ]
  },
  {
   "cell_type": "code",
   "execution_count": 4,
   "id": "bfd97975-ceba-47f4-b8e8-8387f5d9dc34",
   "metadata": {},
   "outputs": [
    {
     "name": "stdout",
     "output_type": "stream",
     "text": [
      "0\n",
      "1\n",
      "2\n"
     ]
    }
   ],
   "source": [
    "x = 0\n",
    "while x < 3:\n",
    "    print(x)\n",
    "    x += 1"
   ]
  },
  {
   "cell_type": "markdown",
   "id": "db2a96e0-1524-4d3f-a4be-49b156c28f60",
   "metadata": {},
   "source": [
    "Bash `while` loops use exit codes to determine whether to break a loop. Python `while` loops don't work in the same way. Specifically, a command failing and returning an error will end a Bash `while` loop, but a failing command will abort execution of your Python program rather than simply breaking a loop. Instead, Python uses an object class called a `bool` or boolean. Booleans are either True or False. All Python variables can be converted to a `bool` for use in a `while` loop or other conditional. We'll get more into that in the next section when we cover conditional statments."
   ]
  },
  {
   "cell_type": "markdown",
   "id": "fec71db9-f3db-4b7b-829c-9cf03041d279",
   "metadata": {
    "tags": []
   },
   "source": [
    "### A note on indentation\n",
    "\n",
    "[The official Python style guide](https://peps.python.org/pep-0008/) recommends the use of 4 spaces to indent blocks of code. However, if you prefer, you can use tabs instead. Python code will execute if either indentation method is used, as long as the two are not mixed. I.e., you must use **EITHER** spaces or tabs to indent within a single script. If you ever change your mind about what you want to use, decent text editors include an option to switch between the two. E.g., in Sublime Text and VSCode, the option is at the bottom right of your window where it says \"Tab Size\" or \"Spaces\"."
   ]
  },
  {
   "cell_type": "markdown",
   "id": "16f7b13e-55d9-4fb2-8cf6-79dbe2b1ce1d",
   "metadata": {},
   "source": [
    "#### loop data\n",
    "\n",
    "When iterating over an object, be mindful of the data type you are working with. If you are iterating over a `str`, each character will be returned to you as a `str`. However, if you are iterating over a `list`, each element will be returned to you as whatever class the element has. Within the loop you can therefore only perform operations that are supported by that class. For example:"
   ]
  },
  {
   "cell_type": "code",
   "execution_count": 5,
   "id": "4dfc9eed-5c59-431c-bdf2-31afbbcb5fa5",
   "metadata": {},
   "outputs": [
    {
     "name": "stdout",
     "output_type": "stream",
     "text": [
      "i is a\n",
      "i is b\n",
      "i is c\n"
     ]
    }
   ],
   "source": [
    "for i in [\"a\", \"b\", \"c\"]:\n",
    "    # This is fine because str supports concatenation\n",
    "    print(\"i is \" + i)"
   ]
  },
  {
   "cell_type": "code",
   "execution_count": 6,
   "id": "35768338-e036-423d-bc4c-f4848df0e67e",
   "metadata": {},
   "outputs": [
    {
     "ename": "TypeError",
     "evalue": "can only concatenate str (not \"int\") to str",
     "output_type": "error",
     "traceback": [
      "\u001b[0;31m---------------------------------------------------------------------------\u001b[0m",
      "\u001b[0;31mTypeError\u001b[0m                                 Traceback (most recent call last)",
      "Cell \u001b[0;32mIn[6], line 3\u001b[0m\n\u001b[1;32m      1\u001b[0m \u001b[38;5;28;01mfor\u001b[39;00m i \u001b[38;5;129;01min\u001b[39;00m [\u001b[38;5;241m1\u001b[39m, \u001b[38;5;241m2\u001b[39m, \u001b[38;5;241m3\u001b[39m]:\n\u001b[1;32m      2\u001b[0m     \u001b[38;5;66;03m# This doesn't work because you can't concatenate a str and an int\u001b[39;00m\n\u001b[0;32m----> 3\u001b[0m     \u001b[38;5;28mprint\u001b[39m(\u001b[38;5;124m\"\u001b[39m\u001b[38;5;124mi is \u001b[39m\u001b[38;5;124m\"\u001b[39m \u001b[38;5;241m+\u001b[39m i)\n",
      "\u001b[0;31mTypeError\u001b[0m: can only concatenate str (not \"int\") to str"
     ]
    }
   ],
   "source": [
    "for i in [1, 2, 3]:\n",
    "    # This doesn't work because you can't concatenate a str and an int\n",
    "    print(\"i is \" + i)"
   ]
  },
  {
   "cell_type": "markdown",
   "id": "edef4242-0593-4817-a5cb-89540ceeb9ac",
   "metadata": {},
   "source": [
    "If you know what type of data you have, but want it to be another type, you can convert it. For example, to convert an `int` to a `str`, we can use the function `str()`"
   ]
  },
  {
   "cell_type": "code",
   "execution_count": 7,
   "id": "0f063190-166c-4c3c-a36f-67e474fc5916",
   "metadata": {},
   "outputs": [
    {
     "name": "stdout",
     "output_type": "stream",
     "text": [
      "i is 1\n",
      "i is 2\n",
      "i is 3\n"
     ]
    }
   ],
   "source": [
    "for i in [1, 2, 3]:\n",
    "    # Converting each int to a str before concatenating works\n",
    "    print(\"i is \" + str(i))"
   ]
  },
  {
   "cell_type": "markdown",
   "id": "5177f189-668a-44da-8a1b-dffaaf597a19",
   "metadata": {},
   "source": [
    "Make sure you know what the data are before converting them. Otherwise you won't know what the output will look like."
   ]
  },
  {
   "cell_type": "code",
   "execution_count": 8,
   "id": "183dda6d-ad42-4b60-94bb-0f56405a29ce",
   "metadata": {},
   "outputs": [
    {
     "name": "stdout",
     "output_type": "stream",
     "text": [
      "i is [1]\n",
      "i is [2]\n",
      "i is [3]\n"
     ]
    }
   ],
   "source": [
    "for i in [[1],[2],[3]]:\n",
    "    print(\"i is \" + str(i))"
   ]
  },
  {
   "cell_type": "markdown",
   "id": "9ea76132-b209-4f2b-99f2-359014d79ded",
   "metadata": {},
   "source": [
    "### Unpacking containers (`list`s) into variables\n",
    "\n",
    "When you are iterating over nested data, or other cases where an iterator returns a container object like a `list`, you can unpack the data into one variable per element. This is similar to what we did with the Bash `read` command."
   ]
  },
  {
   "cell_type": "code",
   "execution_count": 9,
   "id": "b722ee9b-e8e3-4255-9d39-ac0529392075",
   "metadata": {},
   "outputs": [
    {
     "name": "stdout",
     "output_type": "stream",
     "text": [
      "1 2\n",
      "3\n",
      "4 5\n",
      "6\n"
     ]
    }
   ],
   "source": [
    "nested_list = [[1, 2, 3], [ 4, 5, 6]]\n",
    "\n",
    "for x, y, z in nested_list:\n",
    "    # printing in separate commands to show the separation of the unpacked data\n",
    "    print(x, y)\n",
    "    print(z)"
   ]
  },
  {
   "cell_type": "markdown",
   "id": "b9e3c109-e874-4213-88b1-4561a1ad9cc0",
   "metadata": {},
   "source": [
    "If you only want a subset of the data, there is a pythonic way to do that. I talked about using variables to take up unwanted data last week. In that example, I used a variable called \"x\" to store each of the columns of a BLAST output that I didn't intend to use. In Python code, the convention is to use `_` as a variable name for data you aren't going to use. Here's how that would look if we only wanted to first element from each of the nested lists in the above example:"
   ]
  },
  {
   "cell_type": "code",
   "execution_count": 10,
   "id": "7ccfcd52-a713-4daf-8e37-a0e043305916",
   "metadata": {},
   "outputs": [
    {
     "name": "stdout",
     "output_type": "stream",
     "text": [
      "1\n",
      "4\n"
     ]
    }
   ],
   "source": [
    "for x, _, _ in nested_list:\n",
    "    print(x)"
   ]
  },
  {
   "cell_type": "markdown",
   "id": "2a67212e-223b-45bd-916f-f9c326580ccc",
   "metadata": {},
   "source": [
    "## Conditionals\n",
    "\n",
    "Conditionals in Python work in much the same way as those in Bash; they check a condition and execute a block of code if the condition is true. However, the syntax of how conditions are checked is different between the two languages.\n",
    "\n",
    "### What do conditionals check in Python?\n",
    "\n",
    "In Bash, as we saw, conditionals check exit codes from commands. If the exit code is 0, the condition is said to be true. Otherwise the condition is false. In Python, instead of using exit codes, there is a class called `bool` which can be either True of False. Anything that returns a `bool` or can be converted to a `bool` can be used for a condition. We'll see what is being used by conditionals in the below example. For now, just remember that conditional statements can check pretty much anything and will treat it as a `bool`.\n",
    "\n",
    "### Conditional syntax and a peek under the hood\n",
    "\n",
    "We've already seen the syntax of `while` loops above and how it uses indentation instead of keywords to indicate what is within and outside the loop. `if` statments in Python use the same system. Instead of `if`, `then`, and `fi`, Python uses indentation."
   ]
  },
  {
   "cell_type": "code",
   "execution_count": 11,
   "id": "eaa065c6-7356-4d15-ac58-48d2c9888998",
   "metadata": {},
   "outputs": [
    {
     "name": "stdout",
     "output_type": "stream",
     "text": [
      "equal\n"
     ]
    }
   ],
   "source": [
    "x = 1\n",
    "y = 1\n",
    "if x > y:\n",
    "    print(\"greater\")\n",
    "elif x < y:\n",
    "    print(\"less\")\n",
    "else:\n",
    "    print(\"equal\")\n"
   ]
  },
  {
   "cell_type": "markdown",
   "id": "e5259542-b08b-4fba-b240-7c44ab22a881",
   "metadata": {},
   "source": [
    "To see what's actually being checked by if, let's take a peek at the output of those conditions"
   ]
  },
  {
   "cell_type": "code",
   "execution_count": 12,
   "id": "032db02f-9640-47ac-9618-23e0d4c8557f",
   "metadata": {},
   "outputs": [
    {
     "name": "stdout",
     "output_type": "stream",
     "text": [
      "False\n",
      "False\n",
      "True\n"
     ]
    }
   ],
   "source": [
    "print(x>y)\n",
    "print(x<y)\n",
    "# Equivalence is checked with ==\n",
    "print(x==y)"
   ]
  },
  {
   "cell_type": "markdown",
   "id": "ce7d7dca-a870-49e1-a862-03262630bca2",
   "metadata": {},
   "source": [
    "And what is `True` and `False`?"
   ]
  },
  {
   "cell_type": "code",
   "execution_count": 13,
   "id": "102f3bc7-9602-4cd2-923f-fbc3a14d595c",
   "metadata": {},
   "outputs": [
    {
     "name": "stdout",
     "output_type": "stream",
     "text": [
      "<class 'bool'>\n",
      "<class 'bool'>\n"
     ]
    }
   ],
   "source": [
    "print(type(True))\n",
    "print(type(x==y))"
   ]
  },
  {
   "cell_type": "markdown",
   "id": "67cc6823-3cd1-4f4d-ac0b-31cfedaeb677",
   "metadata": {},
   "source": [
    "As you can see, the result of our conditions is another class, `bool`, that was introduced above.\n",
    "\n",
    "### Checking multiple conditions\n",
    "\n",
    "In the Bash section of the course, we covered using `&&` and `||` to define relationships between multiple conditions. Python also has this functionality. However, the syntax is different. Instead of using the symbols `&&` to mean \"and\", and `||` to mean \"or\", Python uses the English words \"and\" and \"or\". In addition, conditions can be grouped together using parentheses \"()\" to create more complicated groupings of conditions.\n",
    "\n",
    "For example, to identify perfect BLAST hits in `-outfmt '6 std qlen'` output, we could use the following if statement (assuming you had named the columns):"
   ]
  },
  {
   "cell_type": "code",
   "execution_count": 1,
   "id": "ec7595b9-3faa-4242-b0c8-8e3e18c231a2",
   "metadata": {},
   "outputs": [
    {
     "name": "stdout",
     "output_type": "stream",
     "text": [
      "success\n"
     ]
    }
   ],
   "source": [
    "pid = 100.000\n",
    "matchlen = 28\n",
    "qlen = 28\n",
    "\n",
    "if pid == 100 and matchlen == qlen:\n",
    "    print(\"success\")"
   ]
  },
  {
   "cell_type": "markdown",
   "id": "3051a9b5-bbc3-4087-acd1-a8d188bf2fb3",
   "metadata": {},
   "source": [
    "Say we were dealing with BLAST hits where we wanted hits that were either the full query length *or* the full subject length. Those conditions would be 100% identity and either full query length or full subject length\n",
    "\n",
    "using output that also includes the slen, we could group those conditions as follows:"
   ]
  },
  {
   "cell_type": "code",
   "execution_count": 2,
   "id": "b57dc294-abce-424f-afa2-abf9a621cb23",
   "metadata": {},
   "outputs": [
    {
     "name": "stdout",
     "output_type": "stream",
     "text": [
      "still success\n"
     ]
    }
   ],
   "source": [
    "slen=400\n",
    "if pid == 100 and (matchlen == qlen or matchlen == slen):\n",
    "    print(\"still success\")"
   ]
  },
  {
   "cell_type": "markdown",
   "id": "2f116316-7251-4e47-8133-001ec94e499e",
   "metadata": {},
   "source": [
    "### Making matters more complicated...\n",
    "\n",
    "`if` and `while` are not limited to only checking nicely formatted conditional statements. They can check other things as well. Do that by converting whatever you give them to a `bool`.\n",
    "\n",
    "In general, empty objects or objects equal to zero are equivalent to the `bool` `False`, while anything else is equivalent to the `bool` `True`. You can use this to check when a variable has been added to. For example:"
   ]
  },
  {
   "cell_type": "code",
   "execution_count": 14,
   "id": "06561afc-af8c-4f09-9897-336195d7da45",
   "metadata": {},
   "outputs": [
    {
     "name": "stdout",
     "output_type": "stream",
     "text": [
      "3\n",
      "2\n",
      "1\n"
     ]
    }
   ],
   "source": [
    "num = 3\n",
    "while num:\n",
    "    print(num)\n",
    "    num -= 1"
   ]
  },
  {
   "cell_type": "markdown",
   "id": "a7e5f5c7-d966-44bd-99c0-a170856e401c",
   "metadata": {},
   "source": [
    "If you run `print(num)` now you can see that the loop broke once `num` reached 0"
   ]
  },
  {
   "cell_type": "code",
   "execution_count": 15,
   "id": "dfec99c3-d4cb-4e95-a36d-013cc241de9c",
   "metadata": {},
   "outputs": [
    {
     "name": "stdout",
     "output_type": "stream",
     "text": [
      "0\n"
     ]
    }
   ],
   "source": [
    "print(num)"
   ]
  },
  {
   "cell_type": "markdown",
   "id": "f8fba54b-6126-4631-9afa-36978b41632e",
   "metadata": {},
   "source": [
    "As I mentioned, you can also use this to check when variables become empty or have their first element added to them."
   ]
  },
  {
   "cell_type": "code",
   "execution_count": 16,
   "id": "3218a941-4be1-4ec2-bf3a-abe9fda97a47",
   "metadata": {},
   "outputs": [
    {
     "name": "stdout",
     "output_type": "stream",
     "text": [
      "0\n",
      "1\n",
      "2\n",
      "3\n",
      "[3]\n"
     ]
    }
   ],
   "source": [
    "num = 0\n",
    "mylist = []\n",
    "\n",
    "# the keyword \"not\" negates a bool.\n",
    "while not mylist:\n",
    "    if num == 3:\n",
    "        mylist.append(num)\n",
    "    print(num)\n",
    "    num += 1\n",
    "    \n",
    "# print mylist outside the loop to see what it contained at the end\n",
    "print(mylist)"
   ]
  },
  {
   "cell_type": "markdown",
   "id": "6f3b7339-f35c-40bf-9ca7-5b59388bc1b9",
   "metadata": {},
   "source": [
    "As you can see in this example, the loop proceeded until `num` was equal to 3. At that point, the `if` condition was satisfied and `num` was appended to `mylist`. Once `mylist` was no longer empty, the `while` condition stopped being `True` and the loop broke."
   ]
  }
 ],
 "metadata": {
  "kernelspec": {
   "display_name": "Python 3 (ipykernel)",
   "language": "python",
   "name": "python3"
  },
  "language_info": {
   "codemirror_mode": {
    "name": "ipython",
    "version": 3
   },
   "file_extension": ".py",
   "mimetype": "text/x-python",
   "name": "python",
   "nbconvert_exporter": "python",
   "pygments_lexer": "ipython3",
   "version": "3.11.5"
  }
 },
 "nbformat": 4,
 "nbformat_minor": 5
}
