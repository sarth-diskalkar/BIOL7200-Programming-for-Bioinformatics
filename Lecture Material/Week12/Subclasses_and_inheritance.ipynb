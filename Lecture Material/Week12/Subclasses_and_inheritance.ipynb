{
 "cells": [
  {
   "cell_type": "markdown",
   "id": "4d375318-4943-4952-857e-1e553a3711ff",
   "metadata": {},
   "source": [
    "# Subclasses and Inheritance\n",
    "\n",
    "In the last Jupyter notebook, we covered how you can write custom classes to create Python objects with behaviours defined by you. However, we did not discuss a major feature of classes: their extensibility. In this notebook, we will cover creating subclasses to extend classes, i.e., create a copy of the base class with additional or modified behaviour. To explore subclasses, we will consider two scenarios:\n",
    "\n",
    "1. extending or modifying classes written by someone else (e.g., Python built-in types)\n",
    "2. Writing multiple related classes yourself\n",
    "\n",
    "## Writing a basic subclass\n",
    "\n",
    "Let's start with an example of functionality we might want that we have already covered in this course: an iterable `int`. An iterable `int` is a great example of when you might want to create a subclass. We want a class that has all the characteristics and behaviours of an `int`, but we also want it to be iterable. i.e., we want to add a little bit of extra functionality to something that already exists.\n",
    "\n",
    "To refresh your memory, the approach we have taken before to iterate over an `int` is to convert it to a `str` and then iterate over the characters of the `str`, yielding each as an `int`. That function looked something like this"
   ]
  },
  {
   "cell_type": "code",
   "execution_count": 1,
   "id": "c2787c6f-b0d9-4894-ad29-75b1812abc6c",
   "metadata": {},
   "outputs": [
    {
     "name": "stdout",
     "output_type": "stream",
     "text": [
      "1\n",
      "2\n",
      "3\n"
     ]
    }
   ],
   "source": [
    "from typing import Iterator\n",
    "\n",
    "def iter_int(num: int) -> Iterator[int]:\n",
    "    num_string = str(num)\n",
    "    \n",
    "    for char in num_string:\n",
    "        yield int(char)\n",
    "    \n",
    "for x in iter_int(123):\n",
    "    print(x)"
   ]
  },
  {
   "cell_type": "markdown",
   "id": "b630fd19-3b07-4f24-bba9-4c91386aa3fa",
   "metadata": {},
   "source": [
    "Perhaps we don't want to have to call this function all the time, but instead just want iteration to happen for `int`s like it does for `str` and other iterable classes. In order for a class to support iteration, it needs to have an implemented `__iter__()` method. Note the double underscores which tell us that this is a method that Python will look for under some circumstances.\n",
    "\n",
    "Let's start by creating a subclass of `int` that is simply a copy of the `int` class. Here, I'm using the word copy to mean that our new class has the same methods etc. However, it's not strictly a copy due to differences in inheritance which we will discuss shortly."
   ]
  },
  {
   "cell_type": "code",
   "execution_count": 2,
   "id": "733f622b-aa9d-4676-9f8a-597701edd89b",
   "metadata": {},
   "outputs": [],
   "source": [
    "class IterInt(int):\n",
    "    pass"
   ]
  },
  {
   "cell_type": "markdown",
   "id": "3df31edd-070e-4129-90ad-92fa5b90d26a",
   "metadata": {},
   "source": [
    "We now have a minimal subclass of `int`, which is named `IterInt`. If you compare this minimal subclass to the minimal class defined in the last notebook, you will see that the only difference is the inclusion of parentheses after the class name. Indeed, that's all there is to it if you want to create a subclass. Now that we have our subclass of `int` we can go about customizing its behaviour exactly as if we were writing a class from scratch. The only difference between the classes created in the last notebook and a subclass is how Python looks for attributes and methods. Python searches using a system of \"inheritance\". Let's go on a quick tangent to discuss what inheritance means before we get into making our `IterInt` class.\n",
    "\n",
    "## Inheritance\n",
    "\n",
    "In the `IterInt` class definition above, we included `int` in parentheses after the class name. That declares that `IterInt` is a subclass of `Int`. What that means in practice is that `IterInt` will inherit its methods and attributes from `Int`. i.e., unless we overwrite a method, any time a method is called for our `IterInt` class, the `Int` method will be used. We can see that more clearly if we quickly throw together a simple example of a custom base class and a subclass of it."
   ]
  },
  {
   "cell_type": "code",
   "execution_count": 3,
   "id": "c0e26940-c440-4821-8517-28220c2633b1",
   "metadata": {},
   "outputs": [],
   "source": [
    "class BaseClass:\n",
    "    some_attribute = \"I am an attribute of BaseClass\"\n",
    "    \n",
    "    def some_method(self):\n",
    "        print(\"This is BaseClass.some_method()\")\n",
    "\n",
    "class SubClass(BaseClass):\n",
    "    pass"
   ]
  },
  {
   "cell_type": "markdown",
   "id": "2038dc95-aa5e-4743-9702-8cf69abcac5d",
   "metadata": {},
   "source": [
    "Our BaseClass works just like classes we've already discussed"
   ]
  },
  {
   "cell_type": "code",
   "execution_count": 4,
   "id": "f80a31f5-db51-43dd-9c82-b071c20a2175",
   "metadata": {},
   "outputs": [
    {
     "name": "stdout",
     "output_type": "stream",
     "text": [
      "I am an attribute of BaseClass\n",
      "This is BaseClass.some_method()\n"
     ]
    }
   ],
   "source": [
    "x = BaseClass()\n",
    "\n",
    "print(x.some_attribute)\n",
    "x.some_method()"
   ]
  },
  {
   "cell_type": "markdown",
   "id": "ee8178e8-ff24-425a-80cf-97aa6645fee3",
   "metadata": {},
   "source": [
    "Our SubClass behaves the same way as we haven't changed or overwritten anything yet"
   ]
  },
  {
   "cell_type": "code",
   "execution_count": 5,
   "id": "c11b3644-986a-4f79-90e3-531e7533c8fb",
   "metadata": {},
   "outputs": [
    {
     "name": "stdout",
     "output_type": "stream",
     "text": [
      "I am an attribute of BaseClass\n",
      "This is BaseClass.some_method()\n"
     ]
    }
   ],
   "source": [
    "y = SubClass()\n",
    "\n",
    "print(y.some_attribute)\n",
    "y.some_method()"
   ]
  },
  {
   "cell_type": "markdown",
   "id": "5f635830-7645-4190-9796-67ce7981164e",
   "metadata": {},
   "source": [
    "But if in our `SubClass` we overwrite something that was defined in our `BaseClass`, then which does Python use?"
   ]
  },
  {
   "cell_type": "code",
   "execution_count": 6,
   "id": "d0c1ec43-1109-43dc-9d3d-d100ccb4fdbb",
   "metadata": {},
   "outputs": [
    {
     "name": "stdout",
     "output_type": "stream",
     "text": [
      "Now I'm an attribute of SomeClass\n",
      "This is BaseClass.some_method()\n"
     ]
    }
   ],
   "source": [
    "class SubClass(BaseClass):\n",
    "    some_attribute = \"Now I'm an attribute of SomeClass\"\n",
    "    \n",
    "z = SubClass()\n",
    "\n",
    "print(z.some_attribute)\n",
    "z.some_method()"
   ]
  },
  {
   "cell_type": "markdown",
   "id": "229c1355-c8b8-4e2c-a81a-791d72f56700",
   "metadata": {},
   "source": [
    "Now our `SubClass` has an attribute with the same name as one in `BaseClass`. Creating something in a subclass that has the same name as something in the base class is called overriding. The way it works is by taking advantage of how Python figures out what it should run when you call a method or attribute.\n",
    "\n",
    "Python identifies what it should run by performing the following search (using the example of `z.some_method()` in the above code block):\n",
    "\n",
    "1. Is `some_method()` found within the namespace of the instance, `z`, of `SubClass`? (You can define functions and store them in individual instances if you like)\n",
    "2. Is `some_method()` found within the namespace of the class `SubClass`?\n",
    "3. Is `some_method()` found within the namespace of the class `BaseClass`?\n",
    "\n",
    "As soon as Python finds an attribute or method that matches, it uses that attribute or method and stops searching. That means that if you override anything in your base class, Python will see the version in your subclass first and therefore use that.\n",
    "\n",
    "Before we move back to our `IterInt` class, there are two more things you should know about the above search, which have implications for how you will create subclasses:\n",
    "\n",
    "1. The search is recursive. i.e., Python will check the classes inherited by each class from your current subclass all the way up to the end of the chain. All classes inherit from the class `object` in Python, so the chain will terminate there. If you don't declare a subclass with parentheses, your class still actually inherits from `object`. You can see [the docs for object here](https://docs.python.org/3/library/functions.html#object).\n",
    "2. The search proceeds from left to right through base classes if there are more than one. You can actually specify more than one base class when defining a class. Consider the example `NewClass(BaseA, BaseB):`. When searching for methods or attributes called in an instance of `NewClass`, first the namespace of the instance will be searched, then `NewClass`, then `BaseA`, then the parents of `BaseA` all the way up to `object`, then `BaseB`, then the parents of `BaseB`.\n",
    "\n",
    "## Writing and Overriding Methods\n",
    "\n",
    "Let's get back to the `IterInt` class we were working on. To refresh your memory, we were creating a subclass of `int` that implements a method to allow iteration. Iteration is implemented using the `__iter__()` method. To demonstrate that is the case, let's first implement something silly just to show that we truly have complete control over how iteration will work in our class."
   ]
  },
  {
   "cell_type": "code",
   "execution_count": 7,
   "id": "286eb4fc-2d3f-4fd7-88ce-c6710035147f",
   "metadata": {},
   "outputs": [
    {
     "name": "stdout",
     "output_type": "stream",
     "text": [
      "look\n",
      "at\n",
      "me\n",
      "go\n"
     ]
    }
   ],
   "source": [
    "class IterInt(int):\n",
    "    def __iter__(self):\n",
    "        for s in [\"look\", \"at\", \"me\", \"go\"]:\n",
    "            yield s\n",
    "\n",
    "x = IterInt(123)\n",
    "\n",
    "for i in x:\n",
    "    print(i)"
   ]
  },
  {
   "cell_type": "markdown",
   "id": "ab7cf4da-1ecd-483a-960d-b987f2352721",
   "metadata": {},
   "source": [
    "As you see above, simply implementing an `__iter__()` method is sufficient to allow iteration with an instance of our class. Furthermore, we don't actually need to iterate over something relating to our class. We can really do whatever we want. However, it's probably more sensible in most cases to implement an `__iter__()` method that iterates over some attribute of your class instance. Let's do that instead."
   ]
  },
  {
   "cell_type": "code",
   "execution_count": 8,
   "id": "e51c4019-a0ec-4fe9-9250-d18044edbaa1",
   "metadata": {},
   "outputs": [
    {
     "name": "stdout",
     "output_type": "stream",
     "text": [
      "1\n",
      "2\n",
      "3\n"
     ]
    }
   ],
   "source": [
    "class IterInt(int):\n",
    "    def __iter__(self):\n",
    "        for s in str(self):\n",
    "            yield IterInt(s)\n",
    "\n",
    "x = IterInt(123)\n",
    "\n",
    "for i in x:\n",
    "    print(i)"
   ]
  },
  {
   "cell_type": "markdown",
   "id": "c21bda0e-104f-4ed1-9168-18b43c529de6",
   "metadata": {},
   "source": [
    "Note that what we are actually doing in this implementation of the `__iter__()` method is using `str()` to return a `str` representation of our object. It's important to keep in mind that, [as described in the docs](https://docs.python.org/3/library/stdtypes.html#str), all `str()` does is call the `__str__()` or `__repr__()` method of the object. The above approach works, because `int.__str__()` simply returns the number as a `str`. If we tried this with one of the classes we wrote `__str__()` and `__repr__()` methods for in the last notebook, it wouldn't work as well as this. In short, remember that Python isn't magically able to tell what we want it to do. It is simply running functions with defined behaviour. It is important we keep in mind exactly what those functions are and how they will behave so that we can foresee or deal with errors or bugs in our code.\n",
    "\n",
    "Now we have a class that does what we wanted. It has all the behaviours of an `int`, except it is also iterable. However, we might not be satisfied just yet. Let's see what could bug us in the future:"
   ]
  },
  {
   "cell_type": "code",
   "execution_count": 9,
   "id": "e3a94a17-bc10-443e-8518-f7ce19f2c6d4",
   "metadata": {},
   "outputs": [
    {
     "name": "stdout",
     "output_type": "stream",
     "text": [
      "<class '__main__.IterInt'>\n",
      "<class 'int'>\n"
     ]
    }
   ],
   "source": [
    "print(type(x))\n",
    "y = x - 5\n",
    "print(type(y))"
   ]
  },
  {
   "cell_type": "markdown",
   "id": "00419e91-47fa-40fd-84a2-654786ebf373",
   "metadata": {},
   "source": [
    "If we subtract or add an `int` from our `IterInt`s, or perform other mathematical operations on them, would we want to get another `IterInt` as the result or are we happy to get an `int`? It could definitely be reasonable to want to get out an instance of our new class.\n",
    "\n",
    "What if we subtract an `IterInt` from another `IterInt`?"
   ]
  },
  {
   "cell_type": "code",
   "execution_count": 10,
   "id": "2a83b4bf-e1d9-43e7-bea1-6368be0cd900",
   "metadata": {},
   "outputs": [
    {
     "name": "stdout",
     "output_type": "stream",
     "text": [
      "<class 'int'>\n"
     ]
    }
   ],
   "source": [
    "z = IterInt(5)\n",
    "y = x - z\n",
    "print(type(y))"
   ]
  },
  {
   "cell_type": "markdown",
   "id": "c0965e65-0474-4882-a118-1e362c40bc05",
   "metadata": {},
   "source": [
    "Getting an `int` out when performing mathematical operations with two `IterInt`s is very unlikely to be expected behaviour. We would certainly want it to return an `IterInt` instead. There are a couple of ways we could achieve that. First, we could manually reimpliment all of the method of `int` in our `IterInt` class. However, at that point what was the point in subclassing `int` to begin with? For simple methods that's not going to be too much work, but I'm sure you can imagine cases where you might want to subclass a class that has complex methods which would be burdensome to rewrite. Luckily, there is a better way. Whenever you want to call a method defined in a class that your subclass inherits from, you can use a special function, `super()`. `super()` refers to classes from which your subclass inherits. Python will search as described above for any methods you name. Let's write a modification of the `__sub__()` method that is called when you use the subtract operation `-`. This modified `__sub__()` method should simply run the `int.__sub__()` method, and convert the result to our new `IterInt` class."
   ]
  },
  {
   "cell_type": "code",
   "execution_count": 11,
   "id": "9d190299-be92-4bfe-8100-98dae11ba810",
   "metadata": {},
   "outputs": [
    {
     "name": "stdout",
     "output_type": "stream",
     "text": [
      "<class '__main__.IterInt'>\n",
      "118\n",
      "<class '__main__.IterInt'>\n"
     ]
    }
   ],
   "source": [
    "class IterInt(int):\n",
    "    def __iter__(self):\n",
    "        for s in str(self):\n",
    "            yield IterInt(s)\n",
    "            \n",
    "    def __sub__(self, num):\n",
    "        int_result = super().__sub__(num)\n",
    "        return IterInt(int_result)\n",
    "\n",
    "x = IterInt(123)\n",
    "print(type(x))\n",
    "y = x - 5\n",
    "print(y)\n",
    "print(type(y))"
   ]
  },
  {
   "cell_type": "markdown",
   "id": "71529fa9-b3fc-493f-9de3-ed6f0fe0b06d",
   "metadata": {},
   "source": [
    "Now our `IterInt` returns an instance of `IterInt` whenever you subtract an `int` from it. We can implement the other methods so that our class can handle other mathematical operations too. The list of dunder methods for these operations are listed [in the docs here](https://docs.python.org/3/reference/datamodel.html?highlight=iadd#emulating-numeric-types). We'll just implement a few here in the interest of time."
   ]
  },
  {
   "cell_type": "code",
   "execution_count": 12,
   "id": "696c52fe-d28a-4e98-a665-94d8b70de60f",
   "metadata": {},
   "outputs": [
    {
     "name": "stdout",
     "output_type": "stream",
     "text": [
      "<class '__main__.IterInt'>\n",
      "<class '__main__.IterInt'>\n",
      "<class '__main__.IterInt'>\n",
      "<class '__main__.IterInt'>\n",
      "<class '__main__.IterInt'>\n",
      "didn't implement x**y\n",
      "<class 'int'>\n"
     ]
    }
   ],
   "source": [
    "class IterInt(int):\n",
    "    def __iter__(self):\n",
    "        for s in str(self):\n",
    "            yield IterInt(s)\n",
    "            \n",
    "    def __sub__(self, num): # called by -\n",
    "        int_result = super().__sub__(num)\n",
    "        return IterInt(int_result)\n",
    "    \n",
    "    def __add__(self, num): # called by +\n",
    "        int_result = super().__add__(num)\n",
    "        return IterInt(int_result)\n",
    "    \n",
    "    def __mul__(self, num): # called by *\n",
    "        int_result = super().__mul__(num)\n",
    "        return IterInt(int_result)\n",
    "    \n",
    "    def __truediv__(self, num): # called by /\n",
    "        int_result = super().__truediv__(num)\n",
    "        return IterInt(int_result)\n",
    "    \n",
    "    def __floordiv__(self, num): # called by //\n",
    "        int_result = super().__floordiv__(num)\n",
    "        return IterInt(int_result)\n",
    "\n",
    "x = IterInt(123)\n",
    "\n",
    "print(type(x + 5))\n",
    "print(type(x - 5))\n",
    "print(type(x * 5))\n",
    "print(type(x / 5))\n",
    "print(type(x // 5))\n",
    "\n",
    "# but\n",
    "print(\"didn't implement x**y\")\n",
    "print(type(x ** 5))"
   ]
  },
  {
   "cell_type": "markdown",
   "id": "bd412f78-cebc-4708-aabd-2c8c29035432",
   "metadata": {},
   "source": [
    "## Writing Subclasses of Our Own Classes\n",
    "\n",
    "When writing simple software, it will be common to encounter a situation in which you need custom functionality that inspires you to write a class. It will be less common for you to need to write multiple related classes. However, there will be times when something like that is called for. For example, in the last document We wrote a `BLASTResult` class to read in the output of a BLAST. We then added to it by writing some methods that were very much tailored to isPCR. In doing so, we no longer had a class that was generic to BLAST output. Perhaps a better approach would have been to write a generic class to read BLAST output, then subclass that to write specific classes which provide functionality for all the different analysis we might want to perform on our BLAST output. Perhaps one subclass would handle BLAST results for primers, while another could be tailored to BLAST results corresponding to protein domains for which we want to identify homologs. Both of those subclasses would need the basic functionality of reading in the fields of a BLAST output. However, each subclass would then need different methods for the analysis of the BLAST outputs. If you ever find yourself in a situation where you want to create multiple different objects with custom functionality AND those objects are going to have some overlap in their functionality, you should consider creating a base class that handles the overlapping functionality.\n",
    "\n",
    "The approach we are going to discuss here is simply an application of the concepts covered above. However, to help to keep this as clear as possible, I'm going to use a simple example rather than reimplimenting something complicated like the `BLASTResult` class from the last notebook. Instead, lets create some classes for different shapes."
   ]
  },
  {
   "cell_type": "code",
   "execution_count": 13,
   "id": "2a323881-784c-4876-98ee-74c02e6893c2",
   "metadata": {},
   "outputs": [],
   "source": [
    "class Shape:\n",
    "    def __init__(self, sides: int):\n",
    "        self.sides = sides"
   ]
  },
  {
   "cell_type": "markdown",
   "id": "0d6b3621-d4d6-4328-9302-0cfbe221f4e3",
   "metadata": {},
   "source": [
    "All shapes have some number of sides, but other attributes (or at least the attributes you might wish to use) can differ between shapes. Let's make some subclasses that extend our shape class to be more specialized"
   ]
  },
  {
   "cell_type": "code",
   "execution_count": 14,
   "id": "09431ec4-5444-49c2-b94f-5ba5b259c835",
   "metadata": {},
   "outputs": [
    {
     "name": "stdout",
     "output_type": "stream",
     "text": [
      "{'radius': 2, 'sides': 1}\n",
      "12.56\n"
     ]
    }
   ],
   "source": [
    "class Circle(Shape):\n",
    "    def __init__(self, radius: float):\n",
    "        self.radius = radius\n",
    "        super().__init__(1) # Call the init of our base class to initialize the generic parts\n",
    "    \n",
    "    def area(self) -> float:\n",
    "        return 3.14 * (self.radius ** 2)\n",
    "    \n",
    "    def circumference(self) -> float:\n",
    "        return 2 * 3.14 * self.radius\n",
    "\n",
    "c = Circle(2)\n",
    "print(vars(c))\n",
    "print(c.area())"
   ]
  },
  {
   "cell_type": "markdown",
   "id": "eb528806-e89b-4995-b8c8-b490217c2d9e",
   "metadata": {},
   "source": [
    "We can also create a different subclass for other shapes"
   ]
  },
  {
   "cell_type": "code",
   "execution_count": 15,
   "id": "c3d4aab9-d561-4da4-a90e-5f08753c4a87",
   "metadata": {},
   "outputs": [
    {
     "name": "stdout",
     "output_type": "stream",
     "text": [
      "{'height': 2, 'width': 4, 'sides': 4}\n",
      "8\n"
     ]
    }
   ],
   "source": [
    "class Rectangle(Shape):\n",
    "    def __init__(self, height: float, width: float):\n",
    "        self.height = height\n",
    "        self.width = width\n",
    "        super().__init__(4) # Call the init of our base class to initialize the generic parts\n",
    "    \n",
    "    def area(self) -> float:\n",
    "        return self.height * self.width\n",
    "    \n",
    "    def perimeter(self) -> float:\n",
    "        return 2 * (self.height + self.width)\n",
    "    \n",
    "r = Rectangle(2, 4)\n",
    "print(vars(r))\n",
    "print(r.area())"
   ]
  },
  {
   "cell_type": "markdown",
   "id": "137174c0-d8f7-4d45-bb09-c07ba7b22da8",
   "metadata": {},
   "source": [
    "As you can see, both subclasses now work as independent classes that do not share the more specialized components that we defined, but do share the `.sides` attribute. We can then further subclass our `Circle` and `Rectangle` classes to create new classes with additional functionality."
   ]
  },
  {
   "cell_type": "code",
   "execution_count": 16,
   "id": "38793a76-deea-4a1e-8d87-bd5f1c65a1f0",
   "metadata": {},
   "outputs": [
    {
     "name": "stdout",
     "output_type": "stream",
     "text": [
      "{'radius': 3, 'sides': 1}\n",
      "113.03999999999999\n",
      "113.04\n",
      "28.26\n"
     ]
    }
   ],
   "source": [
    "class Sphere(Circle):\n",
    "    def __init__(self, radius: float):\n",
    "        super().__init__(radius) # Sphere's don't need anything more than the init implemented for Circle\n",
    "    \n",
    "    def volume(self) -> float:\n",
    "        return (4 / 3) * 3.14 * (self.radius ** 3)\n",
    "    \n",
    "    def area(self) -> float:\n",
    "        return 4 * 3.14 * (self.radius ** 2)\n",
    "    \n",
    "    def cross_sectional_area(self) -> float: # We can rename the area method for this class\n",
    "        return super().area()\n",
    "\n",
    "sphere = Sphere(3)\n",
    "print(vars(sphere))\n",
    "print(sphere.volume())\n",
    "print(sphere.area()) # overrode method from Circle\n",
    "print(sphere.cross_sectional_area())"
   ]
  },
  {
   "cell_type": "code",
   "execution_count": 17,
   "id": "765bec27-4fc0-4fc2-a089-36fd18e05cd0",
   "metadata": {},
   "outputs": [
    {
     "name": "stdout",
     "output_type": "stream",
     "text": [
      "{'depth': 4, 'height': 3, 'width': 2, 'sides': 4}\n",
      "24\n",
      "52\n",
      "12\n"
     ]
    }
   ],
   "source": [
    "class Cuboid(Rectangle):\n",
    "    def __init__(self, width: float, height: float, depth: float):\n",
    "        self.depth = depth\n",
    "        super().__init__(height, width)\n",
    "    \n",
    "    def volume(self) -> float:\n",
    "        return self.width * self.height * self.depth\n",
    "    \n",
    "    def area(self) -> float:\n",
    "        return 2 * ((self.width * self.height) + (self.height * self.depth) + (self.width * self.depth))\n",
    "    \n",
    "    def cross_sectional_area(self, axis: str) -> float:\n",
    "        \"\"\" area for a slice when facing axis parallel to named dimension \"\"\"\n",
    "        if axis == \"width\":\n",
    "            return self.height * self.depth\n",
    "        \n",
    "        if axis == \"depth\":\n",
    "            return self.height * self.width\n",
    "        \n",
    "        if axis == \"height\":\n",
    "            return self.width * self.depth\n",
    "        \n",
    "        raise ValueError(\"axis must be one of {'width' , 'height', 'depth'}\")\n",
    "    \n",
    "cuboid = Cuboid(2, 3, 4)\n",
    "print(vars(cuboid))\n",
    "print(cuboid.volume())\n",
    "print(cuboid.area()) # uses overrode method instead of base class method\n",
    "print(cuboid.cross_sectional_area(\"width\"))"
   ]
  },
  {
   "cell_type": "markdown",
   "id": "52dfee9e-32df-401e-be3d-7efe32b0c831",
   "metadata": {},
   "source": [
    "As this example with shapes shows, when you have attributes or methods that you want to use in different ways or with variations, an effective strategy can be to create a heirarchy of classes that inherit desired functionality form base classes. Furthermore, you are never trapped into keeping the functionality of base classes, your subclasses are always free to rename or override the methods and attributes implemented in their base classes."
   ]
  }
 ],
 "metadata": {
  "kernelspec": {
   "display_name": "Python 3 (ipykernel)",
   "language": "python",
   "name": "python3"
  },
  "language_info": {
   "codemirror_mode": {
    "name": "ipython",
    "version": 3
   },
   "file_extension": ".py",
   "mimetype": "text/x-python",
   "name": "python",
   "nbconvert_exporter": "python",
   "pygments_lexer": "ipython3",
   "version": "3.11.5"
  }
 },
 "nbformat": 4,
 "nbformat_minor": 5
}
