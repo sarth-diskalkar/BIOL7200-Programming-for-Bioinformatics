{
 "cells": [
  {
   "cell_type": "markdown",
   "id": "a22103a9-7aa1-486f-9b70-a095b50ad948",
   "metadata": {
    "tags": []
   },
   "source": [
    "# Decorators\n",
    "\n",
    "## What do decorators look like?\n",
    "\n",
    "Decorators are a feature of Python that allow you to modify the behaviour of functions and classes. Decorators in Python are typically written like: \n",
    "\n",
    "```python\n",
    "@decorator\n",
    "def func():\n",
    "    ...\n",
    "```\n",
    "\n",
    "Writing decorators using and \"@\" symbol is what is called \"syntactic sugar\", which means that it is simply an alternative way of writing something. The `@decorator` syntax is easier to read, but the equivalent way to write the use of a decorator is perhaps better to understand what it is doing:\n",
    "\n",
    "```python\n",
    "def func():\n",
    "    ...\n",
    "\n",
    "func = decorator(func)\n",
    "```\n",
    "\n",
    "As the second code snippet indicates, decorators are functions. They take as input a callable object (i.e., function or class), modify it in some way, and then return the modified form. The first form conceals that behaviour a bit in favour of it being more obvious that a function is being modified. Once you know how decorators work, the first form is much easier to follow. Furthermore, the second form requires you to write the function name three times, which is far too many.\n",
    "\n",
    "## How do decorators work?\n",
    "\n",
    "Decorators use a feature of Python that we haven't talked much about in this course - functions are essentially a kind of variable. Functions can be aliased by using an assignment operation and they can also be returned from other functions. Consider the following examples of those two processes in action using the built-in `print()` function."
   ]
  },
  {
   "cell_type": "code",
   "execution_count": 1,
   "id": "1ac2dbcb-e5cf-49e3-998b-4933429e2711",
   "metadata": {},
   "outputs": [
    {
     "name": "stdout",
     "output_type": "stream",
     "text": [
      "hello\n"
     ]
    }
   ],
   "source": [
    "x = print\n",
    "\n",
    "x(\"hello\")"
   ]
  },
  {
   "cell_type": "code",
   "execution_count": 2,
   "id": "b98b7edc-cac0-4d08-87c7-e52a746db32c",
   "metadata": {},
   "outputs": [
    {
     "name": "stdout",
     "output_type": "stream",
     "text": [
      "wassup\n"
     ]
    }
   ],
   "source": [
    "def give_print():\n",
    "    return print\n",
    "\n",
    "y = give_print()\n",
    "\n",
    "y(\"wassup\")"
   ]
  },
  {
   "cell_type": "markdown",
   "id": "aa44a10e-80d5-4ad6-8ffd-4b27fae3d4be",
   "metadata": {},
   "source": [
    "In both cases, the `print()` function was passed around in some way without being executed. Instead, new variables were created that point to the definition of the `print()` function, wherever that code is stored on your computer. We can see that by printing `x` or `y`."
   ]
  },
  {
   "cell_type": "code",
   "execution_count": 3,
   "id": "91f13ce0-db8d-4092-8c5b-069b1296e8aa",
   "metadata": {},
   "outputs": [
    {
     "name": "stdout",
     "output_type": "stream",
     "text": [
      "<built-in function print>\n",
      "<built-in function print>\n",
      "Help on built-in function print in module builtins:\n",
      "\n",
      "print(*args, sep=' ', end='\\n', file=None, flush=False)\n",
      "    Prints the values to a stream, or to sys.stdout by default.\n",
      "    \n",
      "    sep\n",
      "      string inserted between values, default a space.\n",
      "    end\n",
      "      string appended after the last value, default a newline.\n",
      "    file\n",
      "      a file-like object (stream); defaults to the current sys.stdout.\n",
      "    flush\n",
      "      whether to forcibly flush the stream.\n",
      "\n"
     ]
    }
   ],
   "source": [
    "print(x)\n",
    "print(y)\n",
    "# Or printing the help message\n",
    "help(x)"
   ]
  },
  {
   "cell_type": "markdown",
   "id": "3589d6cd-ea5f-45ee-b496-beccad130091",
   "metadata": {},
   "source": [
    "In addition to writing a function that returns the function `print()`, we could also return a function that does something we define."
   ]
  },
  {
   "cell_type": "code",
   "execution_count": 4,
   "id": "469f6663-2651-426b-9315-7c6231aace30",
   "metadata": {},
   "outputs": [
    {
     "name": "stdout",
     "output_type": "stream",
     "text": [
      "123\n",
      "123\n"
     ]
    }
   ],
   "source": [
    "def give_double_print():\n",
    "    def print_twice(something):\n",
    "        print(something)\n",
    "        print(something)\n",
    "    return print_twice\n",
    "\n",
    "x = give_double_print()\n",
    "\n",
    "x(123)"
   ]
  },
  {
   "cell_type": "markdown",
   "id": "4521f860-09da-448f-9d1d-7413f2c58d1e",
   "metadata": {},
   "source": [
    "Let's take a second to talk briefly about what we are doing here. We're defining a function `give_double_print()` and within that function we are defining another function `print_twice()`. The outer function `give_double_print()` returns the inner function, which is then stored in a variable `x`. We can see that x has stored the inner function by printing it."
   ]
  },
  {
   "cell_type": "code",
   "execution_count": 5,
   "id": "31d8308a-22b7-472d-a104-78013e6668f4",
   "metadata": {},
   "outputs": [
    {
     "name": "stdout",
     "output_type": "stream",
     "text": [
      "<function give_double_print.<locals>.print_twice at 0x7f6e3a547600>\n"
     ]
    }
   ],
   "source": [
    "print(x)"
   ]
  },
  {
   "cell_type": "markdown",
   "id": "562689f9-5392-4a6f-8ed3-c202f9670b61",
   "metadata": {},
   "source": [
    "The inner function `print_twice()` is only defined within the namespace of the outer function (you can kind of see that by noting the \".\"s in the printed repr of the function). If we try to call `print_twice()` from outside of `give_double_print()` we get an error."
   ]
  },
  {
   "cell_type": "code",
   "execution_count": 6,
   "id": "e3bdcd88-ab7f-4f44-be6b-65cbda25e4b6",
   "metadata": {},
   "outputs": [
    {
     "ename": "NameError",
     "evalue": "name 'print_twice' is not defined",
     "output_type": "error",
     "traceback": [
      "\u001b[0;31m---------------------------------------------------------------------------\u001b[0m",
      "\u001b[0;31mNameError\u001b[0m                                 Traceback (most recent call last)",
      "Cell \u001b[0;32mIn[6], line 1\u001b[0m\n\u001b[0;32m----> 1\u001b[0m print_twice(\u001b[38;5;124m\"\u001b[39m\u001b[38;5;124mhello\u001b[39m\u001b[38;5;124m\"\u001b[39m)\n",
      "\u001b[0;31mNameError\u001b[0m: name 'print_twice' is not defined"
     ]
    }
   ],
   "source": [
    "print_twice(\"hello\")"
   ]
  },
  {
   "cell_type": "markdown",
   "id": "c6c02ccd-f81b-4076-b304-4735c36e4093",
   "metadata": {},
   "source": [
    "In fact, the `print_twice()` function is only defined when we run the `give_double_print()` function. We can see that more clearly by using a different example. Let's consider a case when the outer function takes some input and the inner function takes a different input. As the inner function is defined within the namespace of the outer function, it has access to other data within that scope. This is just like how you have seen in class that you can define variables outside of functions and then refer to them within functions."
   ]
  },
  {
   "cell_type": "code",
   "execution_count": 7,
   "id": "cb464088-ec7e-49ff-b045-7364d4172240",
   "metadata": {},
   "outputs": [],
   "source": [
    "def outer_func(outer_input):\n",
    "    def inner_func(inner_input):\n",
    "        print(f\"I was made with {outer_input}\")\n",
    "        print(f\"I was called with {inner_input}\")\n",
    "    return inner_func"
   ]
  },
  {
   "cell_type": "markdown",
   "id": "d6c1dc4d-d060-4047-ad06-18631a5e315b",
   "metadata": {},
   "source": [
    "Now let's see what happens when we call `outer_func()` and then call the returned function with different inputs"
   ]
  },
  {
   "cell_type": "code",
   "execution_count": 8,
   "id": "2b9ae156-a095-4c7c-8e7d-9e7cb97ed8d4",
   "metadata": {},
   "outputs": [
    {
     "name": "stdout",
     "output_type": "stream",
     "text": [
      "I was made with original_input\n",
      "I was called with something new\n"
     ]
    }
   ],
   "source": [
    "x = outer_func(\"original_input\")\n",
    "\n",
    "x(\"something new\")"
   ]
  },
  {
   "cell_type": "markdown",
   "id": "196a7971-6e73-43af-b6c7-2536fe24b702",
   "metadata": {},
   "source": [
    "It printed what you probably expected by looking at the function definitions. Let's see what happens when we call it again."
   ]
  },
  {
   "cell_type": "code",
   "execution_count": 9,
   "id": "60fd63be-ddfd-4640-8daf-a74accaf03be",
   "metadata": {},
   "outputs": [
    {
     "name": "stdout",
     "output_type": "stream",
     "text": [
      "I was made with original_input\n",
      "I was called with yet another thing\n"
     ]
    }
   ],
   "source": [
    "x(\"yet another thing\")"
   ]
  },
  {
   "cell_type": "markdown",
   "id": "a07ae508-3819-405b-a5e2-cefc1f487794",
   "metadata": {},
   "source": [
    "Whenever we call `x`, which is the returned inner function, it remembers the input that was provided when it was created, but uses the new input we provide whenever we call it. This behaviour of functions being associated with data present within their enclosing scope upon their definition is called a \"closure\".\n",
    "\n",
    "The reason we care about closures is that decorators are a special kind of closure. Specifically, decorators are functions that look pretty much just like the ones we've been using above, except that instead of taking something like a `str` as an input, they take a function as an input and then do something to the function. Let's take a look at a simple decorator that takes a function as input and returns another function that modifies the behaviour of the first function by simply doubling any inputs provided. "
   ]
  },
  {
   "cell_type": "code",
   "execution_count": 10,
   "id": "3290957b-029f-4c4d-aa7c-726da5fcf405",
   "metadata": {},
   "outputs": [
    {
     "name": "stdout",
     "output_type": "stream",
     "text": [
      "10\n"
     ]
    }
   ],
   "source": [
    "def double_the_input(func):\n",
    "    def wrapper_double_input(x):\n",
    "        result = func(x*2)\n",
    "        return result\n",
    "    return wrapper_double_input\n",
    "\n",
    "@double_the_input\n",
    "def say_number(num):\n",
    "    print(num)\n",
    "\n",
    "say_number(5)"
   ]
  },
  {
   "cell_type": "markdown",
   "id": "93bdd6b0-59ad-4847-8dc9-8306ab191a11",
   "metadata": {},
   "source": [
    "Let's walk through that. In this example, our outer function, `double_the_input()` takes a function as input. Within `double_the_input()` we defined a second function called `wrapper_double_input()`. That inner function takes some input, `x`, as well. Inside the inner function, all that happens is the function that was provided to `double_the_input()` is run with double whatever input was provided to `wrapper_double_input()`. Importantly, just like how the closure in the example above remembered what `str` was provided to the outer function when it was first called, `wrapper_double_input()` will remember the function that was provided to its outer function.\n",
    "\n",
    "Let's try using this decorator a couple of ways to get a better idea of what it's doing. First, let's confirm that our `say_number()` function isn't doing anything odd by itself."
   ]
  },
  {
   "cell_type": "code",
   "execution_count": 11,
   "id": "10d9fa74-63d9-406b-937e-5b4f2145e3dc",
   "metadata": {},
   "outputs": [
    {
     "name": "stdout",
     "output_type": "stream",
     "text": [
      "5\n"
     ]
    }
   ],
   "source": [
    "def say_number(num):\n",
    "    print(num)\n",
    "\n",
    "say_number(5)"
   ]
  },
  {
   "cell_type": "markdown",
   "id": "23f85784-4883-40ff-a271-19450a56bf08",
   "metadata": {},
   "source": [
    "So without the decorator, it is behaving as you would expect. At the start of this document I said that the @ syntax was less clear. Let's use the decorator with the clearer syntax to see what it's actually doing. We can use the un-decorated `say_number()` that we just defined in the above cell. This time, though, let's store the decorated version in another variable."
   ]
  },
  {
   "cell_type": "code",
   "execution_count": 12,
   "id": "60e2bd13-8e61-4a69-9eaf-e893c02cc044",
   "metadata": {},
   "outputs": [
    {
     "name": "stdout",
     "output_type": "stream",
     "text": [
      "20\n",
      "10\n"
     ]
    }
   ],
   "source": [
    "decorated_say_number = double_the_input(say_number)\n",
    "\n",
    "decorated_say_number(10)\n",
    "say_number(10)"
   ]
  },
  {
   "cell_type": "markdown",
   "id": "1081b29e-60fd-495c-9647-7afc19467705",
   "metadata": {},
   "source": [
    "As you can see, the decorated version is modified, but the un-decorated version is not. Looking at the use of the decorator without the @ syntax, it is a bit clearer that what we are actually doing it running the decorator function and storing the return value. The @ syntax does that behind the scenes and overwrites the original function with the return value. We can inspect our decorated and un-decorated function now to see that they are indeed different."
   ]
  },
  {
   "cell_type": "code",
   "execution_count": 13,
   "id": "778988b5-0949-4dd9-ab56-b188d22c6a2e",
   "metadata": {},
   "outputs": [
    {
     "name": "stdout",
     "output_type": "stream",
     "text": [
      "<function say_number at 0x7f6e3a5477e0>\n"
     ]
    }
   ],
   "source": [
    "print(say_number)"
   ]
  },
  {
   "cell_type": "code",
   "execution_count": 14,
   "id": "4ec1a515-054e-4449-84df-ca28993beede",
   "metadata": {},
   "outputs": [
    {
     "name": "stdout",
     "output_type": "stream",
     "text": [
      "<function double_the_input.<locals>.wrapper_double_input at 0x7f6e3a546160>\n"
     ]
    }
   ],
   "source": [
    "print(decorated_say_number)"
   ]
  },
  {
   "cell_type": "markdown",
   "id": "4e3ac866-8dc1-44ac-a8b3-f27b373b6f72",
   "metadata": {},
   "source": [
    "As you can see, the `decorated_say_number()` is really actually the inner function of our decorator in disguise. When we call our decorated function we aren't actually calling the original function directly, we are instead calling a function that then calls our function. (By the way, the thing that calls a thing is often called a wrapper. This is used both for functions and for scripts that run other scripts or software.)\n",
    "\n",
    "That's really all there is to it. While the function within a function concept is pretty confusing, that's all decorators are. They are functions that return a wrapper function which modifies the way some other function runs. \n",
    "\n",
    "I just want to cover two more things before we move on to looking at some decorators you will see commonly used and will likely find useful yourselves. The first thing is that you can't typically inspect decorated functions and see their true identity. We were able to do that here because, unless you add code to change it, the decorator will not remember the identity of the function being wrapper and will instead print its own details as the repr. If instead we wanted our decorator to preserve the information of the original function, we could use a decorator that does that."
   ]
  },
  {
   "cell_type": "code",
   "execution_count": 15,
   "id": "aa637deb-06cc-4b75-8f78-b78d7c92fab7",
   "metadata": {},
   "outputs": [
    {
     "name": "stdout",
     "output_type": "stream",
     "text": [
      "<function say_number at 0x7f6e38483880>\n"
     ]
    }
   ],
   "source": [
    "import functools\n",
    "\n",
    "def double_the_input(func):\n",
    "    @functools.wraps(func)\n",
    "    def wrapper_double_input(x):\n",
    "        result = func(x*2)\n",
    "        return result\n",
    "    return wrapper_double_input\n",
    "\n",
    "@double_the_input\n",
    "def say_number(num):\n",
    "    print(num)\n",
    "\n",
    "print(say_number)"
   ]
  },
  {
   "cell_type": "markdown",
   "id": "c7e13241-110d-4854-98e5-8e62a0331e7b",
   "metadata": {},
   "source": [
    "To see that `@functools.wraps` decorator at work, try commenting out that line in the above cell and rerunning it. You'll see the printed repr of the `say_number()` function change.\n",
    "\n",
    "Note that the way to read what decorators are decorating is to simply read from top to bottom. Decorators decorate the thing on the line below them. In the above cell, `@functools.wraps` is decorating `wrapper_double_input()`. You may also see examples of more than one decorator, one above the other. You can think of that as the first decorator decorating the output of the second decorator. Two decorators, \"first\" and \"second\" decorating a function could be written equivalently as either of the following.\n",
    "\n",
    "```python\n",
    "def func():\n",
    "    ...\n",
    "\n",
    "func = first(second(func))\n",
    "\n",
    "# or\n",
    "\n",
    "@first\n",
    "@second\n",
    "def func():\n",
    "    ...\n",
    "```\n",
    "\n",
    "The second thing I want to cover is a quick point about how decorators transmit arguments to the function they are wrapping. In the example decorator above, the input to `wrapper_double_input()` is a single argument. However, many decorators are designed to work for a wide range of functions. In most cases, the authors of decorator functions won't know beforehand what inputs to expect. Instead, they would probably be best off blindly passing any and all inputs straight to the wrapped function. Indeed, that's what is typically done. Here I just want to quickly describe the syntax that can be used to do that: `*args` and `**kwargs`.\n",
    "\n",
    "`*args` and `**kwargs` refer to arguments and keyword arguments respectively. arguments are any inputs given to a function that are not provided with a name associated with them, while keyword arguments are those that are given as named arguments. Consider the following example function\n",
    "\n",
    "```python\n",
    "def func(x, y):\n",
    "    ...\n",
    "```\n",
    "\n",
    "calling that function with args would look like this\n",
    "\n",
    "```python\n",
    "func(1, 2)\n",
    "```\n",
    "\n",
    "while calling that function with kwargs would look like \n",
    "\n",
    "```python\n",
    "func(x=1, y=2)\n",
    "```\n",
    "\n",
    "So what happens if we instead define the function to accept `*args` and `**kwargs`? Let's run the code and see."
   ]
  },
  {
   "cell_type": "code",
   "execution_count": 16,
   "id": "badb22c1-c10b-4b6a-a9d0-f22de47642fc",
   "metadata": {},
   "outputs": [
    {
     "name": "stdout",
     "output_type": "stream",
     "text": [
      "args were: (1, 2)\n",
      "kwargs were: {}\n"
     ]
    }
   ],
   "source": [
    "def func(*args, **kwargs):\n",
    "    print(f\"args were: {args}\")\n",
    "    print(f\"kwargs were: {kwargs}\")\n",
    "    \n",
    "func(1, 2)"
   ]
  },
  {
   "cell_type": "code",
   "execution_count": 17,
   "id": "e8cc54ce-7fd6-4f06-962c-c32766213472",
   "metadata": {},
   "outputs": [
    {
     "name": "stdout",
     "output_type": "stream",
     "text": [
      "args were: ()\n",
      "kwargs were: {'x': 1, 'y': 2}\n"
     ]
    }
   ],
   "source": [
    "func(x=1, y=2)"
   ]
  },
  {
   "cell_type": "code",
   "execution_count": 18,
   "id": "cb5c1b1e-8afd-448b-9333-4cdf39b5fd04",
   "metadata": {},
   "outputs": [
    {
     "name": "stdout",
     "output_type": "stream",
     "text": [
      "args were: (1,)\n",
      "kwargs were: {'y': 2}\n"
     ]
    }
   ],
   "source": [
    "func(1, y=2)"
   ]
  },
  {
   "cell_type": "markdown",
   "id": "fce78b57-a1bc-4739-b971-2cf075d9f91a",
   "metadata": {},
   "source": [
    "As you can see, when we provide positional arguments, they are stored in `args` and when we provide keyword arguments they are stored in `kwargs`. Just to be completely clear, let's see if it was the words \"args\" and \"kwargs\" that were acheiving this outcome:"
   ]
  },
  {
   "cell_type": "code",
   "execution_count": 19,
   "id": "9c135e01-6982-4a82-98c5-3d351e8649c1",
   "metadata": {},
   "outputs": [
    {
     "name": "stdout",
     "output_type": "stream",
     "text": [
      "apple was: (1,)\n",
      "banana was: {'y': 2}\n"
     ]
    }
   ],
   "source": [
    "def func(*apple, **banana):\n",
    "    print(f\"apple was: {apple}\")\n",
    "    print(f\"banana was: {banana}\")\n",
    "    \n",
    "func(1, y=2)"
   ]
  },
  {
   "cell_type": "markdown",
   "id": "3826174c-7794-487b-a80e-563afe3c122b",
   "metadata": {},
   "source": [
    "No! In fact, `*` and `**` is a Python idiom. `*` unpacks a list of 0 or more elements into a tuple. When you provide positional arguments, those are stored in a tuple behind the scenes and then unpacked into the parameters defined in your function. The `*` syntax essentially means \"put the rest in here as a tuple\". You can use the same syntax when unpacking tuples in other situations. For example"
   ]
  },
  {
   "cell_type": "code",
   "execution_count": 20,
   "id": "01d8e11e-c330-4a88-a4b1-1703c36c4727",
   "metadata": {},
   "outputs": [
    {
     "name": "stdout",
     "output_type": "stream",
     "text": [
      "1\n",
      "2\n",
      "3\n"
     ]
    }
   ],
   "source": [
    "a, b, c = 1, 2, 3\n",
    "print(a)\n",
    "print(b)\n",
    "print(c)"
   ]
  },
  {
   "cell_type": "code",
   "execution_count": 21,
   "id": "a09331e9-c41c-48b0-b681-2a133cb8f432",
   "metadata": {},
   "outputs": [
    {
     "name": "stdout",
     "output_type": "stream",
     "text": [
      "1\n",
      "[2, 3]\n"
     ]
    }
   ],
   "source": [
    "a, *b = 1, 2, 3\n",
    "print(a)\n",
    "print(b)"
   ]
  },
  {
   "cell_type": "markdown",
   "id": "0a479f5d-b9c1-462c-94a1-6e5bce131ba1",
   "metadata": {},
   "source": [
    "Note that `*` actually just takes whatever isn't explictely being stored in another variable so you can take the first and last element and put the rest in another variable as follows"
   ]
  },
  {
   "cell_type": "code",
   "execution_count": 22,
   "id": "24980be4-e305-46d0-9512-2f450fe7c410",
   "metadata": {},
   "outputs": [
    {
     "name": "stdout",
     "output_type": "stream",
     "text": [
      "0\n",
      "[1, 2, 3, 4, 5, 6, 7, 8]\n",
      "9\n"
     ]
    }
   ],
   "source": [
    "a, *b, c = [i for i in range(10)]\n",
    "print(a)\n",
    "print(b)\n",
    "print(c)"
   ]
  },
  {
   "cell_type": "markdown",
   "id": "4233a438-04e8-4f92-b807-bd0549413d5e",
   "metadata": {},
   "source": [
    "This is very handy for unpacking columns of files or any other case where you just want one field but don't want to both writing out variables to take the rest. It can also be clearer than indexing an executed function like `x = some_func()[0]` as that requires you to read to the end of the function call, which can be unclear if the function takes a lot of arguments. This syntax can be clearer as all the details of the assignment are on the left of the `=` sign.\n",
    "\n",
    "`**` is a bit different to `*`. While `*` could be used within functions and in other cases of unpacking a container object like a `list` or `tuple`, `**` is only used in handling keyword arguments in calling or defining functions. In both cases `**` works to convert the keyword arguments either to or from a `dict`. As you saw in the example above, when we gave `func()` keyword arguments, they were stored in a dict in which the name of the parameter is the key, and the provided input is the value. In addition, `**` can be used to provide a dict of the same format as input to a function. For example,"
   ]
  },
  {
   "cell_type": "code",
   "execution_count": 23,
   "id": "134fbbcc-097a-4b84-be30-c7017bb055d5",
   "metadata": {},
   "outputs": [
    {
     "name": "stdout",
     "output_type": "stream",
     "text": [
      "apple was: ()\n",
      "banana was: {'x': 1, 'y': 2}\n"
     ]
    }
   ],
   "source": [
    "our_kwargs = {\"x\": 1, \"y\":2}\n",
    "\n",
    "func(**our_kwargs)"
   ]
  },
  {
   "cell_type": "markdown",
   "id": "c4ea80aa-bb94-4374-af01-7a120d01a6c1",
   "metadata": {},
   "source": [
    "## Useful decorators\n",
    "\n",
    "Now that we have (hopefully) cleared up basically what decorators do and how they work, let's take a look at a few that you might find useful. We'll discuss four decorators here, all of which decorate classes or their methods. The decorators we will discuss are `@dataclass`, `@staticmethod`, `@classmethod`, and `@property`\n",
    "\n",
    "### `@dataclass`\n",
    "\n",
    "The `@dataclass` decorator provides some time-saving functionality when writing classes. In the most basic usage, `@dataclass` handles writing a simple `__init__()`, `__repr__()`, and `__eq__()` methods. It's especially useful when writing classes that are simply going to store provided inputs in fields without any complex `__init__()` processing. Additionally, when paired with the `@classmethod` decorator that we will discuss below, you can also use the automatically generated `__init__()` of a dataclass to store data that requires processing.\n",
    "\n",
    "Defining a dataclass looks a lot like defining any other class except that you start your class with (after the docstring) an ordered list of the attributes you want to be populated during instance creation. Any optional attributes can be assigned a default value."
   ]
  },
  {
   "cell_type": "code",
   "execution_count": 24,
   "id": "cac5c08f-3321-47dd-8593-0e721b80fede",
   "metadata": {},
   "outputs": [
    {
     "name": "stdout",
     "output_type": "stream",
     "text": [
      "MyDataClass(a='Hi', b=1, c=0)\n"
     ]
    }
   ],
   "source": [
    "from dataclasses import dataclass\n",
    "\n",
    "@dataclass\n",
    "class MyDataClass:\n",
    "    \"\"\"docstring goes here\"\"\"\n",
    "    a: str\n",
    "    b: int\n",
    "    c: int = 0\n",
    "\n",
    "x = MyDataClass(\"Hi\", 1)\n",
    "print(x)"
   ]
  },
  {
   "cell_type": "markdown",
   "id": "e5c043d0-d0fb-465e-b6d3-1ecef47fbec0",
   "metadata": {},
   "source": [
    "As you can see, we have a simple class that initialized correctly and also has a nice `__repr__()` that prints informatively and would be sufficient to recreate our instance if we copied and pasted that print-out into a script. Let's compare that to a class without the decorator that works the same way."
   ]
  },
  {
   "cell_type": "code",
   "execution_count": 25,
   "id": "256dc8cd-84db-4fe5-901d-57ab3ffbcbda",
   "metadata": {},
   "outputs": [
    {
     "name": "stdout",
     "output_type": "stream",
     "text": [
      "MyRegularClass(a='Hi', b=1, c=0)\n",
      "True\n"
     ]
    }
   ],
   "source": [
    "class MyRegularClass:\n",
    "    \"\"\"docstring\"\"\"\n",
    "    def __init__(self, a:str, b:int, c: int = 0):\n",
    "        self.a = a\n",
    "        self.b = b\n",
    "        self.c = c\n",
    "    def __repr__(self):\n",
    "        return f\"{self.__class__.__name__}(a='{self.a}', b={self.b}, c={self.c})\"\n",
    "    \n",
    "    def __eq__(self, other):\n",
    "        return (self.a, self.b, self.c) == (other.a, other.b, other.c)\n",
    "\n",
    "y = MyRegularClass(\"Hi\", 1)\n",
    "print(y)\n",
    "print(x==y)"
   ]
  },
  {
   "cell_type": "markdown",
   "id": "785abb82-72a4-4dc2-ac3b-560044d1cc93",
   "metadata": {},
   "source": [
    "As you can see, `@dataclass` automates the writing of some fairly laborious \"boilerplate code\". If we were to make a class with many attributes or found ourselves changing the names of our attributes, modifying the `__repr__()` and `__eq__()` methods manually would be quite unpleasant. Furthermore, `@dataclass` can also write all the other comparator methods to support things like `>` and `<`. If you simple use `@dataclass(order=True)` then it will handle writing those methods to simply compare instances as ordered `tuple`s of their attributes (i.e., compares the first attribute of each instance, then if those are the same checks the second etc until it finds attributes that differ).\n",
    "\n",
    "### `@staticmethod`\n",
    "\n",
    "Sometimes when writing methods in a class, you might find that the method is likely to not only be useful for working with data stored in instances of the class, but also for working with data outside the class instances. An example of this could be if you are writing a class to store DNA sequences. It would be sensible to write a method to reverse complement sequence. However, you could foreseeably want to reverse complement sequences not stored in the class as well. A staticmethod would be suitable in that case. The sequence class example would look like something this"
   ]
  },
  {
   "cell_type": "code",
   "execution_count": 26,
   "id": "7adca6a4-e304-4663-832f-328411eaf689",
   "metadata": {},
   "outputs": [],
   "source": [
    "class SequenceRecord:\n",
    "    def __init__(self, header: str, sequence: str):\n",
    "        self.header = header\n",
    "        self.sequence = sequence\n",
    "    \n",
    "    @staticmethod\n",
    "    def reverse_complement(seq):\n",
    "        rev_bases = {\"A\": \"T\", \"T\": \"A\", \"C\": \"G\", \"G\": \"C\"}\n",
    "        return \"\".join([rev_bases[b] for b in seq[::-1]])"
   ]
  },
  {
   "cell_type": "markdown",
   "id": "faa3da7d-1dfd-4840-a10c-f7ab0d877455",
   "metadata": {},
   "source": [
    "If you compare the definition line of the `reverse_complement()` method, you'll notice that it does not include a `self` parameter. Staticmethods don't take `self` as an input and do not have access to the attributes of the class. That means that they do not require an instance of the class to exist to be called.\n",
    "\n",
    "We can now use the `reverse_complement()` method anywhere we have access to the `SequenceRecord` class. In fact, we can use the method either by calling it in an instance of the class, or directly in the class itself."
   ]
  },
  {
   "cell_type": "code",
   "execution_count": 27,
   "id": "d6284474-76fc-43f1-9498-934e15c0c310",
   "metadata": {},
   "outputs": [
    {
     "name": "stdout",
     "output_type": "stream",
     "text": [
      "AATTGGCC\n",
      "CGAT\n"
     ]
    }
   ],
   "source": [
    "x = SequenceRecord(\"seq1\", \"GTCGTGACGTCAAAC\")\n",
    "\n",
    "print(x.reverse_complement(\"GGCCAATT\"))\n",
    "\n",
    "print(SequenceRecord.reverse_complement(\"ATCG\"))"
   ]
  },
  {
   "cell_type": "markdown",
   "id": "94672e4a-d9be-4860-bb50-e6eba9a8cb1a",
   "metadata": {},
   "source": [
    "Writing a method as a staticmethod doesn't stop us using the method within the class. The only difference is that when calling that method from another method of the same class is that we would need to explicitely pass an argument containing the data we want to analyze. With instance methods the method always has access to the attributes of the instance through the `self` variable so you generally don't need to pass things between instance methods. A method of the `SequenceRecord` class would call the `reverse_complement()` method as `self.reverse_complement(<sequence>)`.\n",
    "\n",
    "### `@classmethod`\n",
    "\n",
    "If, during last week's session on classes, or during this week's session, you have considered how you might apply classes to your own code, you might have wondered about how you could write `__init__()` methods that could handle different input formats. For example, perhaps you want to write a class that can handle genome features like those we used in several of the assignments in this class. To write such a class, you could reasonably expect to need to write code to handle the features being encoded in [BED](https://genome.ucsc.edu/FAQ/FAQformat.html#format1), [GFF](https://genome.ucsc.edu/FAQ/FAQformat.html#format3), [GTF](https://genome.ucsc.edu/FAQ/FAQformat.html#format4), [GBK](https://www.ncbi.nlm.nih.gov/Sitemap/samplerecord.html), or another format. One possibility is that you could write your `__init__()` function to take an argument that states the format to use. However, your `__init__()` would quickly become complex. An alternative approach is to use the `@classmethod` decorator to define a method for each different way you could want to make an instance of your class (e.g., one method for each distinct format in which genome features can be encoded).\n",
    "\n",
    "Staticmethods, which were described above, change the nature of methods, by removing `self` from the parameters of the method. Classmethods also make a large change to the way the method behaves. Specifically, classmethods don't take `self` as their first input, but instead take the class itself. Classmethods then return an instance of the class.\n",
    "\n",
    "To make use of a classmethod, you simply write a generic `__init__()` that will take all the inputs you will want to store as attributes in your class. All of the processing is going to be performed by the classmethod so the `__init__()` can simply take some arguments and then store those directly in attributes without further processing. Once you have written the `__init__()` you then write a method that takes some sort of input, extracts all the desired information, and then creates an instance of the class just like you would outside the class. An example of how that would look in a simple example using genomic features in BED format is as follows"
   ]
  },
  {
   "cell_type": "code",
   "execution_count": 28,
   "id": "6f611ac0-b2d3-49e9-8cd3-3a19bda73be0",
   "metadata": {},
   "outputs": [
    {
     "name": "stdout",
     "output_type": "stream",
     "text": [
      "<__main__.GenomeFeature object at 0x7f6e13e10cd0>\n",
      "{'seqid': 'some_contig', 'start': 1000, 'stop': 2000}\n"
     ]
    }
   ],
   "source": [
    "class GenomeFeature:\n",
    "    def __init__(self, seqid: str, start: int, stop: int):\n",
    "        self.seqid = seqid\n",
    "        self.start = start\n",
    "        self.stop = stop\n",
    "    \n",
    "    @classmethod\n",
    "    def from_bed(cls, bedline: str):\n",
    "        columns = bedline.strip().split(\"\\t\")\n",
    "        seqid = columns[0]\n",
    "        start = int(columns[1])\n",
    "        stop = int(columns[2])\n",
    "        \n",
    "        instance = cls(seqid, start, stop)\n",
    "        return instance\n",
    "        \n",
    "bed_line = \"some_contig\\t1000\\t2000\\n\"\n",
    "\n",
    "feat = GenomeFeature.from_bed(bed_line)\n",
    "\n",
    "print(feat)\n",
    "print(vars(feat))"
   ]
  },
  {
   "cell_type": "markdown",
   "id": "8baa3edd-96f8-4691-a3a6-4db0e3979d88",
   "metadata": {},
   "source": [
    "Python handles giving the classmethod the class for the instantiation, just like it handles giving `self` to regular instance methods. All you need to do for a classmethod is process the data into the format that your `__init__()` is expecting and then create the instance and return it. Let's add a second classmethod to handle GFF, just to show that you can have more than one classmethod for the same class."
   ]
  },
  {
   "cell_type": "code",
   "execution_count": 29,
   "id": "d6fe0c1b-022b-4924-98a1-d891a8c075fc",
   "metadata": {},
   "outputs": [
    {
     "name": "stdout",
     "output_type": "stream",
     "text": [
      "<__main__.GenomeFeature object at 0x7f6e13e12250>\n",
      "{'seqid': 'some_contig', 'start': 1000, 'stop': 2000}\n",
      "<__main__.GenomeFeature object at 0x7f6e13e13e10>\n",
      "{'seqid': 'contig_1', 'start': 999, 'stop': 1010}\n"
     ]
    }
   ],
   "source": [
    "class GenomeFeature:\n",
    "    def __init__(self, seqid: str, start: int, stop: int):\n",
    "        self.seqid = seqid\n",
    "        self.start = start\n",
    "        self.stop = stop\n",
    "    \n",
    "    @classmethod\n",
    "    def from_bed(cls, bedline: str):\n",
    "        columns = bedline.strip().split(\"\\t\")\n",
    "        seqid = columns[0]\n",
    "        start = int(columns[1])\n",
    "        stop = int(columns[2])\n",
    "        \n",
    "        instance = cls(seqid, start, stop)\n",
    "        return instance\n",
    "    \n",
    "    @classmethod\n",
    "    def from_gff(cls, gffline: str):\n",
    "        columns = gffline.strip().split(\"\\t\")\n",
    "        seqid = columns[0]\n",
    "        start = int(columns[3]) - 1 # 1-based numbering in GFF files\n",
    "        stop = int(columns[4])\n",
    "        \n",
    "        instance = cls(seqid, start, stop)\n",
    "        return instance\n",
    "\n",
    "bed_line = \"some_contig\\t1000\\t2000\\n\"\n",
    "\n",
    "bed_feat = GenomeFeature.from_bed(bed_line)\n",
    "    \n",
    "gff_line = \"contig_1\\tGene\\tpromoter\\t1000\\t1010\\t42\\t+\\t.\\tX\"\n",
    "\n",
    "gff_feat = GenomeFeature.from_gff(gff_line)\n",
    "\n",
    "print(bed_feat)\n",
    "print(vars(bed_feat))\n",
    "print(gff_feat)\n",
    "print(vars(gff_feat))"
   ]
  },
  {
   "cell_type": "markdown",
   "id": "2bf5f915-0cb9-4f2a-9e4a-42e36720e39c",
   "metadata": {},
   "source": [
    "### `@property`\n",
    "\n",
    "Finally, consider a situation in which you want to control how a user can interact with an attribute in some way. An example of such a case could be one that sticks with the above example of genome features: you might want to have a public API (i.e., what a user sees) that uses a 1-base counting system like GFF format, but behind the scenes you might prefer to use 0-base counting as that is what Python uses. One solution to this situation could be to have a method to set the attribute (e.g., called `set_location`), which allows the user to provide a 1-base number that your class then converts to 0-base and stores. You could then have another method that performs the inverse operation (e.g., called `get_location`). This would work, but your user would have to remember two different methods to use to interact with the same attribute.\n",
    "\n",
    "Instead, in such a case, you would probably be better off using a `@property`. What a `@property` does is essentially what I just described, except it does it behind the scenes and exposes a single attribute name to the user. Then, by using context clues about how the attribute is used (e.g., in an assignment operation vs as an argument in a function call) the `@property` decorator handles calling the appropriate method. The data would still be stored in an attribute of the class, and the `@property` method would simply access the attribute to set or retrieve the information. Typically such an attribute is treated as private (for use within the class only), which is indicated with a leading \"\\_\" character We could write a simple class that offers this 0-base to 1-base conversion using a `@property` as follows"
   ]
  },
  {
   "cell_type": "code",
   "execution_count": 30,
   "id": "23a158d6-4e78-4490-935d-fe7c0e64c71a",
   "metadata": {},
   "outputs": [
    {
     "name": "stdout",
     "output_type": "stream",
     "text": [
      "The public value of pos through the @property is 100\n",
      "The private value of _pos hidden in the class is 99\n"
     ]
    }
   ],
   "source": [
    "class CoordinateClass:\n",
    "    def __init__(self, position: int = 0):\n",
    "        self._pos = position\n",
    "    \n",
    "    # This method is how the attribute should be retrieved\n",
    "    @property\n",
    "    def pos(self):\n",
    "        return self._pos + 1\n",
    "    \n",
    "    # The setter method is how the attribute should be changed or created\n",
    "    @pos.setter \n",
    "    def pos(self, val: int):\n",
    "        self._pos = val - 1\n",
    "\n",
    "x = CoordinateClass()\n",
    "\n",
    "x.pos = 100\n",
    "print(f\"The public value of pos through the @property is {x.pos}\")\n",
    "print(f\"The private value of _pos hidden in the class is {x._pos}\")"
   ]
  },
  {
   "cell_type": "markdown",
   "id": "9447c403-6771-4542-8158-b0e2e5152522",
   "metadata": {},
   "source": [
    "As you can see in the above code, the `@property` decorator is a bit different from other decorators that we've looked at because you need to call use it in a different way to decorate multiple methods and it changes name after the first method. There's not much to understand here; it's just how it's written, and so you just need to remember this syntax if you want to use properties. A bit of jargon that might help is that the first method you define, which you decorate with `@property`, is called the \"getter\" method. That's the one that retrieves that value. Once you have defined the \"getter\" method, that property is then referred to using the name of the getter method in future decorators. Additionally, you typically define a \"setter\" method to create or change the value. The \"setter\" method is decorated with a decorator that is the name of the getter function plus `.setter`. That identifies the decorated method as defining how the property should be set. Finally, you may also define a \"deleter\" method if you like. That method controls how the value should be deleted in case there is anything specific about how that should happen.\n",
    "\n",
    "In addition to examples where you might want to mdofiy values before storing or returning them, a couple of other cases in which you might want to use properties:\n",
    "\n",
    "1. If it is computationally demanding to calculate something about your data, you could have a getter method that checks if the data have already been calculated and then calculate and store the data if not. This means you only expend that compute time if something asks for the data.\n",
    "2. If you want to create a read-only attribute then you can simply only define a getter method and not define a setter method. Then if anyone tries to use the property to change the stored value, they will get an error. Note that this isn't foolproof. The \"private\" attributes that start with \"\\_\" are not actually private. Anyone with access to your class can change them. Python doesn't prevent anyone from accessing anything in the code. Nothing is truly private. Instead, Python operates under a system where anyone changing private variables is free to do so, but is responsible for the consequences. Read-only attributes are therefore only encouragement to not change the value. They will stop people who are not familiar with Python, and will make other people pause to think about what they are doing and whether they should actually change the value."
   ]
  }
 ],
 "metadata": {
  "kernelspec": {
   "display_name": "Python 3 (ipykernel)",
   "language": "python",
   "name": "python3"
  },
  "language_info": {
   "codemirror_mode": {
    "name": "ipython",
    "version": 3
   },
   "file_extension": ".py",
   "mimetype": "text/x-python",
   "name": "python",
   "nbconvert_exporter": "python",
   "pygments_lexer": "ipython3",
   "version": "3.11.5"
  }
 },
 "nbformat": 4,
 "nbformat_minor": 5
}
