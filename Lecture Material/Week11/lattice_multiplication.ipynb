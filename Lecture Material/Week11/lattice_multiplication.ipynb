{
 "cells": [
  {
   "cell_type": "markdown",
   "id": "66955c9f-c19b-4616-997c-16997f59bd67",
   "metadata": {},
   "source": [
    "# Implementing lattice multiplication in Python\n",
    "\n",
    "Lattice multiplication is an algorithm that (at least when I was in a child in England before readily available cell phones) is sometimes taught as an approach that can be used to multiply large numbers manually (i.e., in one's head or with pen and paper). Lattice multiplication is an algorithm that is fairly simple to use, especially when drawn out and seen. Here, we will implement the algorithm in Python.\n",
    "\n",
    "## Lattice multiplication algorithm steps\n",
    "\n",
    "Before we can implement the algorithm in Python, we need to first identify the discrete steps of the algorithm and consider how each can be acheived. As discussed in the lecture slides, the steps of Lattice multiplication are as follows:\n",
    "\n",
    "1. For two integers, N and M, construct a matrix of dimensions N by M, where each cell of the matrix is divided in two parts\n",
    "2. For each cell of the matrix, multiply the appropriate digit of N and M and store the result as two digits (i.e., if the result is less than 10, add a leading 0 to make it two digits)\n",
    "3. Sum the numbers along each diagonal of the matrix\n",
    "4. Working from right to left, process the sums. If any of the sums are greater than 10, carry the 1 by adding it to the value of the next sum\n",
    "\n",
    "We can see these steps at work if we go through an illustrated example. Let's work through the process to multiply 12 * 345.\n",
    "\n",
    "First, a matrix is constructed of dimensions N by M. i.e., N columns and M rows.\n",
    "\n",
    "![starting grid](images/empty_grid.png)\n",
    "\n",
    "Next, we fill in each cell with the product of the corresponding digits of our two integers. If the product of the two digits is greater than 10, the digit corresponding to the number of \"tens\" goes in the upper half of the cell, while the \"ones\" digit goes in the lower half of the cell.\n",
    "\n",
    "![filled grid](images/filled_grid.png)\n",
    "\n",
    "Finally, the numbers along each diagonal are summed, starting with the bottom right corner and working right to left. When the result of an summing operation is greater than 10, the \"tens\" digit is carried to the following diagonal. That results in the following output for our grid\n",
    "\n",
    "![finished_gred](images/finished_grid.png)\n",
    "\n",
    "## Python implementation\n",
    "\n",
    "Let's now work through the steps of the algorithm and write Python code to perform each one.\n",
    "\n",
    "### Matrix construction\n",
    "\n",
    "First, we must contruct our empty matrix. The matrix should have rows equal to the number of digits in one number and columns equal to the number of digits in the other number. It doesn't matter which number is used to determine each dimension. Let's use the first number to determine the number of rows and the second for columns. \n",
    "\n",
    "As the first step of constructing our matrix is to count digits in each number, we first need a way to get that information. We can use our iterint approach from the week when we covered functions. That looks something like this"
   ]
  },
  {
   "cell_type": "code",
   "execution_count": 1,
   "id": "adb5a163-b997-4ff5-bf57-25996dd48baa",
   "metadata": {},
   "outputs": [],
   "source": [
    "def int_digits(num: int) -> list[int]:\n",
    "\tdigits = []\n",
    "\tfor n in str(num):\n",
    "\t\tdigits.append(int(n))\n",
    "\treturn digits"
   ]
  },
  {
   "cell_type": "markdown",
   "id": "ee2b551f-2ef8-411d-8aff-aa097fa2188c",
   "metadata": {},
   "source": [
    "We can now get the digits of an integer in a `list` that can be iterated over. More importantly for our present task though, `list` has a `__len__()` method so we can get its length with `len()`."
   ]
  },
  {
   "cell_type": "code",
   "execution_count": 2,
   "id": "f8366515-440c-4551-9e08-ba72065edfb3",
   "metadata": {},
   "outputs": [
    {
     "name": "stdout",
     "output_type": "stream",
     "text": [
      "[1, 2, 3, 4, 5]\n",
      "5\n"
     ]
    }
   ],
   "source": [
    "x = int_digits(12345)\n",
    "print(x)\n",
    "print(len(x))"
   ]
  },
  {
   "cell_type": "markdown",
   "id": "aa220548-f096-4259-be62-29a0932d5ba5",
   "metadata": {},
   "source": [
    "Now we can write a function to construct a matrix with dimensions determined by the number of digits in two numbers. Let's stick with the numbers used for the above example: 12 * 345, which will create a matrix of two rows and three columns.\n",
    "\n",
    "A matrix is simply a 2-dimensional array of elements. What that looks like in pure Python is typically a `list` of `list`s. You can think of the outer `list` as being the rows of the matrix and the inner `list` as the columns. For example, `[[1, 2], [3, 4]]` would represent the matrix\n",
    "\n",
    "1 2\\\n",
    "3 4\n",
    "\n",
    "We could also use numpy or pandas to create a matrix as they are designed specifically for that sort of data structure. We'll stick with pure Python here.\n",
    "\n",
    "To add a bit more complexity, we're actually going to need to store a list of the two digits in each cell of our matrix. That will result in a `list` of `list`s of `list`s (i.e., a three-dimensional array). This is simply because we need to be able to refer to the first and second digit. We can't store the two digits as single `int` because `int` does not support indexing. Our three-dimensional array is really just going to be a two-dimensional matrix, where each cell contains two numbers.\n"
   ]
  },
  {
   "cell_type": "code",
   "execution_count": 3,
   "id": "217c0d75-4564-485e-90a3-95aaedbb60f8",
   "metadata": {},
   "outputs": [
    {
     "name": "stdout",
     "output_type": "stream",
     "text": [
      "[[], [], []]\n",
      "[[], [], []]\n"
     ]
    }
   ],
   "source": [
    "def make_matrix(number_a: int, number_b: int) -> list[list[list[None]]]:\n",
    "    # First get a list of the digits\n",
    "    digits_a = int_digits(number_a)\n",
    "    digits_b = int_digits(number_b)\n",
    "    \n",
    "    # Build the empty matrix\n",
    "    matrix = []\n",
    "    for row in digits_a: # We won't actually use the row and digits_a variables here, but these variable names help make what we are doing more readable\n",
    "        mat_row = []\n",
    "        for col in digits_b:\n",
    "            # append the empty list that will contain our two digits later\n",
    "            mat_row.append([])\n",
    "        matrix.append(mat_row)\n",
    "    \n",
    "    return matrix\n",
    "\n",
    "num_a = 12\n",
    "num_b = 345\n",
    "matrix = make_matrix(num_a, num_b)\n",
    "\n",
    "# confirm it has the right dimensions (2 rows, 3 columns)\n",
    "for row in matrix:\n",
    "    print(row)\n",
    "        "
   ]
  },
  {
   "cell_type": "markdown",
   "id": "26626052-7a35-4d89-b716-c9fc83d8da99",
   "metadata": {},
   "source": [
    "### Matrix filling\n",
    "\n",
    "Now we have a function to make a matrix, the next step is to fill it in with the result of each multiplication operation. "
   ]
  },
  {
   "cell_type": "code",
   "execution_count": 4,
   "id": "2f0e7301-9555-42d2-9f0f-4c7f66883d1f",
   "metadata": {},
   "outputs": [
    {
     "name": "stdout",
     "output_type": "stream",
     "text": [
      "[[0, 3], [0, 4], [0, 5]]\n",
      "[[0, 6], [0, 8], [1, 0]]\n"
     ]
    }
   ],
   "source": [
    "def fill_matrix(number_a: int, number_b: int, matrix: list[list[list[None]]]) -> list[list[list[int]]]:\n",
    "    # First get a list of the digits\n",
    "    digits_a = int_digits(number_a)\n",
    "    digits_b = int_digits(number_b)\n",
    "    \n",
    "    # Multiply all pairs of digits between the two numbers and store the results in the corresponding cells\n",
    "    for i, a in enumerate(digits_a):\n",
    "        for j, b in enumerate(digits_b):\n",
    "            product = a * b\n",
    "            digits_prod = int_digits(product)\n",
    "    \n",
    "            # Before we can add it to the matrix, we need to deal with the digits again\n",
    "            if len(digits_prod) < 2:\n",
    "                # single digit products should have a 0 added as the \"ten\"\n",
    "                digits_prod = [0] + digits_prod\n",
    "\n",
    "            # replace existing list as cell with digits of the product\n",
    "            matrix[i][j] = digits_prod\n",
    "    \n",
    "    return matrix\n",
    "\n",
    "\n",
    "filled_matrix = fill_matrix(num_a, num_b, matrix)\n",
    "\n",
    "for row in filled_matrix:\n",
    "    print(row)"
   ]
  },
  {
   "cell_type": "markdown",
   "id": "f1230522-435d-4889-a6f6-24a5015c0e30",
   "metadata": {},
   "source": [
    "### Bonus: matrix viewing\n",
    "\n",
    "Now we have our filled matrix with all of the values added. You can compare this to the example at the beginning of this notebook to see that we have recreated the matrix shown there. It's a bit hard to see without the diagonal indicated. I've included a function to visualize the matrix a bit more clearly. We won't go through it here, but hopefully it will help with following along the steps with our data. It should work to visualize the matrix for any pair of integers. It takes a matrix as well as an optional list of digits from the next step we'll go over."
   ]
  },
  {
   "cell_type": "code",
   "execution_count": 5,
   "id": "bd779db1-dcc9-4f71-aeab-d88d8bf6cfad",
   "metadata": {},
   "outputs": [
    {
     "name": "stdout",
     "output_type": "stream",
     "text": [
      "+-------+-------+-------+\n",
      "| 0 / 3 | 0 / 4 | 0 / 5 |\n",
      "+-------+-------+-------+\n",
      "| 0 / 6 | 0 / 8 | 1 / 0 |\n",
      "+-------+-------+-------+\n"
     ]
    }
   ],
   "source": [
    "def show_matrix(matrix: list[list[list[int]]], components: list[int] = None\n",
    ") -> None:\n",
    "    mat_width = len(matrix[0])\n",
    "    if components:\n",
    "        h_delim = \"  \"\n",
    "    else:\n",
    "        h_delim = \"\"\n",
    "\n",
    "    # build top line\n",
    "    h_delim += \"\".join(['+'] + [\"-------+\"]*mat_width)\n",
    "    outlines = [h_delim]\n",
    "\n",
    "    # build main matrix\n",
    "    for n, row in enumerate(matrix):\n",
    "        if components:\n",
    "            num = components[n]\n",
    "            line = [f\"{num}{' ' * (2-len(str(num)))}|\"]\n",
    "        else:\n",
    "            line = [\"|\"]\n",
    "        line += [f\" {i[0]} / {i[1]} |\" for i in row]\n",
    "        outlines.append(\"\".join(line))\n",
    "        outlines.append(h_delim)\n",
    "\n",
    "    # Add components along bottom if given\n",
    "    if components:\n",
    "        bottom_line = \"      \"\n",
    "        bottom_line += \"\".join([\n",
    "            f\"{i}\"+ \" \" * (8-len(str(i))) for i in components[len(matrix):]])\n",
    "        outlines.append(bottom_line)\n",
    "\n",
    "    print(\"\\n\".join(outlines))\n",
    "    \n",
    "show_matrix(filled_matrix)"
   ]
  },
  {
   "cell_type": "markdown",
   "id": "b7eb8b11-c895-4ce9-85b3-736e55becd55",
   "metadata": {},
   "source": [
    "Not perfect, but a bit easier to see the diagonal to help us with the next step. We'll use this again once we've added the sums of each diagonal. I've called those \"components\" in the function because they are later put together to form the solution to our multiplication. I couldn't think of a better name, but if you can then feel free to change it.\n",
    "\n",
    "### Summing diagonals\n",
    "\n",
    "This part might be the trickiest to get your head around. However, once you see the solution it will hopefully become clear. If you like a puzzle, this is a point at which you could stop reading and try to figure it out for yourself. To assist with that, I'll state the problem posed by the next step and then indicate when the solution is going to be stated.\n",
    "\n",
    "**The problem**\n",
    "\n",
    "If you look back at the example at the start of this document, you will see that we need to sum each diagonal of the matrix. In that example, only 4 digits are shown. However, there are actually 5 sums being calculated, but the top left cell contains a 0 so that sum isn't included in the final result. We can see the positions of the 5 values (1 for each row and column) that we will produce by using the `show_matrix()` function with a list of 0s\n"
   ]
  },
  {
   "cell_type": "code",
   "execution_count": 6,
   "id": "0b03b040-06a4-4ed1-9d92-3c951137e2bd",
   "metadata": {},
   "outputs": [
    {
     "name": "stdout",
     "output_type": "stream",
     "text": [
      "  +-------+-------+-------+\n",
      "0 | 0 / 3 | 0 / 4 | 0 / 5 |\n",
      "  +-------+-------+-------+\n",
      "0 | 0 / 6 | 0 / 8 | 1 / 0 |\n",
      "  +-------+-------+-------+\n",
      "      0       0       0       \n"
     ]
    }
   ],
   "source": [
    "show_matrix(filled_matrix, [0]*5)"
   ]
  },
  {
   "cell_type": "markdown",
   "id": "3a443b41-9156-49bc-bc7c-03d1757ee1c1",
   "metadata": {},
   "source": [
    "So, if there are 5 diagonals, how do we identify which cells of our three-dimensional matrix should be added to each of those 5 numbers? We need to come up with a programmatic approach that would work for any size matrix (Note that each cell will always contain two values).\n",
    "\n",
    "If you wish to try it yourself first, stop reading here.\n",
    "\n",
    "**A solution**\n",
    "\n",
    "If you read across row 0 (i.e., the row at index 0 of the matrix) and consider which of the 5 sums each number will be added to, you start to see a pattern. Starting with the top left of the first row and referring to the columns and the two numbers in each cell by their indices: column 0 and cell 0 is added to the number 0. Column 0, cell 1 is added to the number 1. Column 1, cell 0 is added to number 1. Column 1, cell 1 is added to number 2. And so on. \n",
    "\n",
    "Row 1 further shows the pattern: row 1, column 0, cell 0 is added to number 1. Row 1, column 0, cell 1 is added to number 2. Row 1, column 1, cell 0 is added to number 2. Row 1, column 1, cell 1 is added to number 3.\n",
    "\n",
    "The pattern is that the indices of each number (row, column, and cell) adds up to the index of the corresponding number. Therefore, if we iterate over the rows, columns, and cells and keep track of which index we are working with, we will be able to add each digit in our matrix to the appropriate number."
   ]
  },
  {
   "cell_type": "code",
   "execution_count": 7,
   "id": "c9608a74-2e7f-4df3-8cb0-5f29b0a508ee",
   "metadata": {},
   "outputs": [
    {
     "name": "stdout",
     "output_type": "stream",
     "text": [
      "  +-------+-------+-------+\n",
      "0 | 0 / 3 | 0 / 4 | 0 / 5 |\n",
      "  +-------+-------+-------+\n",
      "3 | 0 / 6 | 0 / 8 | 1 / 0 |\n",
      "  +-------+-------+-------+\n",
      "      10      14      0       \n"
     ]
    }
   ],
   "source": [
    "def read_matrix(matrix: list[list[list[int]]]) -> list[int]:\n",
    "    num_output_digits = len(matrix) + len(matrix[0]) # number of rows + number of columnes\n",
    "    out_digits = [0 for _ in range(num_output_digits)] # start each number at 0\n",
    "    for i in range(len(matrix)):\n",
    "        for j in range(len(matrix[0])):\n",
    "            for k in range(2):\n",
    "                out_digits[i+j+k] += matrix[i][j][k]\n",
    "\n",
    "    return(out_digits)\n",
    "\n",
    "components = read_matrix(filled_matrix)\n",
    "show_matrix(filled_matrix, components)"
   ]
  },
  {
   "cell_type": "markdown",
   "id": "402524ed-2039-42b1-a7fd-e74ac3824341",
   "metadata": {},
   "source": [
    "This matrix looks very similar to the one at the start of this notebook. The only difference now is that we have some two-digit numbers which need to be dealt with. To deal with those, we will need to carry the 1 to the number to the left. We can take advantage of our `int_digits()` function to access the digits of each number to perform this step."
   ]
  },
  {
   "cell_type": "code",
   "execution_count": 8,
   "id": "42dcb6b7-1be8-4e38-9ae2-24a3b29cab8f",
   "metadata": {},
   "outputs": [
    {
     "name": "stdout",
     "output_type": "stream",
     "text": [
      "[0, 4, 1, 4, 0]\n"
     ]
    }
   ],
   "source": [
    "def carry_the_one(numbers: list[int]) -> list[int]:\n",
    "    numbers_copy = numbers.copy() # make a copy so we can edit a local version of the input list\n",
    "    out_digits = [0 for _ in numbers_copy]\n",
    "    for i in reversed(range(len(numbers_copy))): # start with the number on the right and work left\n",
    "        digits = int_digits(numbers_copy[i])\n",
    "        if len(digits) == 2:\n",
    "            # add base digit to corresponding position in output\n",
    "            out_digits[i] += digits[1]\n",
    "            # carry the 1\n",
    "            numbers_copy[i-1] += digits[0]\n",
    "        else:\n",
    "            out_digits[i] += digits[0]\n",
    "    return out_digits\n",
    "\n",
    "carried = carry_the_one(components)\n",
    "\n",
    "print(carried)"
   ]
  },
  {
   "cell_type": "markdown",
   "id": "82a57e0e-4969-49ea-b7ca-2499d75ea0ce",
   "metadata": {},
   "source": [
    "We can also view those numbers on our matrix to confirm that it looks very similar to the example image."
   ]
  },
  {
   "cell_type": "code",
   "execution_count": 9,
   "id": "6afff0a6-bcb0-44f4-930c-037a580acf8c",
   "metadata": {},
   "outputs": [
    {
     "name": "stdout",
     "output_type": "stream",
     "text": [
      "  +-------+-------+-------+\n",
      "0 | 0 / 3 | 0 / 4 | 0 / 5 |\n",
      "  +-------+-------+-------+\n",
      "4 | 0 / 6 | 0 / 8 | 1 / 0 |\n",
      "  +-------+-------+-------+\n",
      "      1       4       0       \n"
     ]
    }
   ],
   "source": [
    "show_matrix(filled_matrix, carried)"
   ]
  },
  {
   "cell_type": "markdown",
   "id": "8920d0cb-f7ce-44b5-ae13-d481af605e33",
   "metadata": {},
   "source": [
    "Now, getting the final answer is as simple as wrangling the Python object we've been using to deal with the individual digits. i.e., we need to stitch together our `list` of `int`s into a single `int`. We can perform the opposite operations used in `int_digits()` to do that."
   ]
  },
  {
   "cell_type": "code",
   "execution_count": 10,
   "id": "febc95a7-afc5-4031-be7f-fa97983061b6",
   "metadata": {},
   "outputs": [
    {
     "name": "stdout",
     "output_type": "stream",
     "text": [
      "4140\n"
     ]
    }
   ],
   "source": [
    "def collapse_int_list(numbers: list[int]) -> int:\n",
    "    str_nums = [str(n) for n in numbers]\n",
    "    int_result = int(\"\".join(str_nums))\n",
    "    return int_result\n",
    "\n",
    "result = collapse_int_list(carried)\n",
    "print(result)"
   ]
  },
  {
   "cell_type": "markdown",
   "id": "6ef47d36-7181-4136-8328-90e560a37a59",
   "metadata": {},
   "source": [
    "Finished! \n",
    "\n",
    "Just to be sure, let's wrap the components in a single function and test it with a few different numbers to make sure it doesn't only work with the data we used to write it. To be clear, we haven't written this implementation to handle negative or non-integer numbers, so we'll just test positive integers."
   ]
  },
  {
   "cell_type": "code",
   "execution_count": 11,
   "id": "bdfdd35a-03ca-4480-9531-8216a229476c",
   "metadata": {},
   "outputs": [
    {
     "name": "stdout",
     "output_type": "stream",
     "text": [
      "True\n",
      "True\n",
      "True\n"
     ]
    }
   ],
   "source": [
    "def lattice(a: int, b: int) -> int:\n",
    "    matrix = make_matrix(a, b)\n",
    "    filled = fill_matrix(a, b, matrix)\n",
    "    components = read_matrix(filled)\n",
    "    carried = carry_the_one(components)\n",
    "    result = collapse_int_list(carried)\n",
    "    \n",
    "    return result\n",
    "\n",
    "\n",
    "print(lattice(99, 88) == 99 * 88)\n",
    "print(lattice(12345, 678910) == 12345 * 678910)\n",
    "print(lattice(112233, 998877) == 112233 * 998877)\n",
    "\n"
   ]
  },
  {
   "cell_type": "markdown",
   "id": "1ae85a75-072e-46c4-9699-6486477c3b0b",
   "metadata": {},
   "source": [
    "Looks good!\n",
    "\n",
    "This algorithm is a little simpler than the Needlman-Wunsch algorithm you will be implementing. However, some of the approaches used here will be helpful in thinking about how you can go about structuring your data and tracing back through after initialization."
   ]
  }
 ],
 "metadata": {
  "kernelspec": {
   "display_name": "Python 3 (ipykernel)",
   "language": "python",
   "name": "python3"
  },
  "language_info": {
   "codemirror_mode": {
    "name": "ipython",
    "version": 3
   },
   "file_extension": ".py",
   "mimetype": "text/x-python",
   "name": "python",
   "nbconvert_exporter": "python",
   "pygments_lexer": "ipython3",
   "version": "3.11.5"
  }
 },
 "nbformat": 4,
 "nbformat_minor": 5
}
