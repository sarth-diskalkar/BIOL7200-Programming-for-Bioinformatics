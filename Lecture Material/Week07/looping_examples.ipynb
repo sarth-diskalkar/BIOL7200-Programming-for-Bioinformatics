{
 "cells": [
  {
   "cell_type": "markdown",
   "id": "2174f3e8-599a-4918-a7c2-afe5fc27ce8f",
   "metadata": {},
   "source": [
    "# Illustrations of iterator methods from lecture\n",
    "\n",
    "In this weeks lecture, some examples were given of useful iterator functions and methods. Here, I will demonstrate some example usage of those functions. You can use the code in this notebook as a framework to experiment yourself. Change the code here to explore how each function of method works.\n",
    "\n",
    "## `enumerate()`\n",
    "\n",
    "the function, `enumerate()` is useful in any case where you want access to both an element in an iterable and the index of that element. Whenever you find yourself writing the following, instead consider using `enumerate()`"
   ]
  },
  {
   "cell_type": "code",
   "execution_count": 1,
   "id": "5469f5bc-760c-462e-8320-711a449c46d6",
   "metadata": {},
   "outputs": [
    {
     "name": "stdout",
     "output_type": "stream",
     "text": [
      "0 a\n",
      "1 b\n",
      "2 c\n"
     ]
    }
   ],
   "source": [
    "x = ['a', 'b', 'c']\n",
    "for i in range(len(x)):\n",
    "    element = x[i]\n",
    "    print(i, element)"
   ]
  },
  {
   "cell_type": "code",
   "execution_count": 2,
   "id": "61522881-a33c-491c-9571-ada768e0123a",
   "metadata": {},
   "outputs": [
    {
     "name": "stdout",
     "output_type": "stream",
     "text": [
      "0 a\n",
      "1 b\n",
      "2 c\n"
     ]
    }
   ],
   "source": [
    "for i, element in enumerate(x):\n",
    "    print(i, element)"
   ]
  },
  {
   "cell_type": "markdown",
   "id": "57d8af6d-0a7f-436f-bcca-5b1198fe9eac",
   "metadata": {},
   "source": [
    "Note that enumerate is actually returning a `tuple` class. We haven't covered tuples in class. However, they are basically just immutable lists. `tuple`s are denoted using parentheses, and their elements are comma-separated, just like lists. e.g., `(1,2,3)`, or `('a', 'b', 'c')`. `tuples` can contain any type of object, you just can't change them after making them. As they are immutable, you can use them as `dict` keys.\n",
    "\n",
    "Note that you can store mutable objects in a `tuple`. If you do, you can change the mutable object, even though you can't change *which* elements are in the `tuple`. If you put mutable things in a `tuple`, then you can not use it as a `dict` key."
   ]
  },
  {
   "cell_type": "code",
   "execution_count": 3,
   "id": "58a3289e-f02d-47e7-8dfd-81b1681a8f10",
   "metadata": {},
   "outputs": [
    {
     "name": "stdout",
     "output_type": "stream",
     "text": [
      "<class 'tuple'> (0, 'a')\n",
      "<class 'tuple'> (1, 'b')\n",
      "<class 'tuple'> (2, 'c')\n"
     ]
    }
   ],
   "source": [
    "for thing in enumerate(x):\n",
    "    print(type(thing), thing)"
   ]
  },
  {
   "cell_type": "markdown",
   "id": "e7ab1552-0a4b-4b7a-840c-20999a0ccff3",
   "metadata": {},
   "source": [
    "What you are doing when you put two variables with commas in between them in a statement like above, is using `tuple`s and \"unpacking\". `enumerate()` returns a `tuple` of values and you are providing a `tuple` of variable names. The first value is \"unpacked\" into the first variable, etc.\n",
    "\n",
    "## `range()`\n",
    "\n",
    "`range()` is useful whenever you want to iterate over a range of numerical values. You can also use `range()` to do something N times. A case in which `range()` would be useful to you in extending the alignment script that you wrote this week is in handling wrapping lines to fit in your terminal."
   ]
  },
  {
   "cell_type": "code",
   "execution_count": 4,
   "id": "c7f30edd-30bc-46fb-a88a-856afad42e82",
   "metadata": {},
   "outputs": [
    {
     "name": "stdout",
     "output_type": "stream",
     "text": [
      "ATGCAAGTCGAGCGGATGAAGGGAGCTTGC\n",
      "|||||||||||||||  | |  |||    |\n",
      "ATGCAAGTCGAGCGGCAGCACAGAGGAACC\n",
      "\n",
      "TCCTGGATTCAGCGGCGGAC\n",
      "|   |     ||||||||||\n",
      "TTGGGTGGCGAGCGGCGGAC\n",
      "\n"
     ]
    }
   ],
   "source": [
    "seq1 = \"ATGCAAGTCGAGCGGATGAAGGGAGCTTGCTCCTGGATTCAGCGGCGGAC\"\n",
    "seq2 = \"ATGCAAGTCGAGCGGCAGCACAGAGGAACCTTGGGTGGCGAGCGGCGGAC\"\n",
    "aln = \"|||||||||||||||  | |  |||    ||   |     ||||||||||\"\n",
    "\n",
    "# wrap alignment to up to 30 characters per line\n",
    "nchars = 30\n",
    "for i in range(0, len(seq1), nchars):\n",
    "    print(seq1[i: i+nchars])\n",
    "    print(aln[i: i+nchars])\n",
    "    print(seq2[i: i+nchars])\n",
    "    print()\n"
   ]
  },
  {
   "cell_type": "markdown",
   "id": "fcc862bf-8c52-4d50-9f67-80b1935baa08",
   "metadata": {},
   "source": [
    "You could also wrap the text so it splits the text evenly over N lines"
   ]
  },
  {
   "cell_type": "code",
   "execution_count": 5,
   "id": "fedf2e3b-8f16-4c52-9815-503f0325edcd",
   "metadata": {},
   "outputs": [
    {
     "name": "stdout",
     "output_type": "stream",
     "text": [
      "ATGCAAGTCGAGCGGATGAAGGGAG\n",
      "|||||||||||||||  | |  |||\n",
      "ATGCAAGTCGAGCGGCAGCACAGAG\n",
      "\n",
      "CTTGCTCCTGGATTCAGCGGCGGAC\n",
      "    ||   |     ||||||||||\n",
      "GAACCTTGGGTGGCGAGCGGCGGAC\n",
      "\n"
     ]
    }
   ],
   "source": [
    "# wrap alignment to an even number characters per line\n",
    "num_lines = 2\n",
    "chars_per_line = len(seq1)//num_lines # floor division because we need an int for slicing\n",
    "for i in range(0, len(seq1), chars_per_line):\n",
    "    print(seq1[i: i+chars_per_line])\n",
    "    print(aln[i: i+chars_per_line])\n",
    "    print(seq2[i: i+chars_per_line])\n",
    "    print()"
   ]
  },
  {
   "cell_type": "markdown",
   "id": "e619f46b-e049-429e-b148-1c446755436d",
   "metadata": {},
   "source": [
    "If you are feeling fancy, you could also write something that would wrap text automatically depending on the size of the terminal you are writing to. You can query the terminal size using `os.get_terminal_size()` https://docs.python.org/3/library/os.html#os.get_terminal_size\n",
    "\n",
    "## `zip()`\n",
    "\n",
    "`zip()` is useful whenever you want to iterate over two or more iterables at the same time. This would be the easiest way to compare the bases in two sequences one by one."
   ]
  },
  {
   "cell_type": "code",
   "execution_count": 6,
   "id": "57d1bd49-32cc-4b04-a59e-5e912758f852",
   "metadata": {},
   "outputs": [
    {
     "name": "stdout",
     "output_type": "stream",
     "text": [
      "ATGCAAGTCGAGCGGATGAAGGGAGCTTGCTCCTGGATTCAGCGGCGGAC\n",
      "|||||||||||||||  | |  |||    ||   |     ||||||||||\n",
      "ATGCAAGTCGAGCGGCAGCACAGAGGAACCTTGGGTGGCGAGCGGCGGAC\n"
     ]
    }
   ],
   "source": [
    "aln = \"\"\n",
    "for a, b in zip(seq1, seq2):\n",
    "    if a == b:\n",
    "        aln += \"|\"\n",
    "    else:\n",
    "        aln += \" \"\n",
    "\n",
    "print(seq1)\n",
    "print(aln)\n",
    "print(seq2)"
   ]
  },
  {
   "cell_type": "markdown",
   "id": "a7d7518f-8715-446a-90ec-439e89bc84ec",
   "metadata": {},
   "source": [
    "## `reversed()`\n",
    "\n",
    "As the name suggests, `reversed()` simply returns an iterable in reverse order. It's functionaly equivalent to a slice with a negative step."
   ]
  },
  {
   "cell_type": "code",
   "execution_count": 7,
   "id": "eed8ccfc-cc63-4b37-ac59-524dd8b1a300",
   "metadata": {},
   "outputs": [
    {
     "name": "stdout",
     "output_type": "stream",
     "text": [
      "3\n",
      "2\n",
      "1\n"
     ]
    }
   ],
   "source": [
    "x = [1, 2, 3]\n",
    "\n",
    "for i in reversed(x):\n",
    "    print(i)"
   ]
  },
  {
   "cell_type": "code",
   "execution_count": 8,
   "id": "a2b51545-894c-4c14-8788-1c99a3553d97",
   "metadata": {},
   "outputs": [
    {
     "name": "stdout",
     "output_type": "stream",
     "text": [
      "3\n",
      "2\n",
      "1\n"
     ]
    }
   ],
   "source": [
    "for i in x[::-1]:\n",
    "    print(i)"
   ]
  },
  {
   "cell_type": "markdown",
   "id": "805697ee-2497-4e46-ba44-41e5b70ca4ec",
   "metadata": {},
   "source": [
    "Note that `reversed` returns an iterable object so you can pair it with other functions described here. For example, to compare our sequences when one is reversed:"
   ]
  },
  {
   "cell_type": "code",
   "execution_count": 9,
   "id": "fa80e3b6-6998-4af9-98c5-6b33fe13bef6",
   "metadata": {},
   "outputs": [
    {
     "name": "stdout",
     "output_type": "stream",
     "text": [
      "CAGGCGGCGACTTAGGTCCTCGTTCGAGGGAAGTAGGCGAGCTGAACGTA\n",
      "  |   |       |   | |    ||     |   |      |   |  \n",
      "ATGCAAGTCGAGCGGCAGCACAGAGGAACCTTGGGTGGCGAGCGGCGGAC\n"
     ]
    }
   ],
   "source": [
    "aln = \"\"\n",
    "for a, b in zip(reversed(seq1), seq2):\n",
    "    if a == b:\n",
    "        aln += \"|\"\n",
    "    else:\n",
    "        aln += \" \"\n",
    "\n",
    "print(seq1[::-1]) # reversed doesn't print nicely directly so I'm using a slice here\n",
    "print(aln)\n",
    "print(seq2)"
   ]
  },
  {
   "cell_type": "markdown",
   "id": "dbe98d48-fcf2-424e-be01-4dfc5d149461",
   "metadata": {},
   "source": [
    "## `dict` methods\n",
    "\n",
    "The next examples of useful iteration functions/methods are all `dict` methods, `dict.keys()`, `dict.values()`, and `dict.items()`. They simply allow you to iterate over the keys, values, or key-value pairs stored in a `dict`.\n",
    "\n",
    "`.keys()` returns the keys in a `dict` in the order in which they were added to the `dict`"
   ]
  },
  {
   "cell_type": "code",
   "execution_count": 10,
   "id": "97438c41-19ed-445f-b111-c7181b48900d",
   "metadata": {},
   "outputs": [
    {
     "name": "stdout",
     "output_type": "stream",
     "text": [
      "a\n",
      "b\n",
      "c\n"
     ]
    }
   ],
   "source": [
    "my_dict = {\"a\": 1, \"b\": 2, \"c\": 3}\n",
    "\n",
    "for k in my_dict.keys():\n",
    "    print(k)"
   ]
  },
  {
   "cell_type": "markdown",
   "id": "b5ec67c3-6cf1-44f8-8a5c-008b10745b5d",
   "metadata": {},
   "source": [
    "Note that the `dict.keys()` method is the default iteration method used by the `dict` class. What that means is that if you set up a loop where you are iterating over an instance of `dict`, but don't specify the method to use, the `dict` class is written to use the `.keys()` method. We'll talk more about how that works when we cover classes."
   ]
  },
  {
   "cell_type": "code",
   "execution_count": 11,
   "id": "6299d005-b050-4e43-a87b-66c3cd28e98d",
   "metadata": {},
   "outputs": [
    {
     "name": "stdout",
     "output_type": "stream",
     "text": [
      "a\n",
      "b\n",
      "c\n"
     ]
    }
   ],
   "source": [
    "for k in my_dict:\n",
    "    print(k)"
   ]
  },
  {
   "cell_type": "markdown",
   "id": "fec8f08d-c941-41d6-b75a-a98021b28eb7",
   "metadata": {},
   "source": [
    "`.values()` returns the values in a `dict` in the order in which their associated keys were added"
   ]
  },
  {
   "cell_type": "code",
   "execution_count": 12,
   "id": "03f38bd5-d488-4362-8957-c20096f3adb8",
   "metadata": {},
   "outputs": [
    {
     "name": "stdout",
     "output_type": "stream",
     "text": [
      "1\n",
      "2\n",
      "3\n"
     ]
    }
   ],
   "source": [
    "for v in my_dict.values():\n",
    "    print(v)"
   ]
  },
  {
   "cell_type": "markdown",
   "id": "5d014f80-96db-4765-b80d-ad4a3f74e996",
   "metadata": {},
   "source": [
    "`.items()` returns the key-value pairs in a `dict` in the order in which the keys were added"
   ]
  },
  {
   "cell_type": "code",
   "execution_count": 13,
   "id": "20ad7ce1-eab3-4a52-90a3-7cf3e5818bcb",
   "metadata": {},
   "outputs": [
    {
     "name": "stdout",
     "output_type": "stream",
     "text": [
      "('a', 1)\n",
      "('b', 2)\n",
      "('c', 3)\n"
     ]
    }
   ],
   "source": [
    "for i in my_dict.items():\n",
    "    print(i)"
   ]
  },
  {
   "cell_type": "markdown",
   "id": "363be4b0-4b9f-4550-955d-c4e8b8184610",
   "metadata": {},
   "source": [
    "As you can see, `.items()` returns a `tuple`, of the key and value. Accordingly you can unpack the values into a `tuple` of variable names"
   ]
  },
  {
   "cell_type": "code",
   "execution_count": 14,
   "id": "451faeef-04fb-4c0b-9abf-b3ef5aa96bbe",
   "metadata": {},
   "outputs": [
    {
     "name": "stdout",
     "output_type": "stream",
     "text": [
      "a 1\n",
      "b 2\n",
      "c 3\n"
     ]
    }
   ],
   "source": [
    "for k, v in my_dict.items():\n",
    "    print(k, v)"
   ]
  },
  {
   "cell_type": "markdown",
   "id": "ff8c67b6-daf1-4866-bbd2-c40fd7593c13",
   "metadata": {},
   "source": [
    "As we just saw, `dict` has a few methods to allow you to iterate over its contents in different ways. However, only one of those methods, `.keys()` is the default iter method. It might have made sense for the default to be `.items()`. However, the author of the `dict` class chose `.keys()`. \n",
    "\n",
    "The two takeaways from this section:\n",
    "1. The default iter method of `dict` is `.keys()`\n",
    "2. You can set the iter method of classes when you write them.\n",
    "\n",
    "## itertools\n",
    "\n",
    "the itertools module includes a variety of functions for iterating. We'll have a look at a few here. [Check out the full list on the documentation page](https://docs.python.org/3/library/itertools.html?highlight=itertools#module-itertools)\n",
    "\n",
    "## `itertools.combinations()`\n",
    "\n",
    "In cases where you want to do all the pairwise comparisons between elements in a collection of data, this is the function to use."
   ]
  },
  {
   "cell_type": "code",
   "execution_count": 15,
   "id": "a3c457fd-14b6-4c09-966f-d75a5b922271",
   "metadata": {},
   "outputs": [
    {
     "name": "stdout",
     "output_type": "stream",
     "text": [
      "I love icecream and corned beef smoothies\n",
      "I love icecream and kimchi smoothies\n",
      "I love corned beef and kimchi smoothies\n"
     ]
    }
   ],
   "source": [
    "import itertools\n",
    "\n",
    "foods = [\"icecream\", \"corned beef\", \"kimchi\"]\n",
    "\n",
    "for a, b in itertools.combinations(foods, 2):\n",
    "    print(f\"I love {a} and {b} smoothies\")"
   ]
  },
  {
   "cell_type": "markdown",
   "id": "1cf1b27b-fd04-461f-9535-024279c57029",
   "metadata": {},
   "source": [
    "## `itertools.permutations()`\n",
    "\n",
    "permutations are the same as combinations except order matter. e.g., combinations of \"A\" and \"B\" is just AB, while permutations is AB and BA."
   ]
  },
  {
   "cell_type": "code",
   "execution_count": 16,
   "id": "76077f32-3649-426c-95be-817c1c3d9ed6",
   "metadata": {},
   "outputs": [
    {
     "name": "stdout",
     "output_type": "stream",
     "text": [
      "I love icecream flavoured corned beef\n",
      "I love icecream flavoured kimchi\n",
      "I love corned beef flavoured icecream\n",
      "I love corned beef flavoured kimchi\n",
      "I love kimchi flavoured icecream\n",
      "I love kimchi flavoured corned beef\n"
     ]
    }
   ],
   "source": [
    "for a, b in itertools.permutations(foods, 2):\n",
    "    print(f\"I love {a} flavoured {b}\")"
   ]
  },
  {
   "cell_type": "markdown",
   "id": "1363485f-cb58-4220-a31d-d77ded7d2e71",
   "metadata": {},
   "source": [
    "## `itertools.product()`\n",
    "\n",
    "When you want to get all the combinations of elements from two iterables, `itertools.product()` is what you want. It is similar to nested `for` loops over the iterables."
   ]
  },
  {
   "cell_type": "code",
   "execution_count": 17,
   "id": "084726e9-826a-4f78-a6f4-37a7a2522cb7",
   "metadata": {},
   "outputs": [
    {
     "name": "stdout",
     "output_type": "stream",
     "text": [
      "Is hit1 in ft1?\n",
      "Is hit1 in ft2?\n",
      "Is hit2 in ft1?\n",
      "Is hit2 in ft2?\n"
     ]
    }
   ],
   "source": [
    "blast_hits = [\"hit1\", \"hit2\"]\n",
    "bed_features = [\"ft1\", \"ft2\"]\n",
    "\n",
    "for hit, feat in itertools.product(blast_hits, bed_features):\n",
    "    print(f\"Is {hit} in {feat}?\")"
   ]
  }
 ],
 "metadata": {
  "kernelspec": {
   "display_name": "Python 3 (ipykernel)",
   "language": "python",
   "name": "python3"
  },
  "language_info": {
   "codemirror_mode": {
    "name": "ipython",
    "version": 3
   },
   "file_extension": ".py",
   "mimetype": "text/x-python",
   "name": "python",
   "nbconvert_exporter": "python",
   "pygments_lexer": "ipython3",
   "version": "3.11.5"
  }
 },
 "nbformat": 4,
 "nbformat_minor": 5
}
