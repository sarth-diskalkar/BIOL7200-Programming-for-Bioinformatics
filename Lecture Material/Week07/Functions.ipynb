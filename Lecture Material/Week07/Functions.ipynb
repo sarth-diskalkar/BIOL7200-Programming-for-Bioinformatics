{
 "cells": [
  {
   "cell_type": "markdown",
   "id": "b0b46335-dcce-4bcf-98b9-a33d64e4b960",
   "metadata": {},
   "source": [
    "# Functions\n",
    "\n",
    "## What are functions?\n",
    "\n",
    "* Functions are a set of one or more lines of code that do something.\n",
    "* Functions can do anything.\n",
    "* Functions can take inputs (arguments) or they can not.\n",
    "* Functions can return results.\n",
    "\n",
    "## How does one make a function?\n",
    "\n",
    "Functions require 2 basic components: a definition line and a body.\n",
    "\n",
    "The definition line starts with the keyword `def`, and includes the function name and any parameters that the function will accept. The names of parameters specified here will be the variable names used to refer to provided inputs within the function body.\n",
    "\n",
    "The function body is where the lines of code, which should be run when the function is executed (or called), are written.\n",
    "\n",
    "The minimal function looks like the following"
   ]
  },
  {
   "cell_type": "code",
   "execution_count": 1,
   "id": "004eace2-8537-44dd-afd4-46624eb4421f",
   "metadata": {},
   "outputs": [],
   "source": [
    "def my_func():\n",
    "    pass"
   ]
  },
  {
   "cell_type": "markdown",
   "id": "6d33f88b-7d36-4b17-b1d1-e5948f9951a9",
   "metadata": {},
   "source": [
    "That function includes everything you need to define a function named `myfunc`. However, it doesn't do anything. The `pass` keyword tells Python to silently ignore that there is nothing there, but also to not error about indentation that is not used.\n",
    "\n",
    "If we want the function to do something, then we need to add something to the body. To be as cliche as possible, let's make this function print \"Hello world!\""
   ]
  },
  {
   "cell_type": "code",
   "execution_count": 2,
   "id": "5273fe9d-7651-4e8a-a1b6-bd056415e806",
   "metadata": {},
   "outputs": [],
   "source": [
    "def my_func():\n",
    "    print(\"Hello world!\")"
   ]
  },
  {
   "cell_type": "markdown",
   "id": "1586a838-3dfd-4ba7-8eff-c1dac7381aa1",
   "metadata": {},
   "source": [
    "Note that when you run the above code, nothing prints. That's because while the code constituting the function definition ran, the function has not yet been executed. That means that the code in the function body hasn't run yet. To run the function, we need to call it just like we have been calling built-in functions. i.e., run a line of code including the name of the function followed by parentheses."
   ]
  },
  {
   "cell_type": "code",
   "execution_count": 3,
   "id": "2f5c256e-7daa-4f0f-b90d-db4cf548343f",
   "metadata": {},
   "outputs": [
    {
     "name": "stdout",
     "output_type": "stream",
     "text": [
      "Hello world!\n"
     ]
    }
   ],
   "source": [
    "my_func()"
   ]
  },
  {
   "cell_type": "markdown",
   "id": "7769e1c2-ed5f-40f9-bb0b-5323636d1872",
   "metadata": {},
   "source": [
    "When the function is called, the code within is executed. We can call the same function over and over again."
   ]
  },
  {
   "cell_type": "code",
   "execution_count": 4,
   "id": "160c3ae7-a48b-4330-af16-41c54d0fad27",
   "metadata": {},
   "outputs": [
    {
     "name": "stdout",
     "output_type": "stream",
     "text": [
      "Hello world!\n",
      "Hello world!\n",
      "Hello world!\n"
     ]
    }
   ],
   "source": [
    "my_func()\n",
    "my_func()\n",
    "my_func()"
   ]
  },
  {
   "cell_type": "markdown",
   "id": "026c0979-074d-4722-9dd2-619526c99726",
   "metadata": {},
   "source": [
    "## Defining function inputs\n",
    "\n",
    "### args\n",
    "\n",
    "Functions are often more useful if they take an input and then do something with it. We can specify the inputs accepted by a function as follows."
   ]
  },
  {
   "cell_type": "code",
   "execution_count": 5,
   "id": "68b74147-68e3-4516-b110-e201dd8f3c1f",
   "metadata": {},
   "outputs": [],
   "source": [
    "def print_loudly(thing):\n",
    "    print(thing + \"!!!\")"
   ]
  },
  {
   "cell_type": "markdown",
   "id": "19376aac-189c-4474-acb6-e7c5f7e15cce",
   "metadata": {},
   "source": [
    "The function definition line now has a parameter specified within the parentheses, `thing`. You can name parameters whatever you like. The chosen name can then be used to refer to the data that was given to the function when it was called.\n",
    "\n",
    "**Note**, when naming parameters, it is good practice not to use any name that already refers to something else, like a built-in function. The reason for this is that if you name your parameter something like `sum`, then within the function you will no longer be able to refer to the `sum()` built-in function.\n",
    "\n",
    "When calling a function that has required parameters, you must provide values for each."
   ]
  },
  {
   "cell_type": "code",
   "execution_count": 6,
   "id": "9788da85-a500-4e1e-a04e-8deac11e8571",
   "metadata": {},
   "outputs": [
    {
     "name": "stdout",
     "output_type": "stream",
     "text": [
      "I am the input!!!\n"
     ]
    }
   ],
   "source": [
    "print_loudly(\"I am the input\")"
   ]
  },
  {
   "cell_type": "markdown",
   "id": "03360b81-1a43-4f8a-8293-1d5e1dda8710",
   "metadata": {},
   "source": [
    "**A note about jargon:** you will hear function inputs be referred to as \"parameters\" and \"arguments\". Generally, these words are used to refer to the same thing. However, \"parameters\" refers specifically to the variables used to refer to input information within a function, while \"arguments\" refer to the inputs you provide when you call the function. In the above example, `thing` is a parameter of `print_loudly()`, while \"I am the input\" is an argument. Don't fret too much about using the right word for this, but if you ever need to be specific, you can use these definitions.\n",
    "\n",
    "Functions can take multiple inputs. Input parameters are specified as a column-separated list in the function definition."
   ]
  },
  {
   "cell_type": "code",
   "execution_count": 7,
   "id": "f974ce66-b449-4fb4-baef-fd2feec37e5f",
   "metadata": {},
   "outputs": [
    {
     "name": "stdout",
     "output_type": "stream",
     "text": [
      "ham and eggs\n"
     ]
    }
   ],
   "source": [
    "def print_two_things(thing1, thing2):\n",
    "    print(thing1 + \" and \" + thing2)\n",
    "\n",
    "print_two_things(\"ham\", \"eggs\")"
   ]
  },
  {
   "cell_type": "markdown",
   "id": "0e9d4dd1-15d8-4fb3-be17-fb604bab4d1a",
   "metadata": {},
   "source": [
    "When multiple parameters are defined for a function, arguments are treated as positional. That means the first argument you provide will be stored in the first parameter, etc. This is similar to the process used in unpacking `tuple`s.\n",
    "\n",
    "### kwargs\n",
    "\n",
    "You might not always want to provide arguments as positional arguments. We might instead want to specify which parameter each argument is to be associated with. We can do that using something called keyword arguments or kwargs. Basically, we just use something that looks like variable assignment within the function call, to associate each argument with a named parameter."
   ]
  },
  {
   "cell_type": "code",
   "execution_count": 8,
   "id": "4bd4942c-6bfb-4959-a001-f0254c40b32a",
   "metadata": {},
   "outputs": [
    {
     "name": "stdout",
     "output_type": "stream",
     "text": [
      "eggs and ham\n"
     ]
    }
   ],
   "source": [
    "print_two_things(thing2=\"ham\", thing1=\"eggs\")"
   ]
  },
  {
   "cell_type": "markdown",
   "id": "659c776a-1caa-420a-8244-830f511719e9",
   "metadata": {},
   "source": [
    "As you can see in the above function call, we can provide kwargs in either order. Because we named the parameter in which each argument should be stored, Python knows what to do.\n",
    "\n",
    "### Default values\n",
    "\n",
    "In some cases you might want your function to have default values assigned to parameters. Using defaults allows you to only specify an argument if you want to use something other than the default value. If no argument is provided, then the default is used."
   ]
  },
  {
   "cell_type": "code",
   "execution_count": 9,
   "id": "ad00d509-67e0-496c-b35c-d0199fff447e",
   "metadata": {},
   "outputs": [],
   "source": [
    "def double_it(x, times=1):\n",
    "    for i in range(times):\n",
    "        x *= 2\n",
    "    print(x)"
   ]
  },
  {
   "cell_type": "markdown",
   "id": "9f9eaf9c-307b-41cf-98dd-74d19ffe0644",
   "metadata": {},
   "source": [
    "In the above function, the provided input is doubled however many times you want. If you don't specify how many times it should be doubled, then it is doubled once. However, the function provides the functionality to double the input multiple times if you want.\n",
    "\n",
    "Writing functions with default values is often useful to provide optional flexibility to do things, without requiring really long lists of arguments whenever someone uses the function."
   ]
  },
  {
   "cell_type": "code",
   "execution_count": 10,
   "id": "e6c65c39-e00c-4915-9ddf-84fda4bd40b8",
   "metadata": {},
   "outputs": [
    {
     "name": "stdout",
     "output_type": "stream",
     "text": [
      "8\n"
     ]
    }
   ],
   "source": [
    "double_it(2, 2)"
   ]
  },
  {
   "cell_type": "code",
   "execution_count": 11,
   "id": "e8023609-4729-4f6b-8920-e10b3d657d6c",
   "metadata": {},
   "outputs": [
    {
     "name": "stdout",
     "output_type": "stream",
     "text": [
      "5120\n"
     ]
    }
   ],
   "source": [
    "double_it(x=5, times=10)"
   ]
  },
  {
   "cell_type": "code",
   "execution_count": 12,
   "id": "78230d76-2dcf-4491-b313-1a3f484a22d1",
   "metadata": {},
   "outputs": [
    {
     "ename": "SyntaxError",
     "evalue": "positional argument follows keyword argument (4150095670.py, line 1)",
     "output_type": "error",
     "traceback": [
      "\u001b[0;36m  Cell \u001b[0;32mIn[12], line 1\u001b[0;36m\u001b[0m\n\u001b[0;31m    double_it(times=2, 5)\u001b[0m\n\u001b[0m                        ^\u001b[0m\n\u001b[0;31mSyntaxError\u001b[0m\u001b[0;31m:\u001b[0m positional argument follows keyword argument\n"
     ]
    }
   ],
   "source": [
    "double_it(times=2, 5)"
   ]
  },
  {
   "cell_type": "markdown",
   "id": "ddf45a4b-eecf-42fb-b44a-45f2f55a4777",
   "metadata": {},
   "source": [
    "As you can see in the error above, Python is fussy about argument order when you use kwargs and args together. You must adhere to an order of args first, then kwargs both when defining a function, and when calling a function.\n",
    "\n",
    "### Return values\n",
    "\n",
    "In addition to printing to the terminal, functions can also produce output that can be assigned to a variable. In order to return an output, you use the `return` keyword. Let's see how the `double_it()` function would look if it returned `x` instead of printing it."
   ]
  },
  {
   "cell_type": "code",
   "execution_count": 13,
   "id": "a460f73b-47a6-47c2-acbd-b24ee0d18061",
   "metadata": {},
   "outputs": [],
   "source": [
    "def double_it(x, times=1):\n",
    "    for i in range(times):\n",
    "        x *= 2\n",
    "    return x"
   ]
  },
  {
   "cell_type": "code",
   "execution_count": 14,
   "id": "cd515ee7-0314-46c6-98fa-4137e8596b21",
   "metadata": {},
   "outputs": [
    {
     "name": "stdout",
     "output_type": "stream",
     "text": [
      "4\n"
     ]
    }
   ],
   "source": [
    "result = double_it(2)\n",
    "print(result)"
   ]
  },
  {
   "cell_type": "markdown",
   "id": "61f3e218-e5a6-403c-b705-131b0a3498c7",
   "metadata": {},
   "source": [
    "Note that once a line with the `return` keyword in it has been executed, the function ends. Therefore, functions can only return once. Subsequent `return` statements are ignored.\n",
    "\n",
    "You can use this behaviour to return different results depending on some processing of the function. In addition, you can use `return` similarly to how `break` works within a loop to end a functions execution early if some condition is met."
   ]
  },
  {
   "cell_type": "code",
   "execution_count": 15,
   "id": "284dc36d-59fa-45cc-92a5-25df7dbe560b",
   "metadata": {},
   "outputs": [
    {
     "name": "stdout",
     "output_type": "stream",
     "text": [
      "x less than or equal to 10\n"
     ]
    }
   ],
   "source": [
    "def conditional_function(x):\n",
    "    if x > 10:\n",
    "        return \"x greater than 10\"\n",
    "    \n",
    "    return \"x less than or equal to 10\"\n",
    "\n",
    "print(conditional_function(5))"
   ]
  },
  {
   "cell_type": "code",
   "execution_count": 16,
   "id": "7f68d676-f6f1-4516-9822-125fb34d18df",
   "metadata": {},
   "outputs": [
    {
     "name": "stdout",
     "output_type": "stream",
     "text": [
      "x greater than 10\n"
     ]
    }
   ],
   "source": [
    "print(conditional_function(100))"
   ]
  },
  {
   "cell_type": "markdown",
   "id": "b7e02dbd-c412-4f38-9d64-054e60aae4e6",
   "metadata": {},
   "source": [
    "As you can see, when we run `conditional_function()` with a value greater than 10, only the first return value is returned, even though the second `return` statement is outside the if block. If we replaced the `return` keyword with a `print` call instead, both lines would run"
   ]
  },
  {
   "cell_type": "code",
   "execution_count": 17,
   "id": "6217d66d-cd82-44df-a3e7-028407373d1b",
   "metadata": {},
   "outputs": [
    {
     "name": "stdout",
     "output_type": "stream",
     "text": [
      "x greater than 10\n",
      "x less than or equal to 10\n"
     ]
    }
   ],
   "source": [
    "def conditional_function(x):\n",
    "    if x > 10:\n",
    "        print(\"x greater than 10\")\n",
    "    \n",
    "    print(\"x less than or equal to 10\")\n",
    "\n",
    "conditional_function(100)"
   ]
  },
  {
   "cell_type": "markdown",
   "id": "f52dcd80-3822-46bb-8d73-55c7f1797e9f",
   "metadata": {},
   "source": [
    "## Documenting functions - docstrings and type hints\n",
    "\n",
    "Now consider the following calls to the `double_it()` function."
   ]
  },
  {
   "cell_type": "code",
   "execution_count": 18,
   "id": "14face62-0f60-41df-81d3-5f7141ce0004",
   "metadata": {},
   "outputs": [
    {
     "name": "stdout",
     "output_type": "stream",
     "text": [
      "[1, 2, 3, 1, 2, 3]\n"
     ]
    }
   ],
   "source": [
    "print(double_it([1,2,3]))"
   ]
  },
  {
   "cell_type": "code",
   "execution_count": 19,
   "id": "863de25c-09e7-400c-9003-45fe656cd638",
   "metadata": {},
   "outputs": [
    {
     "name": "stdout",
     "output_type": "stream",
     "text": [
      "abcabc\n"
     ]
    }
   ],
   "source": [
    "print(double_it(\"abc\"))"
   ]
  },
  {
   "cell_type": "code",
   "execution_count": 20,
   "id": "6fc42921-3e70-44b3-a31e-78eae9bb7017",
   "metadata": {},
   "outputs": [
    {
     "ename": "TypeError",
     "evalue": "unsupported operand type(s) for *=: 'dict' and 'int'",
     "output_type": "error",
     "traceback": [
      "\u001b[0;31m---------------------------------------------------------------------------\u001b[0m",
      "\u001b[0;31mTypeError\u001b[0m                                 Traceback (most recent call last)",
      "Cell \u001b[0;32mIn[20], line 1\u001b[0m\n\u001b[0;32m----> 1\u001b[0m \u001b[38;5;28mprint\u001b[39m(double_it({\u001b[38;5;241m1\u001b[39m:\u001b[38;5;124m\"\u001b[39m\u001b[38;5;124ma\u001b[39m\u001b[38;5;124m\"\u001b[39m, \u001b[38;5;241m2\u001b[39m:\u001b[38;5;124m\"\u001b[39m\u001b[38;5;124mb\u001b[39m\u001b[38;5;124m\"\u001b[39m}))\n",
      "Cell \u001b[0;32mIn[13], line 3\u001b[0m, in \u001b[0;36mdouble_it\u001b[0;34m(x, times)\u001b[0m\n\u001b[1;32m      1\u001b[0m \u001b[38;5;28;01mdef\u001b[39;00m \u001b[38;5;21mdouble_it\u001b[39m(x, times\u001b[38;5;241m=\u001b[39m\u001b[38;5;241m1\u001b[39m):\n\u001b[1;32m      2\u001b[0m     \u001b[38;5;28;01mfor\u001b[39;00m i \u001b[38;5;129;01min\u001b[39;00m \u001b[38;5;28mrange\u001b[39m(times):\n\u001b[0;32m----> 3\u001b[0m         x \u001b[38;5;241m*\u001b[39m\u001b[38;5;241m=\u001b[39m \u001b[38;5;241m2\u001b[39m\n\u001b[1;32m      4\u001b[0m     \u001b[38;5;28;01mreturn\u001b[39;00m x\n",
      "\u001b[0;31mTypeError\u001b[0m: unsupported operand type(s) for *=: 'dict' and 'int'"
     ]
    }
   ],
   "source": [
    "print(double_it({1:\"a\", 2:\"b\"}))"
   ]
  },
  {
   "cell_type": "markdown",
   "id": "85fd6efc-b004-48c3-8974-883990db3708",
   "metadata": {},
   "source": [
    "As you can see, the function we have defined works for some object classes, but not others. If we wanted to know what the function does and what classes we can use it with, we would need to read the code and figure it out. For this simple function, that isn't a difficult task. However, for functions that do anything more complicated than a line or two of code, it is worthwhile describing what the function is doing, what kinds of inputs it requires, and what outputs it produces. In addition, all functions, no matter how simple, are clearer with type hints.\n",
    "\n",
    "### Docstrings\n",
    "\n",
    "Docstrings are string objects that are interpreted in a special way by Python. They are both used as essentially a multi-line comment that can be read by someone looking at your code, and they are stored as part of the function. That docstrings are stored as part of a function means you can use the Python built-in function `help()` to see the docstring and usage for a function. For example, our function `double_it()` has a help message that doesn't say much for now."
   ]
  },
  {
   "cell_type": "code",
   "execution_count": 21,
   "id": "5417df7a-4825-4199-a07b-2bc5d52ff6d7",
   "metadata": {},
   "outputs": [
    {
     "name": "stdout",
     "output_type": "stream",
     "text": [
      "Help on function double_it in module __main__:\n",
      "\n",
      "double_it(x, times=1)\n",
      "\n"
     ]
    }
   ],
   "source": [
    "help(double_it)"
   ]
  },
  {
   "cell_type": "markdown",
   "id": "81da4f54-ee99-4617-b4a6-d127adc35fcb",
   "metadata": {},
   "source": [
    "If we take a look at the help message for a built-in function, we will see a bit more information."
   ]
  },
  {
   "cell_type": "code",
   "execution_count": 22,
   "id": "c5ea1c90-abfc-4ae6-9da9-2d3c1ddf7d37",
   "metadata": {},
   "outputs": [
    {
     "name": "stdout",
     "output_type": "stream",
     "text": [
      "Help on built-in function print in module builtins:\n",
      "\n",
      "print(*args, sep=' ', end='\\n', file=None, flush=False)\n",
      "    Prints the values to a stream, or to sys.stdout by default.\n",
      "    \n",
      "    sep\n",
      "      string inserted between values, default a space.\n",
      "    end\n",
      "      string appended after the last value, default a newline.\n",
      "    file\n",
      "      a file-like object (stream); defaults to the current sys.stdout.\n",
      "    flush\n",
      "      whether to forcibly flush the stream.\n",
      "\n"
     ]
    }
   ],
   "source": [
    "help(print)"
   ]
  },
  {
   "cell_type": "markdown",
   "id": "0086641b-1752-474b-8010-048d677556a7",
   "metadata": {},
   "source": [
    "We can flesh out the help message for our function, and explain it's behaviour to anyone reading the code by adding a docstring.\n",
    "\n",
    "[The developers of Python have prescribed a recommended formatting style for docstrings](https://peps.python.org/pep-0257/). There are also additional docstring styles. [Google](https://google.github.io/styleguide/pyguide.html#383-functions-and-methods) and [NumPy](https://numpydoc.readthedocs.io/en/latest/format.html) are commonly used styles. For personal use, you can choose your favourite. However, it is best to stick with one of the Google or NumPy formats as that is what other people (i.e., the readers of your docstrings) are likely to be familiar with. In addition, you can then take advantage of [tools like  Sphinx](https://sphinx-rtd-tutorial.readthedocs.io/en/latest/docstrings.html), which can generate automatic documentation for your Python code. [There are also plugins for IDEs like VS Code that streamline docstring writing](https://marketplace.visualstudio.com/items?itemName=njpwerner.autodocstring)\n",
    "\n",
    "The exact specifics of docstrings depend upon which style you choose. I will use Google format docstrings as I find them more readable than NumPy. However, something all docstrings have in common is a few key elements:\n",
    "\n",
    "1. Doctrings use the multiline string triple quotes `\"\"\"`, even if you are only writing a single line docstring.\n",
    "2. If you are documenting a very simple function, (1 or 2 lines), you can use a single line docstring stating what the function does and what it returns\n",
    "3. Docstrings for longer functions still have the single line summary, but may also have a longer summary 2 lines below the first line (i.e., single line summary, then blank line, then longer summary)\n",
    "4. If your function takes arguments, describe them in an Args block. If you use type hints in the function definition, don't also include those here. If you don't use type hints, include those here.\n",
    "5. Whether or not your function returns something, incldue a \"return\" section. State simply what your function returns. Again, if you didn't put type hints in your function definition, put the return type here.\n",
    "6. If your function can raise exceptions, describe those here, including the type of exception and a brief description of the condition that causes the exception. We'll talk about exceptions later.\n",
    "\n",
    "The docstring for our `double_it()` function would looks something like this"
   ]
  },
  {
   "cell_type": "code",
   "execution_count": 23,
   "id": "f17c56f8-53b8-40db-b433-bf969c0f790a",
   "metadata": {},
   "outputs": [],
   "source": [
    "def double_it(x, times=1):\n",
    "    \"\"\"Double a number as many times as you want\n",
    "    \n",
    "    Args:\n",
    "        x (int): The number to double\n",
    "        times (int, optional): The number of times to double the provided number. Defaults to 1.\n",
    "    \n",
    "    Returns:\n",
    "        int: The doubled number\n",
    "    \"\"\"\n",
    "    for i in range(times):\n",
    "        x *= 2\n",
    "    return x"
   ]
  },
  {
   "cell_type": "markdown",
   "id": "1d95b772-2478-436b-862d-bcb267bb80e6",
   "metadata": {},
   "source": [
    "Now that we've added a docstring to the function, we can call `help(double_it)` to check how to use it if we ever forget. Or we can go to the code and read it directly."
   ]
  },
  {
   "cell_type": "code",
   "execution_count": 24,
   "id": "fc5c60cf-458c-4315-be67-82230657fe32",
   "metadata": {},
   "outputs": [
    {
     "name": "stdout",
     "output_type": "stream",
     "text": [
      "Help on function double_it in module __main__:\n",
      "\n",
      "double_it(x, times=1)\n",
      "    Double a number as many times as you want\n",
      "    \n",
      "    Args:\n",
      "        x (int): The number to double\n",
      "        times (int, optional): The number of times to double the provided number. Defaults to 1.\n",
      "    \n",
      "    Returns:\n",
      "        int: The doubled number\n",
      "\n"
     ]
    }
   ],
   "source": [
    "help(double_it)"
   ]
  },
  {
   "cell_type": "markdown",
   "id": "cca792c6-af87-4d2b-a192-f1c37c3abcab",
   "metadata": {},
   "source": [
    "### Type hints\n",
    "\n",
    "In the above docstring, we are specifying the type of each object. Specifying the type is important so that people using your function know what to expect when they use it. As we saw above, we were able to call the `double_it()` function with either `int`, `str`, or `list` arguments. It ran and produced outputs in all three cases. However, in each case it behaved differently.\n",
    "\n",
    "Python uses a system called duck typing (if it walks like a duck and quacks like a duck, then it must be a duck). That means that Python doesn't explicitely check what type an object is. It simply attempts to perform the operations you write and then throws an error if any of them are unsupported. You will typically write functions that are designed to do something with a certain type. In many cases, if a function does work with an additional type, it will be by accident, and the result may not be what you expect.\n",
    "\n",
    "Using type hints tells the user of your code exactly what functions were written to work with. They then know that if they use the stated types, they will see the described behaviour. Python doesn't enforce types when you use type hints, so a user could still give a different type as an argument, but any resulting behaviour of your code is their problem. You did all that can be asked of you by writing type hints. If someone were to post a GitHub issue on your code complaining that your function that takes `int`s doesn't work correctly when they give it `str`s, then you can reasonably ignore them and close the issue if you have documented the correct usage with type hints.\n",
    "\n",
    "In addition to describing the types for which your functions have defined behaviour, type hints are also useful documentation. For complicated functions, it can sometimes not be immediately obvious in what form the function is expecting its input data. Type hints make that clear.\n",
    "\n",
    "We are already using type hints in the docstring example above. However, we can also specify type hints inline in your code. That would look like the following for our `double_it()` function."
   ]
  },
  {
   "cell_type": "code",
   "execution_count": 25,
   "id": "f52b2fb5-ced8-4d93-9f53-f916c214929a",
   "metadata": {},
   "outputs": [],
   "source": [
    "def double_it(x: int, times: int = 1) -> int:\n",
    "    \"\"\"Double a number as many times as you want\n",
    "    \n",
    "    Args:\n",
    "        x: The number to double\n",
    "        times (optional): The number of times to double the provided number. Defaults to 1.\n",
    "    \n",
    "    Returns:\n",
    "        The doubled number\n",
    "    \"\"\"\n",
    "    for i in range(times):\n",
    "        x *= 2\n",
    "    return x"
   ]
  },
  {
   "cell_type": "markdown",
   "id": "e11372d1-6a4a-48c3-b71e-01d575bd0b58",
   "metadata": {},
   "source": [
    "When you specify type hints inline, you don't also need them in the docstring. Now our help message looks a bit different, but still has all the information we need."
   ]
  },
  {
   "cell_type": "code",
   "execution_count": 26,
   "id": "fcfc91a1-b16c-433e-bd4b-fdfeca39b256",
   "metadata": {},
   "outputs": [
    {
     "name": "stdout",
     "output_type": "stream",
     "text": [
      "Help on function double_it in module __main__:\n",
      "\n",
      "double_it(x: int, times: int = 1) -> int\n",
      "    Double a number as many times as you want\n",
      "    \n",
      "    Args:\n",
      "        x: The number to double\n",
      "        times (optional): The number of times to double the provided number. Defaults to 1.\n",
      "    \n",
      "    Returns:\n",
      "        The doubled number\n",
      "\n"
     ]
    }
   ],
   "source": [
    "help(double_it)"
   ]
  },
  {
   "cell_type": "markdown",
   "id": "fc15072f-7d11-4ecf-97b5-3562cd3da06d",
   "metadata": {},
   "source": [
    "In addition, you can specify multiple possible types using pipes (`|`) to delimit the options. For example, our `double_it()` function actually works on `int`s, `str`s, and `list`s"
   ]
  },
  {
   "cell_type": "code",
   "execution_count": 27,
   "id": "5fd9f93c-4c44-4c4e-bb21-08af3520248d",
   "metadata": {},
   "outputs": [],
   "source": [
    "def double_it(x: int | str | list, times: int = 1) -> int | str | list:\n",
    "    \"\"\"Double a number as many times as you want\n",
    "    \n",
    "    Args:\n",
    "        x: The number to double\n",
    "        times (optional): The number of times to double the provided number. Defaults to 1.\n",
    "    \n",
    "    Returns:\n",
    "        The doubled number\n",
    "    \"\"\"\n",
    "    for i in range(times):\n",
    "        x *= 2\n",
    "    return x"
   ]
  },
  {
   "cell_type": "code",
   "execution_count": 28,
   "id": "4a1605f8-3f16-4792-94ab-829ca4944527",
   "metadata": {},
   "outputs": [
    {
     "name": "stdout",
     "output_type": "stream",
     "text": [
      "Help on function double_it in module __main__:\n",
      "\n",
      "double_it(x: int | str | list, times: int = 1) -> int | str | list\n",
      "    Double a number as many times as you want\n",
      "    \n",
      "    Args:\n",
      "        x: The number to double\n",
      "        times (optional): The number of times to double the provided number. Defaults to 1.\n",
      "    \n",
      "    Returns:\n",
      "        The doubled number\n",
      "\n"
     ]
    }
   ],
   "source": [
    "help(double_it)"
   ]
  },
  {
   "cell_type": "markdown",
   "id": "e2b5ec64-4035-4403-9808-7329ef6db529",
   "metadata": {},
   "source": [
    "You can find a short cheatsheet describing how to type hint different objects [at this link](https://mypy.readthedocs.io/en/stable/cheat_sheet_py3.html).\n",
    "\n",
    "## Be careful with mutable function defaults\n",
    "\n",
    "When you specify default values for your function parameters, those defaults are instantiated once and only once when the script is run. What that means is that if you use something like a `list` or `dict`, every time you run the function using that default, you will actually be using the same instance. If one call to the function changes the default value in some way (e.g., by appending to it), then future calls will use the changed object.\n",
    "\n",
    "Let's look at that in action with an example:"
   ]
  },
  {
   "cell_type": "code",
   "execution_count": 29,
   "id": "ea6ee831-36d2-4c80-917c-7e91857e13a7",
   "metadata": {},
   "outputs": [
    {
     "name": "stdout",
     "output_type": "stream",
     "text": [
      "['first call']\n"
     ]
    }
   ],
   "source": [
    "def bad_append_func(thing_to_append: str, mutable_default_list: list[str | None] = []) -> list[str]:\n",
    "    \"\"\"Append a string to a list\"\"\"\n",
    "    \n",
    "    mutable_default_list.append(thing_to_append)\n",
    "    return mutable_default_list\n",
    "\n",
    "x = bad_append_func(thing_to_append=\"first call\")\n",
    "print(x)\n",
    "    "
   ]
  },
  {
   "cell_type": "code",
   "execution_count": 30,
   "id": "ec2b8bb9-7995-468d-822d-960cfdb77576",
   "metadata": {},
   "outputs": [
    {
     "name": "stdout",
     "output_type": "stream",
     "text": [
      "['first call', 'second call']\n"
     ]
    }
   ],
   "source": [
    "y = bad_append_func(thing_to_append=\"second call\")\n",
    "print(y)"
   ]
  },
  {
   "cell_type": "markdown",
   "id": "5411aae0-d235-4113-babe-37f7a1896c7e",
   "metadata": {},
   "source": [
    "As you can see, even though we called the function and stored the returned list in different variables, the append operation from the first call was seen in the output of the second call. Furthermore, `x` has also been modified when we called the function the second time!"
   ]
  },
  {
   "cell_type": "code",
   "execution_count": 31,
   "id": "e0f463cc-b00c-4670-bb5c-ff90b634441d",
   "metadata": {},
   "outputs": [
    {
     "name": "stdout",
     "output_type": "stream",
     "text": [
      "['first call', 'second call']\n"
     ]
    }
   ],
   "source": [
    "print(x)"
   ]
  },
  {
   "cell_type": "markdown",
   "id": "54b03785-a00c-4b48-9737-b098f5936ce3",
   "metadata": {},
   "source": [
    "To get around this we have to simply not use the instance created in the function definition line. Instead, we can check if the default was used and overwrite it with a new empty instance if so."
   ]
  },
  {
   "cell_type": "code",
   "execution_count": 32,
   "id": "d469da41-f33e-496f-8236-31eeb85b8b2b",
   "metadata": {},
   "outputs": [
    {
     "name": "stdout",
     "output_type": "stream",
     "text": [
      "['first call']\n",
      "['second call']\n"
     ]
    }
   ],
   "source": [
    "def bad_append_func(thing_to_append: str, mutable_default_list: list[str | None] = []) -> list[str]:\n",
    "    \"\"\"Append a string to a list\"\"\"\n",
    "    if mutable_default_list == []:\n",
    "        mutable_default_list = []\n",
    "    mutable_default_list.append(thing_to_append)\n",
    "    return mutable_default_list\n",
    "\n",
    "x = bad_append_func(thing_to_append=\"first call\")\n",
    "print(x)\n",
    "y = bad_append_func(thing_to_append=\"second call\")\n",
    "print(y)"
   ]
  },
  {
   "cell_type": "markdown",
   "id": "95338a60-bf80-4950-b710-c28f94aea142",
   "metadata": {},
   "source": [
    "Alternatively, you may want to consider whether your function actually benefits from having a default for that parameter.\n",
    "\n",
    "## `yield` and generator functions\n",
    "\n",
    "Finally, we will take a quick look at writing generator functions. We won't spend much time on them as they are outside the scope of this class. However, I want to introduce them here so that you have at least an awareness of them.\n",
    "\n",
    "[Generator functions](https://docs.python.org/3/reference/expressions.html#yieldexpr) are functions that can \"generate\" an iterable output one element at a time. They look very similar to the functions described above except they use the `yield` keyword to output the elements to be iterated over.\n",
    "\n",
    "Note that generator functions, or \"yield expressions\" return a Generator type [which has the type hint](https://docs.python.org/3/library/typing.html#typing.Generator) `Generator[YieldType, SendType, ReturnType]`. We'll only use the `YieldType` field here, but a properly formatted type hint has all three fields, with unused ones being set to `None`.\n"
   ]
  },
  {
   "cell_type": "code",
   "execution_count": 33,
   "id": "c3bbf9c1-f567-4e0c-85b4-8fe2e04d4729",
   "metadata": {},
   "outputs": [],
   "source": [
    "from typing import Generator # importing for the type hint\n",
    "\n",
    "def iter_int(x: int) -> Generator[int, None, None]:\n",
    "    \"\"\"iterate over an int, yielding the digits\"\"\"\n",
    "    for i in str(x):\n",
    "        yield i\n",
    "\n",
    "gen = iter_int(12345)\n"
   ]
  },
  {
   "cell_type": "markdown",
   "id": "2771a7e6-5f50-4001-839e-80abf0bdd19a",
   "metadata": {},
   "source": [
    "Previously, we observed that `int` doesn't support iterating. That's because the `int` class doesn't have an implementation of the `__yield__()` method. Don't worry about that specific syntax right now, but basically that just means nobody wrote a function to yield parts of the int when iterating over it. How might such a function behave? One option is to output the entire `int` in one go and then end. After all, it's not really possible to separate out the digits meaningfully. A second option could be to return each digit as a representation of the value it contributes to the `int`. For example, 12 could be outputted as 10 and 2. A third option could be to simply output the digits one by one. That's what the above function does. Side-note, perhaps try writing your own generator functions to implement the other two options.\n",
    "\n",
    "After writing our generator, we called it with an `int` and stored the output in a variable, `gen`. Let's take a look at what that object is. The type hint should already give you an idea of what it might be..."
   ]
  },
  {
   "cell_type": "code",
   "execution_count": 34,
   "id": "3541bdc9-56c6-490c-ba3b-386bc43427cc",
   "metadata": {},
   "outputs": [
    {
     "name": "stdout",
     "output_type": "stream",
     "text": [
      "<class 'generator'>\n"
     ]
    }
   ],
   "source": [
    "print(type(gen))"
   ]
  },
  {
   "cell_type": "markdown",
   "id": "a18afdc5-53d5-40ff-803a-da478888faa9",
   "metadata": {},
   "source": [
    "As the type hint suggested, the generator function returned a `generator` class instance. As with other classes we've looked at, what this means is that we can interact with this object in defined ways. Mostly, `generator` instances support operations related to looping. One such operation which will allow us to understand how our generator function works is the `next()` function. `next()` simply \"yields\" the next element in the sequence produced by the `generator`. "
   ]
  },
  {
   "cell_type": "code",
   "execution_count": 35,
   "id": "3e9c45bf-7d57-4fe3-9e64-c847bac1405d",
   "metadata": {},
   "outputs": [
    {
     "name": "stdout",
     "output_type": "stream",
     "text": [
      "1\n"
     ]
    }
   ],
   "source": [
    "print(next(gen))"
   ]
  },
  {
   "cell_type": "markdown",
   "id": "08be7bdf-d6f1-4f8d-ae99-51ccdfd4c5fc",
   "metadata": {},
   "source": [
    "The first time we run `next()` we get the first element. If we run it again we get the second."
   ]
  },
  {
   "cell_type": "code",
   "execution_count": 36,
   "id": "d87917c8-9149-42b9-a40f-ff17f6b0c9f4",
   "metadata": {},
   "outputs": [
    {
     "name": "stdout",
     "output_type": "stream",
     "text": [
      "2\n"
     ]
    }
   ],
   "source": [
    "print(next(gen))"
   ]
  },
  {
   "cell_type": "markdown",
   "id": "8c99d1b1-2a27-41e2-a1af-36ef88fe2bc6",
   "metadata": {},
   "source": [
    "Note that we can do other stuff in between calling next. This text isn't part of the code, but we can execute code in between calling `next()` and the generator still remembers its place in the sequence."
   ]
  },
  {
   "cell_type": "code",
   "execution_count": 37,
   "id": "590a3244-ab83-41f0-9469-4c4bcb48943c",
   "metadata": {},
   "outputs": [
    {
     "name": "stdout",
     "output_type": "stream",
     "text": [
      "this is an interruption\n",
      "3\n"
     ]
    }
   ],
   "source": [
    "print(\"this is an interruption\")\n",
    "print(next(gen))"
   ]
  },
  {
   "cell_type": "markdown",
   "id": "0d0d2c4b-2cd4-476c-bcb6-6e7ae547f4d6",
   "metadata": {},
   "source": [
    "The above code and outputs show that what `yield` does is basically create a function that, instead of ending when it reaches `return`, pauses whenever it reaches `yield`. Then when the produced generator is instructed to do so, it simply picks up where it left off. We can see that explicitely if we put some `print()` calls in our generator function."
   ]
  },
  {
   "cell_type": "code",
   "execution_count": 38,
   "id": "e45da88d-8983-4a2c-8bfd-6d6fcdea7309",
   "metadata": {},
   "outputs": [],
   "source": [
    "def iter_int(x: int) -> Generator[int, None, None]:\n",
    "    \"\"\"iterate over an int, yielding the digits\"\"\"\n",
    "    print(\"starting\")\n",
    "    for i in str(x):\n",
    "        print(\"Pre-yield\")\n",
    "        yield i\n",
    "        print(\"Post-yield\")\n",
    "\n",
    "gen = iter_int(12345)"
   ]
  },
  {
   "cell_type": "markdown",
   "id": "a1b8155d-c569-4f66-8589-5819c03176dd",
   "metadata": {},
   "source": [
    "Now let's call `next(gen)` like before and see what prints."
   ]
  },
  {
   "cell_type": "code",
   "execution_count": 39,
   "id": "e3883258-592e-4632-bbae-7d35e5a0d085",
   "metadata": {},
   "outputs": [
    {
     "name": "stdout",
     "output_type": "stream",
     "text": [
      "starting\n",
      "Pre-yield\n",
      "1\n"
     ]
    }
   ],
   "source": [
    "print(next(gen))"
   ]
  },
  {
   "cell_type": "code",
   "execution_count": 40,
   "id": "ca5e1843-4566-451b-8a55-2268b28a09bb",
   "metadata": {},
   "outputs": [
    {
     "name": "stdout",
     "output_type": "stream",
     "text": [
      "Post-yield\n",
      "Pre-yield\n",
      "2\n"
     ]
    }
   ],
   "source": [
    "print(next(gen))"
   ]
  },
  {
   "cell_type": "markdown",
   "id": "17a55fb4-c524-4458-a041-5b2a972813f1",
   "metadata": {},
   "source": [
    "When we called `print(next(gen))` the first time, the function started, then ran until `yield` was reached and then stopped. However, when we called it the second time, it started up again at the line after `yield`, then it went to the next iteration of the loop. `yield` simply paused the execution of the function until it was told to start again.\n",
    "\n",
    "In addition to using `next()` to see how the function is working, we can also iterate over it in a loop. For example (keeping the prints in to see what happens)"
   ]
  },
  {
   "cell_type": "code",
   "execution_count": 41,
   "id": "1c20e151-5636-4076-b14c-046a0d525d83",
   "metadata": {},
   "outputs": [
    {
     "name": "stdout",
     "output_type": "stream",
     "text": [
      "Post-yield\n",
      "Pre-yield\n",
      "3\n",
      "Post-yield\n",
      "Pre-yield\n",
      "4\n",
      "Post-yield\n",
      "Pre-yield\n",
      "5\n",
      "Post-yield\n"
     ]
    }
   ],
   "source": [
    "for i in gen:\n",
    "    print(i)"
   ]
  },
  {
   "cell_type": "markdown",
   "id": "0a0c865a-41b0-4314-9ea1-7cae3a6bc4fe",
   "metadata": {},
   "source": [
    "As you can see, a regular loop worked just like us running `next()` over and over. Also see that the loop started at 3. As we had run `next()` a couple of times, we had consumed the first two elements in the sequence. If we started it again, we could loop over the whole sequence."
   ]
  },
  {
   "cell_type": "code",
   "execution_count": 42,
   "id": "6b793682-251d-4938-aee7-e911504c99d0",
   "metadata": {},
   "outputs": [
    {
     "name": "stdout",
     "output_type": "stream",
     "text": [
      "starting\n",
      "Pre-yield\n",
      "1\n",
      "Post-yield\n",
      "Pre-yield\n",
      "2\n",
      "Post-yield\n",
      "Pre-yield\n",
      "3\n",
      "Post-yield\n",
      "Pre-yield\n",
      "4\n",
      "Post-yield\n",
      "Pre-yield\n",
      "5\n",
      "Post-yield\n"
     ]
    }
   ],
   "source": [
    "for i in iter_int(12345):\n",
    "    print(i)"
   ]
  },
  {
   "cell_type": "markdown",
   "id": "eb80e341-1194-4f66-bed3-d85f52246d54",
   "metadata": {},
   "source": [
    "You can therefore use `next()` to increment a generator instance or you can use it to skip elements (such as a header line in a file).\n",
    "\n",
    "We're not going to talk any more about generator functions in this course. You can use them in exercises if you find a use for them, but you won't be asked to. Two examples of cases in which you will find `yield` useful are if you want to define a method to iterate over a custom class (we'll cover custom classes later) or if you are writing an implementation of a recursive algorithm (e.g., merge sort)."
   ]
  }
 ],
 "metadata": {
  "kernelspec": {
   "display_name": "Python 3 (ipykernel)",
   "language": "python",
   "name": "python3"
  },
  "language_info": {
   "codemirror_mode": {
    "name": "ipython",
    "version": 3
   },
   "file_extension": ".py",
   "mimetype": "text/x-python",
   "name": "python",
   "nbconvert_exporter": "python",
   "pygments_lexer": "ipython3",
   "version": "3.11.5"
  }
 },
 "nbformat": 4,
 "nbformat_minor": 5
}
