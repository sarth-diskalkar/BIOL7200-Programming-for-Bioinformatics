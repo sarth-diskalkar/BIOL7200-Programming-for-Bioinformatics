{
 "cells": [
  {
   "cell_type": "markdown",
   "id": "135804e0-1011-4a19-91f8-7062b1c38758",
   "metadata": {},
   "source": [
    "# Control flow\n",
    "\n",
    "Control flow statements have a lot of different uses by allowing you to control how your loops proceed.\n",
    "\n",
    "One of the simplest, but also one of the best, uses of control flow is reducing the level of indentation in your loops. Less indentation is generally clearer. \n",
    "\n",
    "Consider the following example (we'll start with something simple and contrived and then use something familiar and sensible): imagine we want to iterate over some numbers and print the square of the number except if the number is 2. We can do that as follows"
   ]
  },
  {
   "cell_type": "code",
   "execution_count": 1,
   "id": "1d130591-1d95-44b3-85a6-672fb08aee00",
   "metadata": {},
   "outputs": [
    {
     "name": "stdout",
     "output_type": "stream",
     "text": [
      "1\n",
      "9\n",
      "16\n",
      "25\n",
      "36\n",
      "49\n"
     ]
    }
   ],
   "source": [
    "numbers = [1, 2, 3, 4, 5, 6, 7]\n",
    "\n",
    "for n in numbers:\n",
    "    if n != 2:\n",
    "        print(n**2)"
   ]
  },
  {
   "cell_type": "markdown",
   "id": "24c56a9e-bf3a-44d0-9a6e-e692fa43bf84",
   "metadata": {},
   "source": [
    "While that loop isn't complicated yet, if we were to have more conditions, it could become several levels indented. Instead of that `if` check that only proceeds if `n != 2`, we could instead use a `continue` to simply skip that iteration. Once a `continue` statement is reached within a loop, none of the rest of the current iteration is executed. Instead, the next iteration is started."
   ]
  },
  {
   "cell_type": "code",
   "execution_count": 2,
   "id": "30c62580-ac09-491c-8052-f4ab84d5d9d4",
   "metadata": {},
   "outputs": [
    {
     "name": "stdout",
     "output_type": "stream",
     "text": [
      "1\n",
      "9\n",
      "16\n",
      "25\n",
      "36\n",
      "49\n"
     ]
    }
   ],
   "source": [
    "for n in numbers:\n",
    "    if n == 2:\n",
    "        continue\n",
    "\n",
    "    print(n**2)"
   ]
  },
  {
   "cell_type": "markdown",
   "id": "8fd443eb-147e-4017-aebf-d2270dd2ae21",
   "metadata": {},
   "source": [
    "As you can see, even though the `print(n**2)` is no longer indented into an `if` block, it is still not executed when `n == 2` as `continue` skips the rest of this iteration the loop body when that condition is satisfied.\n",
    "\n",
    "What about an example where we actually might achieve something by using control flow statements? The homolog identification script is a good case in which control flow statements can improve our processing of BLAST hits and BED features. I've included the BLAST output and BED file for *Vibrio cholerae* in the Canvas folder with these notebooks, which we will use here. "
   ]
  },
  {
   "cell_type": "code",
   "execution_count": 3,
   "id": "8a050ca1-7fa4-4e35-9dc4-facd95b1983f",
   "metadata": {},
   "outputs": [
    {
     "name": "stdout",
     "output_type": "stream",
     "text": [
      "34\n"
     ]
    }
   ],
   "source": [
    "blastfile = \"Vibrio_cholerae_N16961_blastout.txt\"\n",
    "bedfile = \"Vibrio_cholerae_N16961.bed\"\n",
    "\n",
    "# read blast file\n",
    "hits = []\n",
    "with open(blastfile) as fin:\n",
    "    for line in fin: # .readlines() is the default iter method for the open file class\n",
    "        \n",
    "        # unpack and convert types of desired columns. This is ugly. We'll revisit later...\n",
    "        _, sid, pcnt, matchlen, _, _, _, _, sstart, send, _, _, qlen = line.split()\n",
    "        pcnt = float(pcnt)\n",
    "        matchlen = int(matchlen)\n",
    "        sstart = int(sstart)\n",
    "        send = int(send)\n",
    "        qlen = int(qlen)\n",
    "    \n",
    "        # Keep hits that could be homologs\n",
    "        if pcnt > 30 and matchlen > 0.9*qlen:\n",
    "            # We could store matches as a list or tuple.\n",
    "            # We won't want to modify the elements so a tuple is \"safer\" in that we then can't modify it by mistake\n",
    "            hits.append((sid, sstart, send))\n",
    "\n",
    "# Now read the bed file\n",
    "feats = []\n",
    "with open(bedfile) as fin:\n",
    "    for line in fin:\n",
    "        bed_sid, bed_start, bed_end, gene, *_ = line.split() # an asterisk before a variable name when unpacking makes that variable store remaining elements\n",
    "        bed_start = int(bed_start)\n",
    "        bed_end = int(bed_end)\n",
    "        \n",
    "        feats.append((bed_sid, bed_start, bed_end, gene))\n",
    "\n",
    "# Now we have our two datasets read in, we can loop over them to find matches\n",
    "homologs = []\n",
    "for blast_sid, blast_sstart, blast_send in hits: # unpack our blast data\n",
    "    for bed_sid, bed_start, bed_end, gene in feats:\n",
    "        # Don't bother checking the rest if the sid doens't match\n",
    "        if blast_sid != bed_sid:\n",
    "            continue\n",
    "        \n",
    "        # Once we are dealing with features at higher index locations than our hit, go to the next hit (break loop over feats)\n",
    "        if blast_sstart <= bed_start or blast_send <= bed_start:\n",
    "            break\n",
    "        \n",
    "        # Otherwise, check if the hit is inside the feature\n",
    "        if (blast_sstart > bed_start\n",
    "            and blast_sstart <= bed_end\n",
    "            and blast_send > bed_start\n",
    "            and blast_send <= bed_end\n",
    "        ):\n",
    "            homologs.append(gene)\n",
    "            break # Each BLAST hit will only be in one feature so move to next hit once you've found it\n",
    "\n",
    "# Get the unique homologs using a set()\n",
    "unique_homologs = set(homologs)\n",
    "\n",
    "print(len(unique_homologs))"
   ]
  },
  {
   "cell_type": "markdown",
   "id": "4752e71d-a853-494a-a970-98c289c4ab6c",
   "metadata": {},
   "source": [
    "The control flow statements in that code helped us to separate out our different checks. Separating the checks lets us spece them apart with whitespace to improve clarity. It also allows us to organize them better into logical groupings. Finally, using `break` allowed us to skip useless operations, speeding up our loop."
   ]
  }
 ],
 "metadata": {
  "kernelspec": {
   "display_name": "Python 3 (ipykernel)",
   "language": "python",
   "name": "python3"
  },
  "language_info": {
   "codemirror_mode": {
    "name": "ipython",
    "version": 3
   },
   "file_extension": ".py",
   "mimetype": "text/x-python",
   "name": "python",
   "nbconvert_exporter": "python",
   "pygments_lexer": "ipython3",
   "version": "3.11.5"
  }
 },
 "nbformat": 4,
 "nbformat_minor": 5
}
