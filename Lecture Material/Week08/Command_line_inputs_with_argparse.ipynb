{
 "cells": [
  {
   "cell_type": "markdown",
   "id": "d0d8afa9-25d8-4485-907c-1e2fd7ed0fd2",
   "metadata": {},
   "source": [
    "# Command line inputs with argparse\n",
    "\n",
    "Relying on positional command line arguments using `sys.argv` is fine for quick scripts. However, if you want to write something that you will use often, will share with others, or should support different modes of use, positional command line arguments are much more difficult to use than setting up a proper command line interface. argparse is a Python standard library module that provides functionality to process command line inputs. It provides the ability to accepts command line inputs of different types, optional or required inputs, mutually exclusive inputs, and automates the generation of a help message for your programs.\n",
    "\n",
    "As a Jupyter notebook is not a command line application, I will not be able to demonstrate the command line components of argparse here. Instead, this document will illustrate a few of the basic options argparse provides to define arguments. You are then encouraged to try them out in your own scripts to see how they work in practice. In addition, you should look over [the argparse documentation](https://docs.python.org/3/library/argparse.html) to see what sorts of things you can do using this module.\n",
    "\n",
    "## Setting up argparse\n",
    "\n",
    "The main component of the argparse module is the `ArgumentParser` class. That class provides all the methods to define the inputs of your program. The first step in setting up command line arguments is to create an instance of that class. You can then add each desired argument to that instance.\n",
    "\n",
    "Let's create an instance of the `argparse.ArgumentParser` class and print it to see what it looks like."
   ]
  },
  {
   "cell_type": "code",
   "execution_count": 1,
   "id": "1a3fc927-734c-4cb5-8ba6-8124ace391fd",
   "metadata": {},
   "outputs": [
    {
     "name": "stdout",
     "output_type": "stream",
     "text": [
      "ArgumentParser(prog='ipykernel_launcher.py', usage=None, description=None, formatter_class=<class 'argparse.HelpFormatter'>, conflict_handler='error', add_help=True)\n"
     ]
    }
   ],
   "source": [
    "import argparse\n",
    "\n",
    "p = argparse.ArgumentParser()\n",
    "\n",
    "print(p)"
   ]
  },
  {
   "cell_type": "markdown",
   "id": "204eccb9-e124-4c2d-8204-06099546f999",
   "metadata": {},
   "source": [
    "As you can see, it has a few attributes that are included in the printed representation of the instance. Of note, it stored the name of the prog in which is was created in an attribute, \"prog\", and has an \"add_help\" attribute that is set to `True`. The \"add_help\" setting means that this argparse instance is set up to print a nice help message if we call our program with \"-h\" or \"--help\". We can also view the help message using the following command."
   ]
  },
  {
   "cell_type": "code",
   "execution_count": 2,
   "id": "a97d4359-c847-43c2-ac89-7f5b355186ac",
   "metadata": {},
   "outputs": [
    {
     "name": "stdout",
     "output_type": "stream",
     "text": [
      "usage: ipykernel_launcher.py [-h]\n",
      "\n",
      "options:\n",
      "  -h, --help  show this help message and exit\n"
     ]
    }
   ],
   "source": [
    "p.print_help()"
   ]
  },
  {
   "cell_type": "markdown",
   "id": "5f67f5dd-a420-41c2-a843-600b8a8b4e77",
   "metadata": {},
   "source": [
    "That usage statement will be more sensible if you try this in your own script rather than a Jupyter notebook. Otherwise, you can see that without any effort, we have an object that can produce a simple help message. Let's add to it and see how it changes. First, let's recreate the instance and add a description of our overall program."
   ]
  },
  {
   "cell_type": "code",
   "execution_count": 3,
   "id": "5821c451-3b10-4bf8-b3bb-33361e43057e",
   "metadata": {},
   "outputs": [
    {
     "name": "stdout",
     "output_type": "stream",
     "text": [
      "usage: ipykernel_launcher.py [-h]\n",
      "\n",
      "This is a test program that doesn't do anything yet\n",
      "\n",
      "options:\n",
      "  -h, --help  show this help message and exit\n"
     ]
    }
   ],
   "source": [
    "p = argparse.ArgumentParser(description=\"This is a test program that doesn't do anything yet\")\n",
    "\n",
    "p.print_help()"
   ]
  },
  {
   "cell_type": "markdown",
   "id": "002079f7-d185-4fa6-aea4-63b406180536",
   "metadata": {},
   "source": [
    "Adding a description upon instantiation results in a help message that includes a description of our program. We'll leave the other settings alone for this demonstration. Instead, let's move on to adding some arguments.\n",
    "\n",
    "## Adding an argument to the parser\n",
    "\n",
    "The most basic argument you can add stores a positional argument. You can name the argument so that when the arguments are processed, you can refer to the one you want."
   ]
  },
  {
   "cell_type": "code",
   "execution_count": 4,
   "id": "64cb905d-0155-4415-8b60-4760ff239ff9",
   "metadata": {},
   "outputs": [
    {
     "name": "stdout",
     "output_type": "stream",
     "text": [
      "usage: ipykernel_launcher.py [-h] foo\n",
      "\n",
      "This is a test program that doesn't do anything yet\n",
      "\n",
      "positional arguments:\n",
      "  foo\n",
      "\n",
      "options:\n",
      "  -h, --help  show this help message and exit\n"
     ]
    }
   ],
   "source": [
    "p.add_argument(\"foo\")\n",
    "\n",
    "p.print_help()"
   ]
  },
  {
   "cell_type": "markdown",
   "id": "b1d2aa5e-91f7-4522-b491-d5f5c59d49d3",
   "metadata": {},
   "source": [
    "As you can see, there is now a positional argument described in both the usage and in the help message below. However, the help message isn't very useful as it doesn't say what \"foo\" is. We can add a help message for our arguments as well.\n",
    "\n",
    "Let's start again with a fresh instance of the `ArgumentParser` class and add another argument. We need to start with a new instance as otherwise we would have two positional arguments named \"foo\""
   ]
  },
  {
   "cell_type": "code",
   "execution_count": 5,
   "id": "df209c41-e8f8-4cd6-913e-130a05def0c4",
   "metadata": {},
   "outputs": [
    {
     "name": "stdout",
     "output_type": "stream",
     "text": [
      "usage: ipykernel_launcher.py [-h] foo\n",
      "\n",
      "This is a test program that doesn't do anything yet\n",
      "\n",
      "positional arguments:\n",
      "  foo         Thing you want the script to analyze\n",
      "\n",
      "options:\n",
      "  -h, --help  show this help message and exit\n"
     ]
    }
   ],
   "source": [
    "p = argparse.ArgumentParser(description=\"This is a test program that doesn't do anything yet\") # Replace p with a new instance\n",
    "\n",
    "p.add_argument(\"foo\", help=\"Thing you want the script to analyze\")\n",
    "\n",
    "p.print_help()"
   ]
  },
  {
   "cell_type": "markdown",
   "id": "d30d44a8-8063-4162-9139-af4230fdd15f",
   "metadata": {},
   "source": [
    "Now that we have an argument set up so that users of our script know what inputs the script takes, how do we go about using the inputs they provide within the script? All we need to do is tell our `ArgumentParser` instance to parse the arguments. This part is going to look different in the Jupyter notebook than how it will look in a command line application so I strongly recommend you try it out yourself.\n",
    "\n",
    "## Parsing command line arguments\n",
    "\n",
    "To parse command line arguments, you simply use the `ArgumentParser.parse_args()` method. The default behaviour of that method is to get its inputs from `sys.argv[1:]`. However, in this notebook, we don't access to any `sys.argv` inputs, so I'm going to give it input as a `list` of `str`s (essentially what `sys.argv` is). This is the part that will look different in your script. Basically, you can just call the `parse_args()` method without input within a script, while here we have to pass arguments to that method. In either case, `parse_args()` will do what the name suggests and parse the args. It will then return an object to us that inlcudes each argument and its associated input."
   ]
  },
  {
   "cell_type": "code",
   "execution_count": 6,
   "id": "211f3873-d2bc-43f0-bf5c-e4073521861f",
   "metadata": {},
   "outputs": [
    {
     "name": "stdout",
     "output_type": "stream",
     "text": [
      "Namespace(foo='input')\n"
     ]
    }
   ],
   "source": [
    "args = p.parse_args([\"input\"])\n",
    "\n",
    "print(args)"
   ]
  },
  {
   "cell_type": "markdown",
   "id": "39450f7c-bf04-426e-8849-11fbbeed1f26",
   "metadata": {},
   "source": [
    "As we had only set up our `ArgumentParser` instance with one positional argument named \"foo\", that's what our single input was assigned to. We can now work with out \"foo\" input as an attribute of our new `args` object."
   ]
  },
  {
   "cell_type": "code",
   "execution_count": 7,
   "id": "ceca5e48-e19f-4444-81be-231f4d3d3c90",
   "metadata": {},
   "outputs": [
    {
     "name": "stdout",
     "output_type": "stream",
     "text": [
      "input\n"
     ]
    }
   ],
   "source": [
    "print(args.foo)"
   ]
  },
  {
   "cell_type": "markdown",
   "id": "7a4c26d2-78af-41f7-913e-d21a66111120",
   "metadata": {},
   "source": [
    "That's all there is to it. If you simply wanted named positional arguments and a help message, you could just add more arguments to the `ArgumentParser` instance and it would generate the help message and handle organizing the command line inputs into a namespace for you.\n",
    "\n",
    "However, we can also set up more complex command line interfaces using argparse. Let's take a look at some other argument settings we can use.\n",
    "\n",
    "## Options, types, and required arguments\n",
    "\n",
    "Positional arguments like the one we just used above aren't much different than just using `sys.argv` in that everything is determined by the order in which inputs are provided. You may prefer to use options to provide your inputs in any order while still being able to indicate what each is. You can specify options for your arguments in the `add_argument()` call you make to add an argument. You can specify short or long options or both."
   ]
  },
  {
   "cell_type": "code",
   "execution_count": 8,
   "id": "dc80d85a-066f-4389-8ff2-09d7279db421",
   "metadata": {},
   "outputs": [],
   "source": [
    "%%capture \n",
    "# Ignore the above, it just suppresses the printed output from this code as we're not interested in seeing it\n",
    "\n",
    "p = argparse.ArgumentParser(description=\"This is a test program that doesn't do anything yet\")\n",
    "\n",
    "p.add_argument(\n",
    "    \"-f\", \"--file\", # both a short and a long option\n",
    "    help=\"Input file to analyze\"\n",
    ")\n",
    "p.add_argument(\n",
    "    \"-o\", # just a short option\n",
    "    help=\"Path to output file\"\n",
    ")\n"
   ]
  },
  {
   "cell_type": "markdown",
   "id": "a2b475ae-b2e7-48d8-a403-6707c96d75ea",
   "metadata": {},
   "source": [
    "Now let's try providing those arguments and see what we end up with"
   ]
  },
  {
   "cell_type": "code",
   "execution_count": 9,
   "id": "552ff1b2-feb0-4210-8453-1d9b85c5fdeb",
   "metadata": {},
   "outputs": [
    {
     "name": "stdout",
     "output_type": "stream",
     "text": [
      "Namespace(file='input_file.txt', o='out_file.png')\n"
     ]
    }
   ],
   "source": [
    "args = p.parse_args([\"-f\", \"input_file.txt\", \"-o\", \"out_file.png\"])\n",
    "\n",
    "print(args)"
   ]
  },
  {
   "cell_type": "markdown",
   "id": "81d7ce12-12af-4558-8d08-0d637d8bf353",
   "metadata": {},
   "source": [
    "As the printed output above suggests, we can now refer to those inputs using either \"file\" or \"o\". Note that when you define a long option, that is then the attribute name that is used to refer to the inputs. If you don't provide a long option then the short option name is used."
   ]
  },
  {
   "cell_type": "code",
   "execution_count": 10,
   "id": "c1c98b96-fb03-4404-b0a2-ee9e8a8a63ad",
   "metadata": {},
   "outputs": [
    {
     "name": "stdout",
     "output_type": "stream",
     "text": [
      "input_file.txt\n",
      "out_file.png\n"
     ]
    }
   ],
   "source": [
    "print(args.file)\n",
    "print(args.o)"
   ]
  },
  {
   "cell_type": "markdown",
   "id": "f4dba985-160e-4f3b-9aca-b883a43fb687",
   "metadata": {},
   "source": [
    "We can provide those inputs in any order. argparse will check the list of inputs and associate each option with the string that follows it in the list. That means you can provide options in any order. It only matters that you give the associated input straight after each option."
   ]
  },
  {
   "cell_type": "code",
   "execution_count": 11,
   "id": "60db8e30-234b-41f5-86d5-718db7d07fab",
   "metadata": {},
   "outputs": [
    {
     "name": "stdout",
     "output_type": "stream",
     "text": [
      "Namespace(file='input_file.txt', o='out_file.png')\n"
     ]
    }
   ],
   "source": [
    "args = p.parse_args([\"-o\", \"out_file.png\", \"-f\", \"input_file.txt\"])\n",
    "\n",
    "print(args)"
   ]
  },
  {
   "cell_type": "markdown",
   "id": "796ee494-04b1-4890-a414-e827fd61ed7d",
   "metadata": {},
   "source": [
    "What if we don't specify one of the inputs that are defined in our argument parsing class?"
   ]
  },
  {
   "cell_type": "code",
   "execution_count": 12,
   "id": "8fe124c1-9b81-42fd-ab2b-f677a3a7c494",
   "metadata": {},
   "outputs": [
    {
     "name": "stdout",
     "output_type": "stream",
     "text": [
      "Namespace(file='input_file.txt', o=None)\n"
     ]
    }
   ],
   "source": [
    "args = p.parse_args([\"-f\", \"input_file.txt\"])\n",
    "\n",
    "print(args)"
   ]
  },
  {
   "cell_type": "markdown",
   "id": "033529c3-0296-48ca-a301-74fd3583e2db",
   "metadata": {},
   "source": [
    "The default setting is for each option to be optional. If you don't provide an input for it, the value is simply set to `None`. However, that might not be what you want. Perhaps you want to make certain inputs mandatory. You can do that as an option when specifying your arguments."
   ]
  },
  {
   "cell_type": "code",
   "execution_count": 13,
   "id": "4ec8193c-037f-4e6e-a838-da053f438d93",
   "metadata": {},
   "outputs": [],
   "source": [
    "%%capture \n",
    "# Ignore the above, it just suppresses the printed output from this code as we're not interested in seeing it\n",
    "\n",
    "p = argparse.ArgumentParser(description=\"This is a test program that doesn't do anything yet\")\n",
    "\n",
    "p.add_argument(\n",
    "    \"-f\", \"--file\", # both a short and a long option\n",
    "    help=\"Input file to analyze\",\n",
    "    required=True\n",
    ")\n",
    "p.add_argument(\n",
    "    \"-o\", # just a short option\n",
    "    help=\"Path to output file\",\n",
    "    required=False\n",
    ")"
   ]
  },
  {
   "cell_type": "markdown",
   "id": "8e728784-1fd9-4f84-8fc7-a005a2e52771",
   "metadata": {},
   "source": [
    "Now we will always have to specify an input file, but the output file is optional. The output file was actually already optional as we saw above. That is the default setting, but now it is explicit."
   ]
  },
  {
   "cell_type": "code",
   "execution_count": 14,
   "id": "f2043e0c-8d20-4750-bfa9-9e9a8aa5c260",
   "metadata": {},
   "outputs": [
    {
     "name": "stdout",
     "output_type": "stream",
     "text": [
      "Namespace(file='input_file.txt', o=None)\n"
     ]
    }
   ],
   "source": [
    "args = p.parse_args([\"-f\", \"input_file.txt\"])\n",
    "\n",
    "print(args)"
   ]
  },
  {
   "cell_type": "code",
   "execution_count": 15,
   "id": "b302e9b8-f4fb-4eba-8219-f7cb5e193691",
   "metadata": {},
   "outputs": [
    {
     "name": "stderr",
     "output_type": "stream",
     "text": [
      "usage: ipykernel_launcher.py [-h] -f FILE [-o O]\n",
      "ipykernel_launcher.py: error: the following arguments are required: -f/--file\n"
     ]
    },
    {
     "ename": "SystemExit",
     "evalue": "2",
     "output_type": "error",
     "traceback": [
      "An exception has occurred, use %tb to see the full traceback.\n",
      "\u001b[0;31mSystemExit\u001b[0m\u001b[0;31m:\u001b[0m 2\n"
     ]
    },
    {
     "name": "stderr",
     "output_type": "stream",
     "text": [
      "/home/alan/mambaforge/envs/jupyter/lib/python3.11/site-packages/IPython/core/interactiveshell.py:3513: UserWarning: To exit: use 'exit', 'quit', or Ctrl-D.\n",
      "  warn(\"To exit: use 'exit', 'quit', or Ctrl-D.\", stacklevel=1)\n"
     ]
    }
   ],
   "source": [
    "args = p.parse_args([\"-o\", \"out_file.png\"])\n",
    "\n",
    "print(args)"
   ]
  },
  {
   "cell_type": "markdown",
   "id": "73ef8856-cfa4-4190-826a-5653c7b4eab9",
   "metadata": {},
   "source": [
    "The above error will look a bit more clear in a terminal. Jupyter notebook doesn't handle that error very well as it is calling an exit function. Don't worry too much about the specifics of how the above error looks. Try it in your own script and you'll see a message printed to the terminal telling you that you omitted a required argument and the script will abort.\n",
    "\n",
    "Next let's take a look at a couple more things you might want to control about an argument: the class of object it is, and what you will refer to it using within the argument namespace. Those are both things that you can set when defining your arguments. We've already seen that the default names within the namespace object are derived from the long or short options. In addition, if you look at the printed arguments above, you'll see that our inputs are being stored as `str` instances. Let's read in some numbers using short options and specify what we want to call them."
   ]
  },
  {
   "cell_type": "code",
   "execution_count": 16,
   "id": "5debb5db-c5bb-48db-b669-9deac783a445",
   "metadata": {},
   "outputs": [
    {
     "name": "stdout",
     "output_type": "stream",
     "text": [
      "Namespace(num_one=10, num_two=5)\n"
     ]
    }
   ],
   "source": [
    "p = argparse.ArgumentParser(description=\"This is a test program that doesn't do anything yet\")\n",
    "\n",
    "p.add_argument(\n",
    "    \"-1\", # You can use numbers for your options if you like\n",
    "    help=\"First number\",\n",
    "    required=True,\n",
    "    dest=\"num_one\", # This is going to be the name of our args attribute\n",
    "    type=int\n",
    ")\n",
    "p.add_argument(\n",
    "    \"-2\", \n",
    "    help=\"Second number\",\n",
    "    required=False,\n",
    "    dest=\"num_two\",\n",
    "    type=int\n",
    ")\n",
    "\n",
    "args = p.parse_args([\"-1\", \"10\", \"-2\", \"5\"])\n",
    "\n",
    "print(args)"
   ]
  },
  {
   "cell_type": "markdown",
   "id": "d7d9ccdc-db04-4522-8ad8-f6a1254ceec6",
   "metadata": {},
   "source": [
    "As you can see, we now have the provided numbers stored in our `args` object using the names we specified. You can see that the inputs are stored as ints now as they have no quotes in the printed outputs. Furthermore we can check that."
   ]
  },
  {
   "cell_type": "code",
   "execution_count": 17,
   "id": "0f1964b7-d428-4453-85b4-5160bc431894",
   "metadata": {},
   "outputs": [
    {
     "name": "stdout",
     "output_type": "stream",
     "text": [
      "<class 'int'>\n"
     ]
    }
   ],
   "source": [
    "print(type(args.num_one))"
   ]
  },
  {
   "cell_type": "markdown",
   "id": "a0e06d98-bcc6-4fa0-98c0-4e9cc456f8f3",
   "metadata": {},
   "source": [
    "We can therefore use that attribute just like we would any `int` object"
   ]
  },
  {
   "cell_type": "code",
   "execution_count": 18,
   "id": "a0cfac63-8c2c-4b6d-badd-e4b8fcba809f",
   "metadata": {},
   "outputs": [
    {
     "name": "stdout",
     "output_type": "stream",
     "text": [
      "15\n"
     ]
    }
   ],
   "source": [
    "print(args.num_one + args.num_two)"
   ]
  },
  {
   "cell_type": "markdown",
   "id": "76a5f85a-cf0a-48bf-b60a-f079f6f0a1c0",
   "metadata": {},
   "source": [
    "Finally, let's add an argument to change the mode of operation for our program. argparse can create args which store boolean values (`True` and `False`). You can use these booleans within your script to do things like control `if`/`else` blocks."
   ]
  },
  {
   "cell_type": "code",
   "execution_count": 19,
   "id": "b42307ba-1bc6-40f1-89c0-3e66d25b05cf",
   "metadata": {},
   "outputs": [
    {
     "name": "stdout",
     "output_type": "stream",
     "text": [
      "5\n"
     ]
    }
   ],
   "source": [
    "p = argparse.ArgumentParser(description=\"This is a test program that doesn't do anything yet\")\n",
    "\n",
    "p.add_argument(\n",
    "    \"-1\", # You can use numbers for your options if you like\n",
    "    help=\"First number\",\n",
    "    required=True,\n",
    "    dest=\"num_one\", # This is going to be the name of our args attribute\n",
    "    type=int\n",
    ")\n",
    "p.add_argument(\n",
    "    \"-2\", \n",
    "    help=\"Second number\",\n",
    "    required=False,\n",
    "    dest=\"num_two\",\n",
    "    type=int\n",
    ")\n",
    "p.add_argument(\n",
    "    \"--subtract\", \n",
    "    help=\"operation mode\",\n",
    "    required=False,\n",
    "    action=\"store_true\" # Default is false\n",
    ")\n",
    "\n",
    "args = p.parse_args([\"-1\", \"10\", \"-2\", \"5\", \"--subtract\"])\n",
    "\n",
    "if args.subtract:\n",
    "    print(args.num_one - args.num_two)\n",
    "else:\n",
    "    print(args.num_one + args.num_two)"
   ]
  },
  {
   "cell_type": "markdown",
   "id": "869a0572-4ac0-4d87-98c3-75e5522a9b3c",
   "metadata": {},
   "source": [
    "There are lots of other settings you can control with argparse such as specifying fixed choices for intputs, controling the number of inputs to be stored for positional arguments, and defining mutually exclusive groups of arguments. [The documentation](https://docs.python.org/3/library/argparse.html) has great information about all the possibilities that argparse offers. "
   ]
  }
 ],
 "metadata": {
  "kernelspec": {
   "display_name": "Python 3 (ipykernel)",
   "language": "python",
   "name": "python3"
  },
  "language_info": {
   "codemirror_mode": {
    "name": "ipython",
    "version": 3
   },
   "file_extension": ".py",
   "mimetype": "text/x-python",
   "name": "python",
   "nbconvert_exporter": "python",
   "pygments_lexer": "ipython3",
   "version": "3.11.5"
  }
 },
 "nbformat": 4,
 "nbformat_minor": 5
}
