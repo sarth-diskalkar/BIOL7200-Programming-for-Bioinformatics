{
 "cells": [
  {
   "cell_type": "markdown",
   "id": "8e853408-598a-44ee-878b-ef3378c0b55f",
   "metadata": {},
   "source": [
    "# Using your own modules\n",
    "\n",
    "When importing modules, Python checks directories on your computer. If you have a module installed in one of those directories, Python will import it. The directories that are searched when importing a module can be viewed within a Python environment using `sys.path`."
   ]
  },
  {
   "cell_type": "code",
   "execution_count": null,
   "id": "117334b1-6459-4991-af46-be8376d67562",
   "metadata": {},
   "outputs": [],
   "source": [
    "import sys\n",
    "\n",
    "print(sys.path)"
   ]
  },
  {
   "cell_type": "markdown",
   "id": "64bf5a92-21e4-4bb3-9d98-0e6ca2cd2a84",
   "metadata": {},
   "source": [
    "If you run the above code, you will see the locations on your computer that Python is looking for packages when running this Jupyter notebook. The first directory in the list will be the location of whichever script you are running (i.e., this jupyter notebook in our case). If you put your own modules in any of the listed locations, you will be able to import them into another script.\n",
    "\n",
    "## What is a module?\n",
    "\n",
    "Modules are any Python script or directory. As modules can be either files or directories, the heirarchy of directories containing files is represented by referring to the module directories as packages and the files as modules when speaking about them. You can read about packages and modules in the Python documentation [here](https://docs.python.org/3/tutorial/modules.html#packages).\n",
    "\n",
    "To illustrate that any directory can be a module (even if they are only useful if they contain some kind of usable file), we can import the empty directory called \"empty/\" that was included with these notebooks."
   ]
  },
  {
   "cell_type": "code",
   "execution_count": 4,
   "id": "62fe3ed5-10ca-4fa8-8778-f05f46a96610",
   "metadata": {},
   "outputs": [
    {
     "name": "stdout",
     "output_type": "stream",
     "text": [
      "<module 'empty' (<_frozen_importlib_external.NamespaceLoader object at 0x7ff7ef56fb10>)>\n"
     ]
    }
   ],
   "source": [
    "import empty\n",
    "\n",
    "print(empty)"
   ]
  },
  {
   "cell_type": "markdown",
   "id": "a80446d6-a01c-4ca2-8bdc-3d5600ce55a0",
   "metadata": {},
   "source": [
    "However, we can't import directories or scripts that don't exist. Python checks if the file or directory exists and, if it does, it is imported."
   ]
  },
  {
   "cell_type": "code",
   "execution_count": 5,
   "id": "d5a5d7df-a3f5-4447-b783-60e58032168f",
   "metadata": {},
   "outputs": [
    {
     "ename": "ModuleNotFoundError",
     "evalue": "No module named 'non_existant'",
     "output_type": "error",
     "traceback": [
      "\u001b[0;31m---------------------------------------------------------------------------\u001b[0m",
      "\u001b[0;31mModuleNotFoundError\u001b[0m                       Traceback (most recent call last)",
      "Cell \u001b[0;32mIn[5], line 1\u001b[0m\n\u001b[0;32m----> 1\u001b[0m \u001b[38;5;28;01mimport\u001b[39;00m \u001b[38;5;21;01mnon_existant\u001b[39;00m\n\u001b[1;32m      3\u001b[0m \u001b[38;5;28mprint\u001b[39m(non_existant)\n",
      "\u001b[0;31mModuleNotFoundError\u001b[0m: No module named 'non_existant'"
     ]
    }
   ],
   "source": [
    "import non_existant\n",
    "\n",
    "print(non_existant)"
   ]
  },
  {
   "cell_type": "markdown",
   "id": "d7d2997e-2c65-4bfd-a0d1-dba17c356179",
   "metadata": {},
   "source": [
    "As you might have guessed, there's not much point in importing empty directories. We can't do anything with it now that we have imported it. This is just to illustrate that Python simply treats any directory or Python script as an importable object.\n",
    "\n",
    "## Importing local scripts as modules - scripts\n",
    "\n",
    "Now that we have an idea of what Python can and can't import, let's do something useful with it. Let's import the script, \"a.py\" that was included with these notebooks on canvas. To import a script that is in the same directory as the script you are running, you can simply `import <script name>`.\n",
    "\n",
    "Before we import the script, let's take a look at its contents. If you open the script, you'll see the following:\n",
    "\n",
    "```python\n",
    "print(\"Module a is being loaded...\")\n",
    "\n",
    "def say_hi():\n",
    "\tprint(\"hi from a.say_hi()!!!\")\n",
    "```\n",
    "\n",
    "So the script \"a.py\" contains a print command and a function definition. If we were to just run that script in our terminal, the `print()` command would produce the message in our terminal and the function would be defined, but it isn't called so we wouldn't see the message from that. Let's see what happens when we import the module into this Jupyter notebook"
   ]
  },
  {
   "cell_type": "code",
   "execution_count": 1,
   "id": "a5334401-c81e-4ce9-aa8c-79e5f89e7d2f",
   "metadata": {},
   "outputs": [
    {
     "name": "stdout",
     "output_type": "stream",
     "text": [
      "Module a is being loaded...\n"
     ]
    }
   ],
   "source": [
    "import a"
   ]
  },
  {
   "cell_type": "markdown",
   "id": "c9003b8c-5d6d-4560-bc9d-19a2149bd0b0",
   "metadata": {},
   "source": [
    "The `print()` command in the module script ran and we see the output printed above. The same would happen if you created a script which imported the module \"a\" and ran that script in your terminal. When a script is imported, all of the commands and assignments within (i.e., anything with `=`, `def`, etc) are executed. The results are then loaded into the script which imported it. That means that we now have access to the function `say_hi()` which was defined in the script \"a.py\"."
   ]
  },
  {
   "cell_type": "code",
   "execution_count": 2,
   "id": "2e69f0ff-10b4-4fd1-b105-bca2e74551bf",
   "metadata": {},
   "outputs": [
    {
     "name": "stdout",
     "output_type": "stream",
     "text": [
      "hi from a.say_hi()!!!\n"
     ]
    }
   ],
   "source": [
    "a.say_hi()"
   ]
  },
  {
   "cell_type": "markdown",
   "id": "8e55b1b0-2792-42e6-8e93-1b3041f79012",
   "metadata": {},
   "source": [
    "## Importing local scripts as modules - directories\n",
    "\n",
    "What if we want to use directories to organize our scripts? Perhaps we have a few different module scripts, which each contain different related functions. We might in that case create a directory like the \"my_module\" directory included with these jupyter notebooks. That directory contains three script files which include definitions of things we would use for different things. For example, \"my_module/file_handling.py\" might contain functions for reading and writing files.\n",
    "\n",
    "Using multiple scripts to organize our different project components is a great way to make the development of a complicated project simpler. There is no minimum size for Python scripts so you are free to break up your code into as many or as few files as you find most useful. In the example directory, \"file_handling.py\" or something like it seems like a great place to collect all of the code related to file handling. If we ever want to add or modify code relating to that activity, we know just where to find it. The other two scripts are questionable. \"functions.py\" is pretty generic, while \"iterators.py\" is just a type of function. It is less clear what we would plan to store in each of those files. While the names could be improved, they'll suffice for our purposes today.\n",
    "\n",
    "Let's start by importing just one of the scripts, \"my_module/file_handling.py\" so that we can access the function defined within. First, let's consider the contents of the script.\n",
    "\n",
    "```python\n",
    "def say_hi():\n",
    "\tprint(\"hi from my_module.file_handling.say_hi()!!!\")\n",
    "\n",
    "```\n",
    "\n",
    "It looks a lot like the \"a.py\" script. Let's import it and call the function to see that we have imported it correctly. To import scripts that are inside of a directory (or you could says modules within a package), we simply use an import statement that represents that path."
   ]
  },
  {
   "cell_type": "code",
   "execution_count": 4,
   "id": "0546f7ab-0117-40ee-b41b-166b87459657",
   "metadata": {},
   "outputs": [
    {
     "name": "stdout",
     "output_type": "stream",
     "text": [
      "hi from my_module.file_handling.say_hi()!!!\n"
     ]
    }
   ],
   "source": [
    "import my_module.file_handling\n",
    "\n",
    "my_module.file_handling.say_hi()"
   ]
  },
  {
   "cell_type": "markdown",
   "id": "fae0ed71-1e33-4ddf-9bb8-fa0267e91096",
   "metadata": {},
   "source": [
    "As you can see, we have now imported the `file_handling` module within the `my_module` package and we are able to call the function `say_hi()`. If we would prefer to not have to refer to `file_handling.say_hi()` as an attribute of `my_module` then we can us `import X from Y` to just import the `file_handling` module."
   ]
  },
  {
   "cell_type": "code",
   "execution_count": 6,
   "id": "54889b40-fc32-4b19-b921-3e8b92f31bab",
   "metadata": {},
   "outputs": [
    {
     "name": "stdout",
     "output_type": "stream",
     "text": [
      "hi from my_module.file_handling.say_hi()!!!\n"
     ]
    }
   ],
   "source": [
    "from my_module import file_handling\n",
    "file_handling.say_hi()"
   ]
  },
  {
   "cell_type": "markdown",
   "id": "350f0fc3-b3ff-427a-a7f9-102b42d28d32",
   "metadata": {},
   "source": [
    "We could also import the `say_hi()` function directly using the same syntax, but simply referring to the path from which the function can be imported."
   ]
  },
  {
   "cell_type": "code",
   "execution_count": 7,
   "id": "8eb44bc5-53f4-49a5-8dbb-53f454d2fab8",
   "metadata": {},
   "outputs": [
    {
     "name": "stdout",
     "output_type": "stream",
     "text": [
      "hi from my_module.file_handling.say_hi()!!!\n"
     ]
    }
   ],
   "source": [
    "from my_module.file_handling import say_hi\n",
    "say_hi()"
   ]
  },
  {
   "cell_type": "markdown",
   "id": "9bb08e4c-9884-4443-9f97-af2f097ba4d6",
   "metadata": {},
   "source": [
    "Let's import another of the modules in the `my_module` package, the \"functions.py\" module. That file looks like this:\n",
    "\n",
    "```python\n",
    "def say_hi():\n",
    "\tprint(\"hi from my_module.functions.say_hi()!!!\")\n",
    "```\n",
    "\n",
    "We can import it in exactly the same way."
   ]
  },
  {
   "cell_type": "code",
   "execution_count": 8,
   "id": "afd68e8f-43bd-4fef-8a33-60410439d462",
   "metadata": {},
   "outputs": [
    {
     "name": "stdout",
     "output_type": "stream",
     "text": [
      "hi from my_module.functions.say_hi()!!!\n"
     ]
    }
   ],
   "source": [
    "from my_module import functions\n",
    "functions.say_hi()"
   ]
  },
  {
   "cell_type": "markdown",
   "id": "d94ce314-494f-4f11-95fd-1d008d43b584",
   "metadata": {},
   "source": [
    "As you can see, both of these modules have a function with the same name. If we keep the imports such the each function is retained as an attribute of its containing module, then that situation is sustainable (if a strange design choice).\n",
    "\n",
    "As in the other importing notebook, to really follow along with the following examples, you will need to restart the kernel of your notebook. You can do that by clicking the circular arrow at the top of the window. I will prompt you whenever you need to do it again within this document.\n",
    "\n",
    "RESTART KERNEL"
   ]
  },
  {
   "cell_type": "code",
   "execution_count": 9,
   "id": "20510d23-886c-4401-9059-a87b20965cd9",
   "metadata": {},
   "outputs": [
    {
     "name": "stdout",
     "output_type": "stream",
     "text": [
      "hi from my_module.file_handling.say_hi()!!!\n"
     ]
    }
   ],
   "source": [
    "from my_module import file_handling\n",
    "from my_module import functions\n",
    "\n",
    "file_handling.say_hi()"
   ]
  },
  {
   "cell_type": "code",
   "execution_count": 10,
   "id": "77efb14f-fee8-448b-ac0a-4db0e7006b62",
   "metadata": {},
   "outputs": [
    {
     "name": "stdout",
     "output_type": "stream",
     "text": [
      "hi from my_module.functions.say_hi()!!!\n"
     ]
    }
   ],
   "source": [
    "functions.say_hi()"
   ]
  },
  {
   "cell_type": "markdown",
   "id": "5b366b9d-8bed-4369-966a-e48814a959ab",
   "metadata": {},
   "source": [
    "However, if we were to import both functions directly, their names would collide."
   ]
  },
  {
   "cell_type": "code",
   "execution_count": 11,
   "id": "5083c688-880b-4647-b455-f73d50e265fa",
   "metadata": {},
   "outputs": [
    {
     "name": "stdout",
     "output_type": "stream",
     "text": [
      "hi from my_module.functions.say_hi()!!!\n"
     ]
    }
   ],
   "source": [
    "from my_module.file_handling import say_hi\n",
    "from my_module.functions import say_hi\n",
    "\n",
    "say_hi()"
   ]
  },
  {
   "cell_type": "markdown",
   "id": "64138a88-f002-43c0-a2f5-82585c71f399",
   "metadata": {},
   "source": [
    "As you can see, only the second function that we imported is running. That's because when the second import command executed, it overwrote the first function.\n",
    "\n",
    "Finally, the above examples don't do anything useful. Let's take a look at one more module just to see that we can import something worth using. There is a third script in the \"my_module/\" dir which includes the iterator function we wrote in class together to iterate over the digits of an integer. Let's import that and us the function we wrote."
   ]
  },
  {
   "cell_type": "code",
   "execution_count": 14,
   "id": "5d23fda8-617b-4b53-a4d8-975b2f6b87e2",
   "metadata": {},
   "outputs": [
    {
     "name": "stdout",
     "output_type": "stream",
     "text": [
      "50000\n",
      "4000\n",
      "300\n",
      "20\n",
      "1\n"
     ]
    }
   ],
   "source": [
    "from my_module import iterators\n",
    "\n",
    "for i in iterators.iter_int(54321):\n",
    "    print(i)"
   ]
  },
  {
   "cell_type": "markdown",
   "id": "cd88969c-f29a-4996-b5a1-2cba125c2718",
   "metadata": {},
   "source": [
    "In addition to running that function, we can also use call `help()` to see how to use the function, just like if we had defined the function within our current script."
   ]
  },
  {
   "cell_type": "code",
   "execution_count": 15,
   "id": "f8316f0c-5ea0-4a1b-bab8-cef0792c39a2",
   "metadata": {},
   "outputs": [
    {
     "name": "stdout",
     "output_type": "stream",
     "text": [
      "Help on function iter_int in module my_module.iterators:\n",
      "\n",
      "iter_int(num: int) -> int\n",
      "\n"
     ]
    }
   ],
   "source": [
    "help(iterators.iter_int)"
   ]
  },
  {
   "cell_type": "markdown",
   "id": "9cd18a2c-1c79-4899-b423-65110cb54143",
   "metadata": {},
   "source": [
    "## Writing scripts to be either run or imported\n",
    "\n",
    "As we saw when importing `a`, the `print()` command in the script was run. Consider a situation in which you wrote a script that did a number of time consuming things, but also had some useful function definitions that you wanted to use elsewhere. You might want to be able to import the functions without executing the whole script. This is a common thing to want to do with Python scripts. In fact there are many situations in which you might want to be able to import a script without executing it.\n",
    "\n",
    "We can do that by taking advantage of one of the special attributes that Python assigns to scripts and modules when they are executed or imported. Specifically, Python assigns each script a name according to how it is run or imported. The name of each script is stored in the special attribute \"\\_\\_name\\_\\_\". Special attributes like \"\\_\\_name\\_\\_\" are often referred to as \"dunder\" attributes as they have a double-underscore each side.\n",
    "\n",
    "Generally, double underscores are used in Python to indicate attributes that are used by the Python language directly as opposed to variables that you define. We'll talk more about dunder attributes and methods when we start working with making our own classes in a later week.\n",
    "\n",
    "The way we can use the \"\\_\\_name\\_\\_\" attribute is by checking if the script is the main script being executed or if it has been imported. Whenever a script is directly executed, it will be assigned the name \"\\_\\_main\\_\\_\". However, when a script is imported, it is given a differerent name such as the actual name of the script. Try it out yourself by making a script containing only the command `print(__name__)` and either executing the script or importing it into another script.\n",
    "\n",
    "Knowing that \"\\_\\_name\\_\\_\" will be \"\\_\\_main\\_\\_\" only when a script is executed, we can simply put any code we only want to run when executing a script behind an `if` check."
   ]
  },
  {
   "cell_type": "code",
   "execution_count": 18,
   "id": "c5f8d407-91da-4567-8c9c-32296cca6c19",
   "metadata": {},
   "outputs": [],
   "source": [
    "# Imagine this is a script.\n",
    "\n",
    "def something():\n",
    "    print(\"look at me go!!!\")\n",
    "    \n",
    "if __name__ == \"__main__\":\n",
    "    something()"
   ]
  },
  {
   "cell_type": "markdown",
   "id": "022b2c66-f36a-4d9a-affd-1b8997a2fecd",
   "metadata": {},
   "source": [
    "If you run the above block in this notebook, it will run the function. However, if you copy that block into a script and then import it into another script, the function will not be run.\n",
    "\n",
    "## \\_\\_init\\_\\_.py\n",
    "\n",
    "The way the \"my_module/\" dir is set up means that if we want to use any of the modules within, we need to import them using their full path. i.e., we can't do the following:\n",
    "\n",
    "RESTART KERNEL"
   ]
  },
  {
   "cell_type": "code",
   "execution_count": 1,
   "id": "498ae35e-ee46-4006-83c5-601e6b5fb938",
   "metadata": {},
   "outputs": [
    {
     "ename": "AttributeError",
     "evalue": "module 'my_module' has no attribute 'file_handling'",
     "output_type": "error",
     "traceback": [
      "\u001b[0;31m---------------------------------------------------------------------------\u001b[0m",
      "\u001b[0;31mAttributeError\u001b[0m                            Traceback (most recent call last)",
      "Cell \u001b[0;32mIn[1], line 3\u001b[0m\n\u001b[1;32m      1\u001b[0m \u001b[38;5;28;01mimport\u001b[39;00m \u001b[38;5;21;01mmy_module\u001b[39;00m\n\u001b[0;32m----> 3\u001b[0m my_module\u001b[38;5;241m.\u001b[39mfile_handling\u001b[38;5;241m.\u001b[39msay_hi()\n",
      "\u001b[0;31mAttributeError\u001b[0m: module 'my_module' has no attribute 'file_handling'"
     ]
    }
   ],
   "source": [
    "import my_module\n",
    "\n",
    "my_module.file_handling.say_hi()"
   ]
  },
  {
   "cell_type": "markdown",
   "id": "8765dffb-327a-4d4d-b424-f8056cbd3e97",
   "metadata": {},
   "source": [
    "We know that the error message produced above is wrong. `my_module` does have an attribute called file_handling. Indeed, we can import it."
   ]
  },
  {
   "cell_type": "code",
   "execution_count": 2,
   "id": "34f67856-a7d1-4cb8-bc53-fc3f55157398",
   "metadata": {},
   "outputs": [
    {
     "name": "stdout",
     "output_type": "stream",
     "text": [
      "hi from my_module.file_handling.say_hi()!!!\n"
     ]
    }
   ],
   "source": [
    "import my_module.file_handling\n",
    "\n",
    "my_module.file_handling.say_hi()"
   ]
  },
  {
   "cell_type": "markdown",
   "id": "c12bbea5-a45e-4c93-a810-46d8c50b76d1",
   "metadata": {},
   "source": [
    "The reason for this behaviour is that when you import a package consisting of solely a directory containing some modules, the package is imported without Python then recursing through the sub-packages and modules inside the package. Instead, when you set up a package as we have set up `my_module`, you need to specify the modules within `my_module` that you want. We can see exactly what is imported from `my_module` using the `dir()` command.\n",
    "\n",
    "RESTART KERNEL"
   ]
  },
  {
   "cell_type": "code",
   "execution_count": 2,
   "id": "6b1f9876-2db9-4121-a559-1cbcfc2aa94c",
   "metadata": {},
   "outputs": [
    {
     "name": "stdout",
     "output_type": "stream",
     "text": [
      "['In', 'Out', '_', '_1', '__', '___', '__builtin__', '__builtins__', '__doc__', '__loader__', '__name__', '__package__', '__spec__', '_dh', '_i', '_i1', '_i2', '_ih', '_ii', '_iii', '_oh', 'exit', 'get_ipython', 'my_module', 'open', 'quit']\n"
     ]
    }
   ],
   "source": [
    "import my_module\n",
    "\n",
    "# dir() without inputs prints everything in our current namespace\n",
    "print(dir())"
   ]
  },
  {
   "cell_type": "markdown",
   "id": "dac852f0-68b8-4232-9887-177aa991c185",
   "metadata": {},
   "source": [
    "We can see that `my_module` has been added to our namespace along with a lot of other things that we won't worry about here. What about the namespace of the `my_module` module"
   ]
  },
  {
   "cell_type": "code",
   "execution_count": 3,
   "id": "e14f163a-e13c-4330-ae53-9ad4278049a1",
   "metadata": {},
   "outputs": [
    {
     "name": "stdout",
     "output_type": "stream",
     "text": [
      "['__doc__', '__file__', '__loader__', '__name__', '__package__', '__path__', '__spec__']\n"
     ]
    }
   ],
   "source": [
    "print(dir(my_module))"
   ]
  },
  {
   "cell_type": "markdown",
   "id": "8dd156cd-d617-42b1-9bea-34643667ebfc",
   "metadata": {},
   "source": [
    "That doesn't include the two modules contained within `my_module`. They have not been imported. What if we import them directly"
   ]
  },
  {
   "cell_type": "code",
   "execution_count": 1,
   "id": "9c14121c-1ade-4831-aff6-08d8672946dc",
   "metadata": {},
   "outputs": [
    {
     "name": "stdout",
     "output_type": "stream",
     "text": [
      "['__doc__', '__file__', '__loader__', '__name__', '__package__', '__path__', '__spec__', 'file_handling', 'functions']\n"
     ]
    }
   ],
   "source": [
    "import my_module.functions\n",
    "import my_module.file_handling\n",
    "\n",
    "print(dir(my_module))"
   ]
  },
  {
   "cell_type": "markdown",
   "id": "953c475a-dc14-4284-a4ca-b0321150cd2d",
   "metadata": {},
   "source": [
    "Importing the two modules directly loads them in our script as part of the `my_module` namespace.\n",
    "\n",
    "What if we want to be able to just import the top-level package and then have access to all of the modules within? That's what \\_\\_init\\_\\_.py files are for. When you import a package (i.e., a directory), any \\_\\_init\\_\\_.py file within is executed. Any code within that \\_\\_init\\_\\_.py is therefore executed, meaning you can write code there to control how the import of your package behaves.\n",
    "\n",
    "For our example module, let's just set it up so that importing `my_module` also makes available the modules within. To make that change, you need to add an \\_\\_init\\_\\_.py file within the \"my_module/\" dir. Make that file and add the following code to the file before proceeding.\n",
    "\n",
    "```python\n",
    "import my_module.functions\n",
    "import my_module.file_handling\n",
    "import my_module.iterators\n",
    "```\n",
    "\n",
    "You should then see the modules within `my_module` loaded in the `my_module` namespace upon import.\n",
    "\n",
    "RESTART KERNEL"
   ]
  },
  {
   "cell_type": "code",
   "execution_count": 1,
   "id": "db72bd9f-0d01-4606-9299-346921af80f2",
   "metadata": {},
   "outputs": [
    {
     "name": "stdout",
     "output_type": "stream",
     "text": [
      "['__builtins__', '__cached__', '__doc__', '__file__', '__loader__', '__name__', '__package__', '__path__', '__spec__', 'file_handling', 'functions', 'iterators', 'my_module']\n"
     ]
    }
   ],
   "source": [
    "import my_module\n",
    "print(dir(my_module))"
   ]
  },
  {
   "cell_type": "markdown",
   "id": "e58c17c2-c43c-421b-b148-33849326de73",
   "metadata": {},
   "source": [
    "We can now run the functions in the my_module without having to import everthing within our script."
   ]
  },
  {
   "cell_type": "code",
   "execution_count": 2,
   "id": "772a6fed-8974-4e73-bd8d-c756d125eeab",
   "metadata": {},
   "outputs": [
    {
     "name": "stdout",
     "output_type": "stream",
     "text": [
      "hi from my_module.functions.say_hi()!!!\n"
     ]
    }
   ],
   "source": [
    "my_module.functions.say_hi()"
   ]
  }
 ],
 "metadata": {
  "kernelspec": {
   "display_name": "Python 3 (ipykernel)",
   "language": "python",
   "name": "python3"
  },
  "language_info": {
   "codemirror_mode": {
    "name": "ipython",
    "version": 3
   },
   "file_extension": ".py",
   "mimetype": "text/x-python",
   "name": "python",
   "nbconvert_exporter": "python",
   "pygments_lexer": "ipython3",
   "version": "3.11.5"
  }
 },
 "nbformat": 4,
 "nbformat_minor": 5
}
