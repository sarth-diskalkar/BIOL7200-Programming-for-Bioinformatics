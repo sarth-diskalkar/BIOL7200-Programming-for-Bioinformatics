{
 "cells": [
  {
   "cell_type": "markdown",
   "id": "00b49e90-f209-4ebe-9a76-02cf9da6cc91",
   "metadata": {},
   "source": [
    "# Importing Modules\n",
    "\n",
    "We have already been importing modules without really talking about what that means. For example, you have used the command `import sys` in order to get access to command line arguments. Here we're going to talk a bit about what it means to import a module, different ways you can import modules, and rules you should keep in mind to avoid issues that can arise when importing packages.\n",
    "\n",
    "## Why do you need to import modules and packages?\n",
    "\n",
    "There are two consequences to importing a module: \n",
    "1. Code within the module is executed. This may increase the startup time of any program which loads the module.\n",
    "2. The module is added to the namespace of your script. If many modules are imported, this can lead to a crowded development environment.\n",
    "\n",
    "Because of these two consequences of importing a module, Python was designed so that you always have access to a minimal set of built-in functions and constants, but that less commonly used functionality is stored in standard library modules that you can import if you want access to them.\n",
    "\n",
    "## How does one import a module?\n",
    "\n",
    "There are different ways to import modules depending on which components of the module you want. The simplest approach is to import an entire module. The syntax to do so is what we have been using so far: `import <module name>`. After importing a module using this syntax, you then have access to all of the constants, functions, etc. defined in that module in the form of attributes which can be accessed using the syntax `<module>.<attribute>`.\n",
    "\n",
    "You can view all of the attributes of a module using the `dir()` built-in functions. Below, we'll explore an often useful standard library module, `os`, beginning with listing its attributes with `dir()`.\n",
    "\n"
   ]
  },
  {
   "cell_type": "code",
   "execution_count": 1,
   "id": "738caff7-2d4b-4c1d-bd3c-a00332c50640",
   "metadata": {},
   "outputs": [
    {
     "name": "stdout",
     "output_type": "stream",
     "text": [
      "['CLD_CONTINUED', 'CLD_DUMPED', 'CLD_EXITED', 'CLD_KILLED', 'CLD_STOPPED', 'CLD_TRAPPED', 'DirEntry', 'EFD_CLOEXEC', 'EFD_NONBLOCK', 'EFD_SEMAPHORE', 'EX_CANTCREAT', 'EX_CONFIG', 'EX_DATAERR', 'EX_IOERR', 'EX_NOHOST', 'EX_NOINPUT', 'EX_NOPERM', 'EX_NOUSER', 'EX_OK', 'EX_OSERR', 'EX_OSFILE', 'EX_PROTOCOL', 'EX_SOFTWARE', 'EX_TEMPFAIL', 'EX_UNAVAILABLE', 'EX_USAGE', 'F_LOCK', 'F_OK', 'F_TEST', 'F_TLOCK', 'F_ULOCK', 'GRND_NONBLOCK', 'GRND_RANDOM', 'GenericAlias', 'Mapping', 'MutableMapping', 'NGROUPS_MAX', 'O_ACCMODE', 'O_APPEND', 'O_ASYNC', 'O_CLOEXEC', 'O_CREAT', 'O_DIRECT', 'O_DIRECTORY', 'O_DSYNC', 'O_EXCL', 'O_FSYNC', 'O_LARGEFILE', 'O_NDELAY', 'O_NOATIME', 'O_NOCTTY', 'O_NOFOLLOW', 'O_NONBLOCK', 'O_PATH', 'O_RDONLY', 'O_RDWR', 'O_RSYNC', 'O_SYNC', 'O_TMPFILE', 'O_TRUNC', 'O_WRONLY', 'POSIX_FADV_DONTNEED', 'POSIX_FADV_NOREUSE', 'POSIX_FADV_NORMAL', 'POSIX_FADV_RANDOM', 'POSIX_FADV_SEQUENTIAL', 'POSIX_FADV_WILLNEED', 'POSIX_SPAWN_CLOSE', 'POSIX_SPAWN_DUP2', 'POSIX_SPAWN_OPEN', 'PRIO_PGRP', 'PRIO_PROCESS', 'PRIO_USER', 'P_ALL', 'P_NOWAIT', 'P_NOWAITO', 'P_PGID', 'P_PID', 'P_WAIT', 'PathLike', 'RTLD_DEEPBIND', 'RTLD_GLOBAL', 'RTLD_LAZY', 'RTLD_LOCAL', 'RTLD_NODELETE', 'RTLD_NOLOAD', 'RTLD_NOW', 'R_OK', 'SCHED_BATCH', 'SCHED_FIFO', 'SCHED_IDLE', 'SCHED_OTHER', 'SCHED_RESET_ON_FORK', 'SCHED_RR', 'SEEK_CUR', 'SEEK_DATA', 'SEEK_END', 'SEEK_HOLE', 'SEEK_SET', 'SPLICE_F_MORE', 'SPLICE_F_MOVE', 'SPLICE_F_NONBLOCK', 'ST_APPEND', 'ST_MANDLOCK', 'ST_NOATIME', 'ST_NODEV', 'ST_NODIRATIME', 'ST_NOEXEC', 'ST_NOSUID', 'ST_RDONLY', 'ST_RELATIME', 'ST_SYNCHRONOUS', 'ST_WRITE', 'TMP_MAX', 'WCONTINUED', 'WCOREDUMP', 'WEXITED', 'WEXITSTATUS', 'WIFCONTINUED', 'WIFEXITED', 'WIFSIGNALED', 'WIFSTOPPED', 'WNOHANG', 'WNOWAIT', 'WSTOPPED', 'WSTOPSIG', 'WTERMSIG', 'WUNTRACED', 'W_OK', 'XATTR_CREATE', 'XATTR_REPLACE', 'XATTR_SIZE_MAX', 'X_OK', '_Environ', '__all__', '__builtins__', '__doc__', '__file__', '__loader__', '__name__', '__package__', '__spec__', '_check_methods', '_execvpe', '_exists', '_exit', '_fspath', '_fwalk', '_get_exports_list', '_spawnvef', '_walk', '_wrap_close', 'abc', 'abort', 'access', 'altsep', 'chdir', 'chmod', 'chown', 'chroot', 'close', 'closerange', 'confstr', 'confstr_names', 'cpu_count', 'ctermid', 'curdir', 'defpath', 'device_encoding', 'devnull', 'dup', 'dup2', 'environ', 'environb', 'error', 'eventfd', 'eventfd_read', 'eventfd_write', 'execl', 'execle', 'execlp', 'execlpe', 'execv', 'execve', 'execvp', 'execvpe', 'extsep', 'fchdir', 'fchmod', 'fchown', 'fdatasync', 'fdopen', 'fork', 'forkpty', 'fpathconf', 'fsdecode', 'fsencode', 'fspath', 'fstat', 'fstatvfs', 'fsync', 'ftruncate', 'fwalk', 'get_blocking', 'get_exec_path', 'get_inheritable', 'get_terminal_size', 'getcwd', 'getcwdb', 'getegid', 'getenv', 'getenvb', 'geteuid', 'getgid', 'getgrouplist', 'getgroups', 'getloadavg', 'getlogin', 'getpgid', 'getpgrp', 'getpid', 'getppid', 'getpriority', 'getrandom', 'getresgid', 'getresuid', 'getsid', 'getuid', 'getxattr', 'initgroups', 'isatty', 'kill', 'killpg', 'lchown', 'linesep', 'link', 'listdir', 'listxattr', 'lockf', 'login_tty', 'lseek', 'lstat', 'major', 'makedev', 'makedirs', 'minor', 'mkdir', 'mkfifo', 'mknod', 'name', 'nice', 'open', 'openpty', 'pardir', 'path', 'pathconf', 'pathconf_names', 'pathsep', 'pipe', 'pipe2', 'popen', 'posix_fadvise', 'posix_fallocate', 'posix_spawn', 'posix_spawnp', 'pread', 'preadv', 'putenv', 'pwrite', 'pwritev', 'read', 'readlink', 'readv', 'register_at_fork', 'remove', 'removedirs', 'removexattr', 'rename', 'renames', 'replace', 'rmdir', 'scandir', 'sched_get_priority_max', 'sched_get_priority_min', 'sched_getaffinity', 'sched_getparam', 'sched_getscheduler', 'sched_param', 'sched_rr_get_interval', 'sched_setaffinity', 'sched_setparam', 'sched_setscheduler', 'sched_yield', 'sendfile', 'sep', 'set_blocking', 'set_inheritable', 'setegid', 'seteuid', 'setgid', 'setgroups', 'setpgid', 'setpgrp', 'setpriority', 'setregid', 'setresgid', 'setresuid', 'setreuid', 'setsid', 'setuid', 'setxattr', 'spawnl', 'spawnle', 'spawnlp', 'spawnlpe', 'spawnv', 'spawnve', 'spawnvp', 'spawnvpe', 'splice', 'st', 'stat', 'stat_result', 'statvfs', 'statvfs_result', 'strerror', 'supports_bytes_environ', 'supports_dir_fd', 'supports_effective_ids', 'supports_fd', 'supports_follow_symlinks', 'symlink', 'sync', 'sys', 'sysconf', 'sysconf_names', 'system', 'tcgetpgrp', 'tcsetpgrp', 'terminal_size', 'times', 'times_result', 'truncate', 'ttyname', 'umask', 'uname', 'uname_result', 'unlink', 'unsetenv', 'urandom', 'utime', 'wait', 'wait3', 'wait4', 'waitid', 'waitid_result', 'waitpid', 'waitstatus_to_exitcode', 'walk', 'write', 'writev']\n"
     ]
    }
   ],
   "source": [
    "import os\n",
    "\n",
    "print(dir(os))"
   ]
  },
  {
   "cell_type": "markdown",
   "id": "411e754c-995b-4795-8c59-c64ad9df7549",
   "metadata": {},
   "source": [
    "As you can see, `os` has a lot of attributes that we gain access to when we import it. You can see the `os` package [documentation here](https://docs.python.org/3/library/os.html) to get more information about what each thing does and how to use it. For the following examples, we'll use `os.listdir()`, which simply lists the contents of a specified directory. By default it lists the directory in which you executed the Python script. In our case that will be wherever this Jupyter notebook is located.\n",
    "\n",
    "Note that in order to call the `listdir()` function in the `os` module, we needed to use a syntax that specifies that the function is an attribute of the module. This syntax looks just like that of the methods we have been using to work with `str`, `list` etc objects. That's because in both cases, the function is being accessed as an attribute of an object. The `split()` function is an attribute of the `str` class. `listdir()` is an attribute of the `os` module."
   ]
  },
  {
   "cell_type": "code",
   "execution_count": 2,
   "id": "6bdd7e9f-f387-4b00-974b-0b2263846f21",
   "metadata": {},
   "outputs": [
    {
     "name": "stdout",
     "output_type": "stream",
     "text": [
      "['.ipynb_checkpoints', 'a.py', 'Command_line_inputs_with_argparse.ipynb', 'Importing_modules.ipynb', 'my_module', 'Using_your_own_module.ipynb']\n"
     ]
    }
   ],
   "source": [
    "print(os.listdir())"
   ]
  },
  {
   "cell_type": "markdown",
   "id": "a98e041a-d631-478c-af00-c7103055ebcc",
   "metadata": {},
   "source": [
    "## Variations of `import` syntax - `from` and `as`\n",
    "\n",
    "Quick note: the following examples don't work well in a Jupyter notebook as Jupyter maintains a constantly active environment. We're about to go over how different variations of `import` work, but each variation will establish our environment differently. Therefore, if you want to work through these examples interactively and see what happens, you will need to either:\n",
    "1. Copy and paste these code chunks into a script and run them outside of this Jupyter notebook. Or,\n",
    "2. Restart your Jupyter kernel (i.e., Python environment) using the circular arrow at the top of your page before each new import. I will include an all caps \"RESTART KERNEL\" prompt to help you remember to do so if you want to do it this way.\n",
    "\n",
    "### `from X import Y`\n",
    "\n",
    "Before we talk about the differences when using `from`, let's first take a look at a second `os` function, `uname()`. `uname()` isn't something you will use a lot, but is a function with a simple printed output, so it will be used here to illustrate consequences of different imports. `uname()` prints information about your computer and operating system."
   ]
  },
  {
   "cell_type": "code",
   "execution_count": 3,
   "id": "ffdc16a7-9f9a-4310-a377-d6100ccbd0c3",
   "metadata": {},
   "outputs": [
    {
     "name": "stdout",
     "output_type": "stream",
     "text": [
      "posix.uname_result(sysname='Linux', nodename='Alandesktop', release='5.15.90.1-microsoft-standard-WSL2', version='#1 SMP Fri Jan 27 02:56:13 UTC 2023', machine='x86_64')\n"
     ]
    }
   ],
   "source": [
    "print(os.uname())"
   ]
  },
  {
   "cell_type": "markdown",
   "id": "2de72f57-3b5a-4037-85f4-c9b62b414a28",
   "metadata": {},
   "source": [
    "Imagine a situation where you want to list the contents of a directory, but you don't need any other functions from the `os` module. Furthermore, you are too busy to be always writing out `os.`, and besides, `listdir()` is already unambiguous. It is not likely that you will create another function with that name so there is not going to be any chances of confusion.\n",
    "\n",
    "If you found yourself in such a situation, you could import just the parts of a module that you actually wanted straight into your script's namespace. You could then refer to them without needing to specify that they are from the `os` module. That would look as follows\n",
    "\n",
    "RESTART KERNEL"
   ]
  },
  {
   "cell_type": "code",
   "execution_count": 1,
   "id": "4d099fe8-3906-479c-af2a-891729038e27",
   "metadata": {},
   "outputs": [
    {
     "name": "stdout",
     "output_type": "stream",
     "text": [
      "['.ipynb_checkpoints', 'a.py', 'Command_line_inputs_with_argparse.ipynb', 'Importing_modules.ipynb', 'my_module', 'Using_your_own_module.ipynb']\n"
     ]
    }
   ],
   "source": [
    "from os import listdir\n",
    "\n",
    "print(listdir())"
   ]
  },
  {
   "cell_type": "markdown",
   "id": "fb57434b-eb44-4630-a23b-a769936584d4",
   "metadata": {},
   "source": [
    "As you can see, we can now use the `listdir()` function without having to specify that it is part of the `os` module every time we call it. Furthermore, we actually can't call it as we were before, because the `os` module was not loaded into our script's namespace."
   ]
  },
  {
   "cell_type": "code",
   "execution_count": 2,
   "id": "10204c21-225c-4266-848e-e541e32c4e35",
   "metadata": {},
   "outputs": [
    {
     "ename": "NameError",
     "evalue": "name 'os' is not defined",
     "output_type": "error",
     "traceback": [
      "\u001b[0;31m---------------------------------------------------------------------------\u001b[0m",
      "\u001b[0;31mNameError\u001b[0m                                 Traceback (most recent call last)",
      "Cell \u001b[0;32mIn[2], line 1\u001b[0m\n\u001b[0;32m----> 1\u001b[0m \u001b[38;5;28mprint\u001b[39m(os\u001b[38;5;241m.\u001b[39mlistdir())\n",
      "\u001b[0;31mNameError\u001b[0m: name 'os' is not defined"
     ]
    }
   ],
   "source": [
    "print(os.listdir())"
   ]
  },
  {
   "cell_type": "markdown",
   "id": "8533f102-bbdc-41da-a8f4-413d02fd1829",
   "metadata": {},
   "source": [
    "In addition to being unable to call the `listdir()` function using the form `os.listdir()` now that we have imported it directly, we also can't access other parts of the `os` module, like `uname()`"
   ]
  },
  {
   "cell_type": "code",
   "execution_count": 3,
   "id": "94c6247c-9171-4f87-8e24-f26d7da735d3",
   "metadata": {},
   "outputs": [
    {
     "ename": "NameError",
     "evalue": "name 'os' is not defined",
     "output_type": "error",
     "traceback": [
      "\u001b[0;31m---------------------------------------------------------------------------\u001b[0m",
      "\u001b[0;31mNameError\u001b[0m                                 Traceback (most recent call last)",
      "Cell \u001b[0;32mIn[3], line 1\u001b[0m\n\u001b[0;32m----> 1\u001b[0m \u001b[38;5;28mprint\u001b[39m(os\u001b[38;5;241m.\u001b[39muname())\n",
      "\u001b[0;31mNameError\u001b[0m: name 'os' is not defined"
     ]
    }
   ],
   "source": [
    "print(os.uname())"
   ]
  },
  {
   "cell_type": "code",
   "execution_count": 4,
   "id": "728845af-eeaa-4647-9adc-444409790768",
   "metadata": {},
   "outputs": [
    {
     "ename": "NameError",
     "evalue": "name 'uname' is not defined",
     "output_type": "error",
     "traceback": [
      "\u001b[0;31m---------------------------------------------------------------------------\u001b[0m",
      "\u001b[0;31mNameError\u001b[0m                                 Traceback (most recent call last)",
      "Cell \u001b[0;32mIn[4], line 1\u001b[0m\n\u001b[0;32m----> 1\u001b[0m \u001b[38;5;28mprint\u001b[39m(uname())\n",
      "\u001b[0;31mNameError\u001b[0m: name 'uname' is not defined"
     ]
    }
   ],
   "source": [
    "print(uname())"
   ]
  },
  {
   "cell_type": "markdown",
   "id": "71698649-2b4c-4c27-b732-267f46c6950a",
   "metadata": {},
   "source": [
    "If you ever find yourself wanting it both ways, i.e., you want to refer to a specific function without typing the module name, but you also want access to the rest of the module, you can do that. You simply need to import in both ways. "
   ]
  },
  {
   "cell_type": "code",
   "execution_count": 5,
   "id": "58d72bcf-8c9c-417a-baca-cd5cf0c55976",
   "metadata": {},
   "outputs": [
    {
     "name": "stdout",
     "output_type": "stream",
     "text": [
      "['.ipynb_checkpoints', 'a.py', 'Command_line_inputs_with_argparse.ipynb', 'Importing_modules.ipynb', 'my_module', 'Using_your_own_module.ipynb']\n",
      "['.ipynb_checkpoints', 'a.py', 'Command_line_inputs_with_argparse.ipynb', 'Importing_modules.ipynb', 'my_module', 'Using_your_own_module.ipynb']\n",
      "posix.uname_result(sysname='Linux', nodename='Alandesktop', release='5.15.90.1-microsoft-standard-WSL2', version='#1 SMP Fri Jan 27 02:56:13 UTC 2023', machine='x86_64')\n"
     ]
    }
   ],
   "source": [
    "from os import listdir\n",
    "import os\n",
    "\n",
    "print(listdir())\n",
    "print(os.listdir())\n",
    "print(os.uname())"
   ]
  },
  {
   "cell_type": "markdown",
   "id": "877fde92-b82f-41b0-b52c-38a1adbada19",
   "metadata": {},
   "source": [
    "Finally, there is one more import syntax to cover in this section. If you wanted, you could import everything in a module straight into your script's namespace, just like we did for `listdir()` above. However, it is very uncommon for this to be a good idea and it is generally frowned upon due to the risks it creates for object names colliding (i.e., having two objects with the same name). We'll look at a simple example of this in the \"Using_your_own_module\" notebook.\n",
    "\n",
    "If you were to want to import all of a module into your script's namespace, you can do that with `from <module> import *`. i.e.,\n",
    "\n",
    "RESTART KERNEL"
   ]
  },
  {
   "cell_type": "code",
   "execution_count": 1,
   "id": "4534eaa0-bc64-451d-92df-31f71e3fd95b",
   "metadata": {},
   "outputs": [
    {
     "name": "stdout",
     "output_type": "stream",
     "text": [
      "['.ipynb_checkpoints', 'a.py', 'Command_line_inputs_with_argparse.ipynb', 'Importing_modules.ipynb', 'my_module', 'Using_your_own_module.ipynb']\n",
      "posix.uname_result(sysname='Linux', nodename='Alandesktop', release='5.15.90.1-microsoft-standard-WSL2', version='#1 SMP Fri Jan 27 02:56:13 UTC 2023', machine='x86_64')\n"
     ]
    }
   ],
   "source": [
    "from os import *\n",
    "\n",
    "print(listdir())\n",
    "print(uname())"
   ]
  },
  {
   "cell_type": "markdown",
   "id": "6d2e36f6-84ac-43ea-9866-ed31e7dc169e",
   "metadata": {},
   "source": [
    "You will likely never actually want to use every single thing in a module. Additionally, importing like above requires that you check that none of the objects have the same name as anything else in your script's namespace. It is therefore better practice to simply import a comma separated list of the things you want from each module if you would like, or just import the module and refer to the module's attributes.\n",
    "\n",
    "To import named things from a module, you can do the following.\n",
    "\n",
    "RESTART KERNEL"
   ]
  },
  {
   "cell_type": "code",
   "execution_count": 1,
   "id": "12334784-34a8-4402-8d0a-21fc00ce67de",
   "metadata": {},
   "outputs": [
    {
     "name": "stdout",
     "output_type": "stream",
     "text": [
      "['.ipynb_checkpoints', 'a.py', 'Command_line_inputs_with_argparse.ipynb', 'Importing_modules.ipynb', 'my_module', 'Using_your_own_module.ipynb']\n",
      "posix.uname_result(sysname='Linux', nodename='Alandesktop', release='5.15.90.1-microsoft-standard-WSL2', version='#1 SMP Fri Jan 27 02:56:13 UTC 2023', machine='x86_64')\n"
     ]
    }
   ],
   "source": [
    "from os import listdir, uname\n",
    "\n",
    "print(listdir())\n",
    "print(uname())"
   ]
  },
  {
   "cell_type": "markdown",
   "id": "5e8ed407-52df-48b0-9a2e-8bc580a6b1fa",
   "metadata": {},
   "source": [
    "If you find yourself importing lots of things from a module, you can split the imports over multiple lines by putting them in a tuple (they were already an implicit tuple - you could tell as they had commas between the elements)\n",
    "\n",
    "RESTART KERNEL"
   ]
  },
  {
   "cell_type": "code",
   "execution_count": 1,
   "id": "fb1a33e6-7698-4bb4-9f65-75e801b6cc7f",
   "metadata": {},
   "outputs": [
    {
     "name": "stdout",
     "output_type": "stream",
     "text": [
      "['.ipynb_checkpoints', 'a.py', 'Command_line_inputs_with_argparse.ipynb', 'Importing_modules.ipynb', 'my_module', 'Using_your_own_module.ipynb']\n",
      "posix.uname_result(sysname='Linux', nodename='Alandesktop', release='5.15.90.1-microsoft-standard-WSL2', version='#1 SMP Fri Jan 27 02:56:13 UTC 2023', machine='x86_64')\n"
     ]
    }
   ],
   "source": [
    "from os import (\n",
    "    listdir,\n",
    "    uname\n",
    ")\n",
    "\n",
    "print(listdir())\n",
    "print(uname())"
   ]
  },
  {
   "cell_type": "markdown",
   "id": "f968b43e-0499-42d6-a901-1eb2fb555df7",
   "metadata": {},
   "source": [
    "### `from X import Y as Z`\n",
    "\n",
    "Another level of control that you have over imports is the use of aliases. When importing a module or a component of the module, you can assign a different name to it (i.e., an alias). That allows you to shorten long module names, or avoid collisions between object names.\n",
    "\n",
    "RESTART KERNEL"
   ]
  },
  {
   "cell_type": "code",
   "execution_count": 1,
   "id": "be8d208a-92b5-4a5b-8c3d-5f135bcb1510",
   "metadata": {},
   "outputs": [
    {
     "name": "stdout",
     "output_type": "stream",
     "text": [
      "['.ipynb_checkpoints', 'a.py', 'Command_line_inputs_with_argparse.ipynb', 'Importing_modules.ipynb', 'my_module', 'Using_your_own_module.ipynb']\n"
     ]
    }
   ],
   "source": [
    "from os import listdir as os_listdir\n",
    "\n",
    "print(os_listdir())"
   ]
  },
  {
   "cell_type": "markdown",
   "id": "10c38493-5468-42be-88be-69d8234e0788",
   "metadata": {},
   "source": [
    "In addition to using aliases for your own convenience, some packages are always abbreviated using an alias as a matter of style. For example, `import numpy as np; import pandas as pd; import matplotlib.pyplot as plt; import seaborn as sns`\n",
    "\n",
    "While aliases can be used to avoid collisions between imported objects, you should be careful that you can also create such conflicts."
   ]
  },
  {
   "cell_type": "code",
   "execution_count": 2,
   "id": "6d1615d4-36a1-4918-8b05-084de1d2f52f",
   "metadata": {},
   "outputs": [
    {
     "ename": "FileNotFoundError",
     "evalue": "[Errno 2] No such file or directory: 'hello'",
     "output_type": "error",
     "traceback": [
      "\u001b[0;31m---------------------------------------------------------------------------\u001b[0m",
      "\u001b[0;31mFileNotFoundError\u001b[0m                         Traceback (most recent call last)",
      "Cell \u001b[0;32mIn[2], line 3\u001b[0m\n\u001b[1;32m      1\u001b[0m \u001b[38;5;28;01mfrom\u001b[39;00m \u001b[38;5;21;01mos\u001b[39;00m \u001b[38;5;28;01mimport\u001b[39;00m listdir \u001b[38;5;28;01mas\u001b[39;00m \u001b[38;5;28mprint\u001b[39m\n\u001b[0;32m----> 3\u001b[0m \u001b[38;5;28mprint\u001b[39m(\u001b[38;5;124m\"\u001b[39m\u001b[38;5;124mhello\u001b[39m\u001b[38;5;124m\"\u001b[39m)\n",
      "\u001b[0;31mFileNotFoundError\u001b[0m: [Errno 2] No such file or directory: 'hello'"
     ]
    }
   ],
   "source": [
    "from os import listdir as print\n",
    "\n",
    "print(\"hello\")"
   ]
  },
  {
   "cell_type": "markdown",
   "id": "a8c5ca0e-ce22-4edc-b912-3c76828680f9",
   "metadata": {},
   "source": [
    "As you see in the above error, our import alias has replaced the built-in `print()` function. Not only does this mean we no longer have access to `print()` in our script, it also makes any code we write difficult to understand. Any time we use `print()` as an alias for `os.listdir()`, a reader of our code might reasonably misunderstand what we are doing and think that we are instead using `print()`. For both those reasons, you should be careful to avoid collisions between object names."
   ]
  }
 ],
 "metadata": {
  "kernelspec": {
   "display_name": "Python 3 (ipykernel)",
   "language": "python",
   "name": "python3"
  },
  "language_info": {
   "codemirror_mode": {
    "name": "ipython",
    "version": 3
   },
   "file_extension": ".py",
   "mimetype": "text/x-python",
   "name": "python",
   "nbconvert_exporter": "python",
   "pygments_lexer": "ipython3",
   "version": "3.11.5"
  }
 },
 "nbformat": 4,
 "nbformat_minor": 5
}
